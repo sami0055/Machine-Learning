{
 "cells": [
  {
   "cell_type": "markdown",
   "id": "2ef2f8af",
   "metadata": {},
   "source": [
    "# OOP in Python(Encapsulation and Static Keyword)\n",
    "🦊 `Notebook by` [Md.Samiul Alim](https://github.com/sami0055)\n",
    "\n",
    "😋  `Machine Learning Source Codes` [GitHub](https://github.com/sami0055/Machine-Learning)"
   ]
  },
  {
   "cell_type": "code",
   "execution_count": 53,
   "id": "8f3454df",
   "metadata": {},
   "outputs": [],
   "source": [
    "class Point:\n",
    "    def __init__(self,x,y):\n",
    "        self.x_cod=x\n",
    "        self.y_cod=y\n",
    "    def __str__(self):\n",
    "        return '<{},{}>'.format(self.x_cod,self.y_cod)\n",
    "    \n",
    "    def euclidean_distance(self,other):\n",
    "        return ((self.x_cod-other.x_cod)**2+ (self.y_cod-other.y_cod)**2)**0.5\n",
    "    def distance_from_orgin(self):\n",
    "        return self.euclidean_distance(Point(0,0))\n",
    "class Line:\n",
    "    def __init__(self,A,B,C):\n",
    "        self.A=A\n",
    "        self.B=B\n",
    "        self.C=C\n",
    "    def __str__(self):\n",
    "        return '{}x+{}y+c'.format(self.A,self.B,self.C)\n",
    "    def point_on_line(line,point):\n",
    "        if line.A*point.x_cod+line.B*point.y_cod+line.C==0:\n",
    "            return \"Point on the line\"\n",
    "        else:\n",
    "            return \"point not on the line\""
   ]
  },
  {
   "cell_type": "code",
   "execution_count": 54,
   "id": "4d2073e5",
   "metadata": {},
   "outputs": [
    {
     "name": "stdout",
     "output_type": "stream",
     "text": [
      "<2,2>\n"
     ]
    }
   ],
   "source": [
    "p1=Point(2,2)\n",
    "p2=Point(10,10)\n",
    "print(p1)"
   ]
  },
  {
   "cell_type": "code",
   "execution_count": 55,
   "id": "1aac38c7",
   "metadata": {},
   "outputs": [
    {
     "name": "stdout",
     "output_type": "stream",
     "text": [
      "<10,10>\n"
     ]
    }
   ],
   "source": [
    "print(p2)"
   ]
  },
  {
   "cell_type": "code",
   "execution_count": 56,
   "id": "0f809492",
   "metadata": {},
   "outputs": [
    {
     "data": {
      "text/plain": [
       "11.313708498984761"
      ]
     },
     "execution_count": 56,
     "metadata": {},
     "output_type": "execute_result"
    }
   ],
   "source": [
    "p1.euclidean_distance(p2)"
   ]
  },
  {
   "cell_type": "code",
   "execution_count": 57,
   "id": "fd2f8843",
   "metadata": {},
   "outputs": [
    {
     "data": {
      "text/plain": [
       "2.8284271247461903"
      ]
     },
     "execution_count": 57,
     "metadata": {},
     "output_type": "execute_result"
    }
   ],
   "source": [
    "p1.distance_from_orgin()"
   ]
  },
  {
   "cell_type": "code",
   "execution_count": 58,
   "id": "b1c94d12",
   "metadata": {},
   "outputs": [],
   "source": [
    "L1=Line(2,3,4)"
   ]
  },
  {
   "cell_type": "code",
   "execution_count": 59,
   "id": "43b3f632",
   "metadata": {},
   "outputs": [
    {
     "name": "stdout",
     "output_type": "stream",
     "text": [
      "2x+3y+c\n"
     ]
    }
   ],
   "source": [
    "print(L1)"
   ]
  },
  {
   "cell_type": "code",
   "execution_count": 60,
   "id": "8cd7a7fd",
   "metadata": {},
   "outputs": [
    {
     "data": {
      "text/plain": [
       "'point not on the line'"
      ]
     },
     "execution_count": 60,
     "metadata": {},
     "output_type": "execute_result"
    }
   ],
   "source": [
    "L1.point_on_line(p1)"
   ]
  },
  {
   "cell_type": "markdown",
   "id": "853d272b",
   "metadata": {},
   "source": [
    "### How objects access attributes"
   ]
  },
  {
   "cell_type": "code",
   "execution_count": 61,
   "id": "31b44dc3",
   "metadata": {},
   "outputs": [],
   "source": [
    "class Person:\n",
    "    def __init__(self,name_input,country_input):\n",
    "        self.name=name_input\n",
    "        self.country=country_input\n",
    "    def greet(self):\n",
    "        if self.country=='india':\n",
    "            print(\"Namste\",self.name)\n",
    "        else:\n",
    "            print(\"Hello\",self.name)"
   ]
  },
  {
   "cell_type": "code",
   "execution_count": 62,
   "id": "1f53f1a3",
   "metadata": {},
   "outputs": [],
   "source": [
    "p=Person(\"Sami\",\"Dhaka\")"
   ]
  },
  {
   "cell_type": "code",
   "execution_count": 63,
   "id": "5835b4d1",
   "metadata": {},
   "outputs": [
    {
     "data": {
      "text/plain": [
       "'Sami'"
      ]
     },
     "execution_count": 63,
     "metadata": {},
     "output_type": "execute_result"
    }
   ],
   "source": [
    "p.name"
   ]
  },
  {
   "cell_type": "code",
   "execution_count": 64,
   "id": "961bd128",
   "metadata": {},
   "outputs": [
    {
     "name": "stdout",
     "output_type": "stream",
     "text": [
      "Hello Sami\n"
     ]
    }
   ],
   "source": [
    "p.greet()"
   ]
  },
  {
   "cell_type": "code",
   "execution_count": 65,
   "id": "8316cd1b",
   "metadata": {},
   "outputs": [
    {
     "ename": "AttributeError",
     "evalue": "'Person' object has no attribute 'gender'",
     "output_type": "error",
     "traceback": [
      "\u001b[1;31m---------------------------------------------------------------------------\u001b[0m",
      "\u001b[1;31mAttributeError\u001b[0m                            Traceback (most recent call last)",
      "Cell \u001b[1;32mIn[65], line 2\u001b[0m\n\u001b[0;32m      1\u001b[0m \u001b[38;5;66;03m# what if i try to access non-existent attributes\u001b[39;00m\n\u001b[1;32m----> 2\u001b[0m \u001b[43mp\u001b[49m\u001b[38;5;241;43m.\u001b[39;49m\u001b[43mgender\u001b[49m\n",
      "\u001b[1;31mAttributeError\u001b[0m: 'Person' object has no attribute 'gender'"
     ]
    }
   ],
   "source": [
    "# what if i try to access non-existent attributes\n",
    "p.gender"
   ]
  },
  {
   "cell_type": "markdown",
   "id": "e645d8d5",
   "metadata": {},
   "source": [
    "### Attribute creation from outside of the class"
   ]
  },
  {
   "cell_type": "code",
   "execution_count": 66,
   "id": "7b91c88c",
   "metadata": {},
   "outputs": [],
   "source": [
    "p.gender = 'male'"
   ]
  },
  {
   "cell_type": "code",
   "execution_count": 67,
   "id": "6c7976ba",
   "metadata": {},
   "outputs": [
    {
     "data": {
      "text/plain": [
       "'male'"
      ]
     },
     "execution_count": 67,
     "metadata": {},
     "output_type": "execute_result"
    }
   ],
   "source": [
    "p.gender"
   ]
  },
  {
   "cell_type": "markdown",
   "id": "eff745d1",
   "metadata": {},
   "source": [
    "### Pass by reference"
   ]
  },
  {
   "cell_type": "code",
   "execution_count": 68,
   "id": "71247924",
   "metadata": {},
   "outputs": [
    {
     "name": "stdout",
     "output_type": "stream",
     "text": [
      "Hi my name is nitish and I am a male\n",
      "ankit\n",
      "male\n"
     ]
    }
   ],
   "source": [
    "class Person:\n",
    "\n",
    "    def __init__(self,name,gender):\n",
    "        self.name = name\n",
    "        self.gender = gender\n",
    "\n",
    "# outside the class -> function\n",
    "    def greet(person):\n",
    "        print('Hi my name is',person.name,'and I am a',person.gender)\n",
    "        p1 = Person('ankit','male')\n",
    "        return p1\n",
    "\n",
    "p = Person('nitish','male')\n",
    "x = greet(p)\n",
    "print(x.name)\n",
    "print(x.gender)"
   ]
  },
  {
   "cell_type": "markdown",
   "id": "c1bbb84c",
   "metadata": {},
   "source": [
    "# Encapsulation"
   ]
  },
  {
   "cell_type": "code",
   "execution_count": 19,
   "id": "ab56a215",
   "metadata": {},
   "outputs": [],
   "source": [
    "class Atm:\n",
    "    \n",
    "    __counter=1 #static private variable which is also known as variable of class\n",
    "    #constructor\n",
    "    def __init__(self):\n",
    "        self.pin=''\n",
    "        self.__balance=0\n",
    "        self.cid=Atm.__counter\n",
    "        Atm.__counter=Atm.__counter+1\n",
    "        print(\"Executed\")\n",
    "       # self.menu()\n",
    "    @staticmethod\n",
    "    def get_counter():\n",
    "        return Atm.__counter\n",
    "    def get_balance(self):\n",
    "        return self.__balance\n",
    "    def set_balance(self,new_value):\n",
    "        if type(new_value)==int:\n",
    "            self.__balance=new_value\n",
    "        else:\n",
    "            print(\"Wrong format\")\n",
    "    def menu(self):\n",
    "        user_input = input(\"\"\"\n",
    "    Hi how can I help you?\n",
    "    1. Press 1 to create pin\n",
    "    2. Press 2 to change pin\n",
    "    3. Press 3 to check balance\n",
    "    4. Press 4 to withdraw\n",
    "    5. Anything else to exit\n",
    "    \"\"\")\n",
    "\n",
    "        if user_input == '1':\n",
    "            self.create_pin()\n",
    "        elif user_input == '2':\n",
    "            self.change_pin()\n",
    "        elif user_input == '3':\n",
    "            self.check_balance()\n",
    "        elif user_input == '4':\n",
    "            self.withdraw()\n",
    "        else:\n",
    "            exit()\n",
    "        \n",
    "    def create_pin(self):\n",
    "        user_pin=input(\"enter your pin\")\n",
    "        self.pin=user_pin\n",
    "            \n",
    "        user_bal=int(input(\"enter balance\"))\n",
    "        self.__balance=user_bal\n",
    "            \n",
    "        print(\"Pin created Successfully\")\n",
    "\n",
    "        \n",
    "    def change_pin(self):\n",
    "        old_pin=input(\"ente old pin\")\n",
    "        \n",
    "        if old_pin==self.pin:\n",
    "            new_pin=input(\"enter new pin\")\n",
    "            self.pin=new_pin\n",
    "            print(\"pin change successfully\")\n",
    "    \n",
    "        else:\n",
    "            print(\"Wrong pass\")\n",
    "       \n",
    "    def check_balance(self):\n",
    "        user_pin=input(\"Enter your pin\")\n",
    "        if user_pin==self.pin:\n",
    "            print(\"Your balance is\",self.__balance)\n",
    "        else:\n",
    "            print(\"wrong pass\")\n",
    "      \n",
    "    def withdraw(self):\n",
    "        user_pin=input(\"enter the pin\")\n",
    "        if user_pin ==self.pin:\n",
    "            amount=int(input(\"enter the amount\"))\n",
    "            if amount<=self.__balance:\n",
    "                self.__balance=self.__balance-amount\n",
    "                print(\"Withdrawl successfull, balance is \",self.__balance)\n",
    "            else:\n",
    "                print(\"Enter correct amount\")\n",
    "                \n",
    "        else:\n",
    "            print(\"Wrong pass\")\n"
   ]
  },
  {
   "cell_type": "code",
   "execution_count": 20,
   "id": "e8c6eb82",
   "metadata": {},
   "outputs": [
    {
     "name": "stdout",
     "output_type": "stream",
     "text": [
      "Executed\n",
      "Executed\n"
     ]
    }
   ],
   "source": [
    "obj=Atm()\n",
    "obj2=Atm()"
   ]
  },
  {
   "cell_type": "code",
   "execution_count": 21,
   "id": "c310615e",
   "metadata": {},
   "outputs": [
    {
     "data": {
      "text/plain": [
       "0"
      ]
     },
     "execution_count": 21,
     "metadata": {},
     "output_type": "execute_result"
    }
   ],
   "source": [
    "obj.get_balance()"
   ]
  },
  {
   "cell_type": "code",
   "execution_count": 22,
   "id": "a994e345",
   "metadata": {},
   "outputs": [],
   "source": [
    "obj.set_balance(1111)"
   ]
  },
  {
   "cell_type": "code",
   "execution_count": 23,
   "id": "a1acc0ff",
   "metadata": {},
   "outputs": [
    {
     "data": {
      "text/plain": [
       "1111"
      ]
     },
     "execution_count": 23,
     "metadata": {},
     "output_type": "execute_result"
    }
   ],
   "source": [
    "obj.get_balance()"
   ]
  },
  {
   "cell_type": "code",
   "execution_count": 24,
   "id": "5e9dee42",
   "metadata": {},
   "outputs": [
    {
     "data": {
      "text/plain": [
       "3"
      ]
     },
     "execution_count": 24,
     "metadata": {},
     "output_type": "execute_result"
    }
   ],
   "source": [
    "#obj.withdraw()\n",
    "obj2.cid\n",
    "Atm.get_counter()"
   ]
  },
  {
   "cell_type": "code",
   "execution_count": null,
   "id": "a322ecf6",
   "metadata": {},
   "outputs": [],
   "source": []
  }
 ],
 "metadata": {
  "kernelspec": {
   "display_name": "Python 3 (ipykernel)",
   "language": "python",
   "name": "python3"
  },
  "language_info": {
   "codemirror_mode": {
    "name": "ipython",
    "version": 3
   },
   "file_extension": ".py",
   "mimetype": "text/x-python",
   "name": "python",
   "nbconvert_exporter": "python",
   "pygments_lexer": "ipython3",
   "version": "3.11.4"
  }
 },
 "nbformat": 4,
 "nbformat_minor": 5
}
