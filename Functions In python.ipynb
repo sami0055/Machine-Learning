{
 "cells": [
  {
   "cell_type": "markdown",
   "id": "58c78668",
   "metadata": {},
   "source": [
    "# Let's create function (with docstring)"
   ]
  },
  {
   "cell_type": "code",
   "execution_count": 6,
   "id": "27762e71",
   "metadata": {},
   "outputs": [],
   "source": [
    "def is_even(num):\n",
    "    \"\"\"\n",
    "    This func return if a given number is odd or even \n",
    "    input andy valid integer\n",
    "    out odd/even\n",
    "    \"\"\"\n",
    "    if type(num)==int:\n",
    "        if num%2==0:\n",
    "            return \"even\"\n",
    "        else:\n",
    "            return \"odd\"\n",
    "     \n",
    "    else:\n",
    "        print(\"Not a valid number\")"
   ]
  },
  {
   "cell_type": "code",
   "execution_count": 19,
   "id": "1f0be873",
   "metadata": {},
   "outputs": [
    {
     "name": "stdout",
     "output_type": "stream",
     "text": [
      "Not a valid number\n",
      "None\n"
     ]
    }
   ],
   "source": [
    "print(is_even(\"sami\"))"
   ]
  },
  {
   "cell_type": "code",
   "execution_count": 20,
   "id": "c8506ff4",
   "metadata": {},
   "outputs": [
    {
     "name": "stdout",
     "output_type": "stream",
     "text": [
      "\n",
      "    This func return if a given number is odd or even \n",
      "    input andy valid integer\n",
      "    out odd/even\n",
      "    \n"
     ]
    }
   ],
   "source": [
    "# Access Documentation of functions\n",
    "print(is_even.__doc__)"
   ]
  },
  {
   "cell_type": "code",
   "execution_count": 10,
   "id": "9efe4ad2",
   "metadata": {},
   "outputs": [
    {
     "name": "stdout",
     "output_type": "stream",
     "text": [
      "odd\n",
      "even\n",
      "odd\n",
      "even\n",
      "odd\n",
      "even\n",
      "odd\n",
      "even\n",
      "odd\n",
      "even\n"
     ]
    }
   ],
   "source": [
    "for i in range(1,11):\n",
    "    x=is_even(i)\n",
    "    print(x)"
   ]
  },
  {
   "cell_type": "markdown",
   "id": "993f514c",
   "metadata": {},
   "source": [
    "# Types of Arguments\n",
    "* Default\n",
    "* Positional Argument\n",
    "* Keyword Argument"
   ]
  },
  {
   "cell_type": "code",
   "execution_count": 13,
   "id": "39fd1671",
   "metadata": {},
   "outputs": [
    {
     "name": "stdout",
     "output_type": "stream",
     "text": [
      "8\n",
      "2\n",
      "1\n"
     ]
    }
   ],
   "source": [
    "# Default argument\n",
    "def power(a=1,b=1):\n",
    "    return a**b\n",
    "\n",
    "print(power(2,3))\n",
    "print(power(2))\n",
    "print(power())"
   ]
  },
  {
   "cell_type": "code",
   "execution_count": 14,
   "id": "82f06a28",
   "metadata": {},
   "outputs": [
    {
     "data": {
      "text/plain": [
       "8"
      ]
     },
     "execution_count": 14,
     "metadata": {},
     "output_type": "execute_result"
    }
   ],
   "source": [
    "# Positional Argument\n",
    "power(2,3)"
   ]
  },
  {
   "cell_type": "code",
   "execution_count": 15,
   "id": "85cbabb4",
   "metadata": {},
   "outputs": [
    {
     "data": {
      "text/plain": [
       "8"
      ]
     },
     "execution_count": 15,
     "metadata": {},
     "output_type": "execute_result"
    }
   ],
   "source": [
    "#keyword argument\n",
    "power(b=3,a=2)"
   ]
  },
  {
   "cell_type": "markdown",
   "id": "83f03234",
   "metadata": {},
   "source": [
    "# args and kwargs"
   ]
  },
  {
   "cell_type": "code",
   "execution_count": 18,
   "id": "eeb01754",
   "metadata": {},
   "outputs": [
    {
     "name": "stdout",
     "output_type": "stream",
     "text": [
      "(1, 2, 3, 4, 5)\n"
     ]
    },
    {
     "data": {
      "text/plain": [
       "120"
      ]
     },
     "execution_count": 18,
     "metadata": {},
     "output_type": "execute_result"
    }
   ],
   "source": [
    "# *args\n",
    "# it allows us to pass a variable number of non-keyword argument to a function\n",
    "def multiply(*args):\n",
    "    product=1\n",
    "    for i in args:\n",
    "        product=product*i\n",
    "    print(args) #Tuple\n",
    "    return product\n",
    "    \n",
    "\n",
    "multiply(1,2,3,4,5)"
   ]
  },
  {
   "cell_type": "code",
   "execution_count": null,
   "id": "f5637be9",
   "metadata": {},
   "outputs": [],
   "source": [
    "# **kwargs\n",
    "# **kwargs allows us to pass any number of keyword arguments\n",
    "# Keyword arguments mean that they contain a key-value pair, like a python dictionary\n",
    "def "
   ]
  },
  {
   "cell_type": "code",
   "execution_count": 21,
   "id": "fb5912e9",
   "metadata": {},
   "outputs": [],
   "source": [
    "def display(**kwargs):\n",
    "    for (key,value) in kwargs.items():\n",
    "        print(key,value)\n",
    "\n"
   ]
  },
  {
   "cell_type": "code",
   "execution_count": 23,
   "id": "14bb499d",
   "metadata": {},
   "outputs": [
    {
     "name": "stdout",
     "output_type": "stream",
     "text": [
      "india delhi\n",
      "srilanka colombo\n",
      "bd dhaka\n"
     ]
    }
   ],
   "source": [
    "display(india='delhi',srilanka='colombo',bd='dhaka')"
   ]
  },
  {
   "cell_type": "markdown",
   "id": "70814d96",
   "metadata": {},
   "source": [
    "# Variable Scope"
   ]
  },
  {
   "cell_type": "code",
   "execution_count": 24,
   "id": "d15795c3",
   "metadata": {},
   "outputs": [
    {
     "name": "stdout",
     "output_type": "stream",
     "text": [
      "5\n",
      "6\n",
      "5\n"
     ]
    }
   ],
   "source": [
    "def g(y):\n",
    "    print(x)\n",
    "    print(x+1)\n",
    "x=5\n",
    "g(x)\n",
    "print(x)"
   ]
  },
  {
   "cell_type": "code",
   "execution_count": 25,
   "id": "39f1e173",
   "metadata": {},
   "outputs": [
    {
     "name": "stdout",
     "output_type": "stream",
     "text": [
      "2\n",
      "5\n"
     ]
    }
   ],
   "source": [
    "def f(y):\n",
    "    x=1\n",
    "    x+=1\n",
    "    print(x)\n",
    "x=5\n",
    "f(x)\n",
    "print(x)"
   ]
  },
  {
   "cell_type": "code",
   "execution_count": 26,
   "id": "76ddc1c7",
   "metadata": {},
   "outputs": [
    {
     "ename": "UnboundLocalError",
     "evalue": "cannot access local variable 'x' where it is not associated with a value",
     "output_type": "error",
     "traceback": [
      "\u001b[1;31m---------------------------------------------------------------------------\u001b[0m",
      "\u001b[1;31mUnboundLocalError\u001b[0m                         Traceback (most recent call last)",
      "Cell \u001b[1;32mIn[26], line 4\u001b[0m\n\u001b[0;32m      2\u001b[0m     x\u001b[38;5;241m+\u001b[39m\u001b[38;5;241m=\u001b[39m\u001b[38;5;241m1\u001b[39m\n\u001b[0;32m      3\u001b[0m x\u001b[38;5;241m=\u001b[39m\u001b[38;5;241m5\u001b[39m\n\u001b[1;32m----> 4\u001b[0m \u001b[43mh\u001b[49m\u001b[43m(\u001b[49m\u001b[43mx\u001b[49m\u001b[43m)\u001b[49m\n\u001b[0;32m      5\u001b[0m \u001b[38;5;28mprint\u001b[39m(x)\n",
      "Cell \u001b[1;32mIn[26], line 2\u001b[0m, in \u001b[0;36mh\u001b[1;34m(y)\u001b[0m\n\u001b[0;32m      1\u001b[0m \u001b[38;5;28;01mdef\u001b[39;00m \u001b[38;5;21mh\u001b[39m(y):\n\u001b[1;32m----> 2\u001b[0m     \u001b[43mx\u001b[49m\u001b[38;5;241m+\u001b[39m\u001b[38;5;241m=\u001b[39m\u001b[38;5;241m1\u001b[39m\n",
      "\u001b[1;31mUnboundLocalError\u001b[0m: cannot access local variable 'x' where it is not associated with a value"
     ]
    }
   ],
   "source": [
    "def h(y):\n",
    "    x+=1\n",
    "x=5\n",
    "h(x)\n",
    "print(x)\n",
    "# We cant change global variable in local function"
   ]
  },
  {
   "cell_type": "code",
   "execution_count": 27,
   "id": "9184f50f",
   "metadata": {},
   "outputs": [
    {
     "name": "stdout",
     "output_type": "stream",
     "text": [
      "in f(x): x=  4\n",
      "in main program scope z=  4\n",
      "in main program scope x=  3\n"
     ]
    }
   ],
   "source": [
    "def f(x):\n",
    "    x=x+1\n",
    "    print(\"in f(x): x= \",x)\n",
    "    return x\n",
    "x=3\n",
    "z=f(x)\n",
    "print(\"in main program scope z= \",z)\n",
    "print(\"in main program scope x= \",x)"
   ]
  },
  {
   "cell_type": "code",
   "execution_count": 28,
   "id": "bc1b1ee4",
   "metadata": {},
   "outputs": [
    {
     "name": "stdout",
     "output_type": "stream",
     "text": [
      "6\n"
     ]
    }
   ],
   "source": [
    "def h(y):\n",
    "    global x\n",
    "    x+=1\n",
    "x=5\n",
    "h(x)\n",
    "print(x)\n",
    "# We can change global variable in local function by keyword global"
   ]
  },
  {
   "cell_type": "markdown",
   "id": "20211844",
   "metadata": {},
   "source": [
    "### Functions are 1st class citizens"
   ]
  },
  {
   "cell_type": "code",
   "execution_count": 35,
   "id": "1767ed7f",
   "metadata": {},
   "outputs": [
    {
     "name": "stdout",
     "output_type": "stream",
     "text": [
      "<class 'function'>\n"
     ]
    },
    {
     "data": {
      "text/plain": [
       "2412040517920"
      ]
     },
     "execution_count": 35,
     "metadata": {},
     "output_type": "execute_result"
    }
   ],
   "source": [
    "#that means func work like a variable in python\n",
    "def square(num):\n",
    "    return num**2\n",
    "print(type(square))\n",
    "id(square)"
   ]
  },
  {
   "cell_type": "code",
   "execution_count": 36,
   "id": "02134af9",
   "metadata": {},
   "outputs": [
    {
     "data": {
      "text/plain": [
       "2412040517920"
      ]
     },
     "execution_count": 36,
     "metadata": {},
     "output_type": "execute_result"
    }
   ],
   "source": [
    "x=square\n",
    "id(x)"
   ]
  },
  {
   "cell_type": "code",
   "execution_count": 37,
   "id": "8bf3e7cd",
   "metadata": {},
   "outputs": [
    {
     "data": {
      "text/plain": [
       "9"
      ]
     },
     "execution_count": 37,
     "metadata": {},
     "output_type": "execute_result"
    }
   ],
   "source": [
    "x(3)"
   ]
  },
  {
   "cell_type": "code",
   "execution_count": 33,
   "id": "2a997d4b",
   "metadata": {},
   "outputs": [
    {
     "ename": "NameError",
     "evalue": "name 'square' is not defined",
     "output_type": "error",
     "traceback": [
      "\u001b[1;31m---------------------------------------------------------------------------\u001b[0m",
      "\u001b[1;31mNameError\u001b[0m                                 Traceback (most recent call last)",
      "Cell \u001b[1;32mIn[33], line 3\u001b[0m\n\u001b[0;32m      1\u001b[0m \u001b[38;5;66;03m#deleting func\u001b[39;00m\n\u001b[0;32m      2\u001b[0m \u001b[38;5;28;01mdel\u001b[39;00m square\n\u001b[1;32m----> 3\u001b[0m \u001b[43msquare\u001b[49m(\u001b[38;5;241m3\u001b[39m)\n",
      "\u001b[1;31mNameError\u001b[0m: name 'square' is not defined"
     ]
    }
   ],
   "source": [
    "#deleting func\n",
    "del square\n",
    "square(3)"
   ]
  },
  {
   "cell_type": "code",
   "execution_count": 38,
   "id": "11958529",
   "metadata": {},
   "outputs": [],
   "source": [
    "L=[1,2,3,square]"
   ]
  },
  {
   "cell_type": "code",
   "execution_count": 39,
   "id": "43863ccb",
   "metadata": {},
   "outputs": [
    {
     "data": {
      "text/plain": [
       "9"
      ]
     },
     "execution_count": 39,
     "metadata": {},
     "output_type": "execute_result"
    }
   ],
   "source": [
    "L[-1](3)"
   ]
  },
  {
   "cell_type": "code",
   "execution_count": 40,
   "id": "14c64ae9",
   "metadata": {},
   "outputs": [],
   "source": [
    "s={square}"
   ]
  },
  {
   "cell_type": "code",
   "execution_count": 41,
   "id": "d62726e7",
   "metadata": {},
   "outputs": [
    {
     "data": {
      "text/plain": [
       "{<function __main__.square(num)>}"
      ]
     },
     "execution_count": 41,
     "metadata": {},
     "output_type": "execute_result"
    }
   ],
   "source": [
    "s"
   ]
  },
  {
   "cell_type": "code",
   "execution_count": 42,
   "id": "8a16d1c6",
   "metadata": {},
   "outputs": [],
   "source": [
    "#funct are immutable"
   ]
  },
  {
   "cell_type": "markdown",
   "id": "78003258",
   "metadata": {},
   "source": [
    "# Lambda Function"
   ]
  },
  {
   "cell_type": "code",
   "execution_count": 43,
   "id": "9bb91d99",
   "metadata": {},
   "outputs": [
    {
     "data": {
      "text/plain": [
       "9"
      ]
     },
     "execution_count": 43,
     "metadata": {},
     "output_type": "execute_result"
    }
   ],
   "source": [
    "a=lambda x:x**2\n",
    "a(3)"
   ]
  },
  {
   "cell_type": "code",
   "execution_count": 44,
   "id": "6c7337dc",
   "metadata": {},
   "outputs": [
    {
     "data": {
      "text/plain": [
       "7"
      ]
     },
     "execution_count": 44,
     "metadata": {},
     "output_type": "execute_result"
    }
   ],
   "source": [
    "a=lambda x,y:x+y\n",
    "a(3,4)"
   ]
  },
  {
   "cell_type": "code",
   "execution_count": 45,
   "id": "bac30640",
   "metadata": {},
   "outputs": [
    {
     "data": {
      "text/plain": [
       "True"
      ]
     },
     "execution_count": 45,
     "metadata": {},
     "output_type": "execute_result"
    }
   ],
   "source": [
    "a=lambda s:'a' in s\n",
    "a('sami')"
   ]
  },
  {
   "cell_type": "code",
   "execution_count": 47,
   "id": "19156aae",
   "metadata": {},
   "outputs": [
    {
     "data": {
      "text/plain": [
       "'even'"
      ]
     },
     "execution_count": 47,
     "metadata": {},
     "output_type": "execute_result"
    }
   ],
   "source": [
    "a=lambda x:'even' if x%2==0 else 'odd'\n",
    "a(2)"
   ]
  },
  {
   "cell_type": "code",
   "execution_count": null,
   "id": "56620671",
   "metadata": {},
   "outputs": [],
   "source": []
  }
 ],
 "metadata": {
  "kernelspec": {
   "display_name": "Python 3 (ipykernel)",
   "language": "python",
   "name": "python3"
  },
  "language_info": {
   "codemirror_mode": {
    "name": "ipython",
    "version": 3
   },
   "file_extension": ".py",
   "mimetype": "text/x-python",
   "name": "python",
   "nbconvert_exporter": "python",
   "pygments_lexer": "ipython3",
   "version": "3.11.4"
  }
 },
 "nbformat": 4,
 "nbformat_minor": 5
}
