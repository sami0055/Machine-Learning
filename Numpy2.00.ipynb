{
 "cells": [
  {
   "cell_type": "markdown",
   "id": "f34fce46",
   "metadata": {},
   "source": [
    "## Import NumPy\n",
    "Once NumPy is installed, import it in your applications by adding the import keyword: import numpy"
   ]
  },
  {
   "cell_type": "code",
   "execution_count": 1,
   "id": "dcf9cfbb",
   "metadata": {},
   "outputs": [],
   "source": [
    "import numpy as np"
   ]
  },
  {
   "cell_type": "markdown",
   "id": "b51b13d1",
   "metadata": {},
   "source": [
    "## NumPy Creating Arrays"
   ]
  },
  {
   "cell_type": "code",
   "execution_count": 5,
   "id": "d740e234",
   "metadata": {},
   "outputs": [
    {
     "name": "stdout",
     "output_type": "stream",
     "text": [
      "[1 2 3 4 5]\n",
      "<class 'numpy.ndarray'>\n",
      "int32\n"
     ]
    }
   ],
   "source": [
    "arr=np.array([1,2,3,4,5])\n",
    "print(arr)\n",
    "print(type(arr))\n",
    "print(arr.dtype)"
   ]
  },
  {
   "cell_type": "markdown",
   "id": "3bda3176",
   "metadata": {},
   "source": [
    "## Checking NumPy Version\n"
   ]
  },
  {
   "cell_type": "code",
   "execution_count": 3,
   "id": "0c141862",
   "metadata": {},
   "outputs": [
    {
     "name": "stdout",
     "output_type": "stream",
     "text": [
      "1.24.3\n"
     ]
    }
   ],
   "source": [
    "print(np.__version__)"
   ]
  },
  {
   "cell_type": "markdown",
   "id": "6f9eed5d",
   "metadata": {},
   "source": [
    "## Dimensions in Arrays"
   ]
  },
  {
   "cell_type": "code",
   "execution_count": 7,
   "id": "94f95c22",
   "metadata": {},
   "outputs": [
    {
     "name": "stdout",
     "output_type": "stream",
     "text": [
      "34\n",
      "0\n"
     ]
    }
   ],
   "source": [
    "# 0-D Array\n",
    "arr=np.array(34)\n",
    "print(arr)\n",
    "print(arr.ndim)"
   ]
  },
  {
   "cell_type": "code",
   "execution_count": 14,
   "id": "3da0c7f1",
   "metadata": {},
   "outputs": [
    {
     "name": "stdout",
     "output_type": "stream",
     "text": [
      "1\n"
     ]
    }
   ],
   "source": [
    "#1-D array\n",
    "arr1=np.array([1,2,3,4])\n",
    "print(arr1.ndim)"
   ]
  },
  {
   "cell_type": "code",
   "execution_count": 11,
   "id": "bcefee00",
   "metadata": {},
   "outputs": [
    {
     "name": "stdout",
     "output_type": "stream",
     "text": [
      "[[1 2 3]\n",
      " [4 5 6]]\n",
      "2\n"
     ]
    }
   ],
   "source": [
    "#2-D array\n",
    "arr2=np.array([[1,2,3],[4,5,6]])\n",
    "print(arr2)\n",
    "print(arr2.ndim)"
   ]
  },
  {
   "cell_type": "code",
   "execution_count": 12,
   "id": "edab911a",
   "metadata": {},
   "outputs": [
    {
     "name": "stdout",
     "output_type": "stream",
     "text": [
      "[[[ 1  2  3]\n",
      "  [ 4  5  6]]\n",
      "\n",
      " [[ 7  8  9]\n",
      "  [11 12 13]]]\n",
      "3\n"
     ]
    }
   ],
   "source": [
    "#3-D array\n",
    "arr3=np.array([[[1,2,3],[4,5,6]],[[7,8,9],[11,12,13]]])\n",
    "print(arr3)\n",
    "print(arr3.ndim)"
   ]
  },
  {
   "cell_type": "markdown",
   "id": "d4479b2e",
   "metadata": {},
   "source": [
    "## NumPy Array Shape"
   ]
  },
  {
   "cell_type": "code",
   "execution_count": 15,
   "id": "41b6ba01",
   "metadata": {},
   "outputs": [
    {
     "name": "stdout",
     "output_type": "stream",
     "text": [
      "(4,)\n",
      "(4,)\n",
      "(2, 3)\n",
      "(2, 2, 3)\n"
     ]
    }
   ],
   "source": [
    "print(arr.shape)\n",
    "print(arr1.shape)\n",
    "print(arr2.shape)\n",
    "print(arr3.shape)\n"
   ]
  },
  {
   "cell_type": "markdown",
   "id": "66c8d1d4",
   "metadata": {},
   "source": [
    "## Numpy Reshape"
   ]
  },
  {
   "cell_type": "code",
   "execution_count": 24,
   "id": "1c7382c0",
   "metadata": {},
   "outputs": [
    {
     "name": "stdout",
     "output_type": "stream",
     "text": [
      "[1 2 3 4 5 6]\n",
      "[[1 2 3]\n",
      " [4 5 6]]\n"
     ]
    }
   ],
   "source": [
    "import numpy as np\n",
    "arr=np.array([1,2,3,4,5,6])\n",
    "print(arr)\n",
    "reshaped_Arr=arr.reshape(2,3)\n",
    "print(reshaped_Arr)"
   ]
  },
  {
   "cell_type": "markdown",
   "id": "c2d80a03",
   "metadata": {},
   "source": [
    "## NumPy Array Indexing"
   ]
  },
  {
   "cell_type": "code",
   "execution_count": 25,
   "id": "1c66fe7c",
   "metadata": {},
   "outputs": [
    {
     "name": "stdout",
     "output_type": "stream",
     "text": [
      "1\n",
      "3\n"
     ]
    }
   ],
   "source": [
    "arr=np.array([1,2,3,4,5])\n",
    "print(arr[0])\n",
    "print(arr[0]+arr[1])"
   ]
  },
  {
   "cell_type": "code",
   "execution_count": 26,
   "id": "817996d0",
   "metadata": {},
   "outputs": [
    {
     "name": "stdout",
     "output_type": "stream",
     "text": [
      "2\n"
     ]
    }
   ],
   "source": [
    "# Access 2D arrays\n",
    "arr2 = np.array([\n",
    "    [1,2,3],\n",
    "    [4,5,6]\n",
    "])\n",
    "print(arr2[0,1])"
   ]
  },
  {
   "cell_type": "code",
   "execution_count": null,
   "id": "87b87ab9",
   "metadata": {},
   "outputs": [],
   "source": [
    "# 3-D Arrays\n",
    "arr3 = np.array([\n",
    "    [\n",
    "        [1,2,3],\n",
    "        [4,5,6]\n",
    "    ],\n",
    "    [\n",
    "        [1,2,3],\n",
    "        [4,5,6]\n",
    "    ]\n",
    "])\n",
    "print(arr3[0,1,2])\n",
    "print(arr3[1,0,1])"
   ]
  },
  {
   "cell_type": "code",
   "execution_count": 36,
   "id": "8bb63473",
   "metadata": {},
   "outputs": [
    {
     "name": "stdout",
     "output_type": "stream",
     "text": [
      "4\n",
      "[[1 2]\n",
      " [6 7]]\n",
      "[2 3 4 5]\n"
     ]
    }
   ],
   "source": [
    "#Negative Indexing\n",
    "arr=np.array([[1,2,3,4,5],[6,7,8,9,10]])\n",
    "\n",
    "print(arr[0,-2])\n",
    "print(arr[0:2,0:2])\n",
    "print(arr[0,-4:])"
   ]
  },
  {
   "cell_type": "markdown",
   "id": "0b5a7744",
   "metadata": {},
   "source": [
    "## NumPy Array Iterating"
   ]
  },
  {
   "cell_type": "code",
   "execution_count": 37,
   "id": "44fb36f2",
   "metadata": {},
   "outputs": [],
   "source": [
    "import numpy as np"
   ]
  },
  {
   "cell_type": "code",
   "execution_count": 40,
   "id": "493ea5f9",
   "metadata": {},
   "outputs": [
    {
     "name": "stdout",
     "output_type": "stream",
     "text": [
      "1 2 3 4 5 \n",
      "6 7 8 9 10 \n"
     ]
    }
   ],
   "source": [
    "arr = np.array([\n",
    "    [1,2,3,4,5],\n",
    "    [6,7,8,9,10]\n",
    "])\n",
    "for row in arr:\n",
    "    for col in row:\n",
    "        print(col,'',end='')\n",
    "    print()"
   ]
  },
  {
   "cell_type": "code",
   "execution_count": 41,
   "id": "5a39a8e9",
   "metadata": {},
   "outputs": [
    {
     "name": "stdout",
     "output_type": "stream",
     "text": [
      "1 2 3 \n",
      "4 5 6 \n",
      "\n",
      "1 2 3 \n",
      "4 5 6 \n",
      "\n"
     ]
    }
   ],
   "source": [
    "arr3 = np.array([\n",
    "    [\n",
    "        [1,2,3],\n",
    "        [4,5,6]\n",
    "    ],\n",
    "    [\n",
    "        [1,2,3],\n",
    "        [4,5,6]\n",
    "    ]\n",
    "])\n",
    "\n",
    "for x in arr3:\n",
    "    for y in x:\n",
    "        for z in y:\n",
    "            print(z,'',end='')\n",
    "        print()\n",
    "    print()"
   ]
  },
  {
   "cell_type": "markdown",
   "id": "6cd9f900",
   "metadata": {},
   "source": [
    "# NumPy Array Slicing\n",
    "[:end]: 0 to end\n",
    "\n",
    "[start:end]: start to end\n",
    "\n",
    "[start:]: start to last index\n",
    "\n",
    "[::step]: start to end increment of step\n",
    "\n",
    "[start:end:step]: start to end follows given steps"
   ]
  },
  {
   "cell_type": "code",
   "execution_count": 45,
   "id": "2a118b39",
   "metadata": {},
   "outputs": [
    {
     "name": "stdout",
     "output_type": "stream",
     "text": [
      "[1 2 3 4 5 6]\n",
      "[3 4 5]\n",
      "[4 5 6 7 8 9]\n",
      "[1 3 5 7 9]\n"
     ]
    }
   ],
   "source": [
    "#creating a NumPy array\n",
    "arr=np.array([1,2,3,4,5,6,7,8,9])\n",
    "\n",
    "s1=arr[:6]\n",
    "print(s1)\n",
    "#Slicing from index 2 to index 5\n",
    "s2=arr[2:5]\n",
    "print(s2)\n",
    "#Slicing 3 to end\n",
    "s3=arr[3:]\n",
    "print(s3)\n",
    "\n",
    "s4=arr[::2]\n",
    "print(s4)"
   ]
  },
  {
   "cell_type": "code",
   "execution_count": 50,
   "id": "281041b5",
   "metadata": {},
   "outputs": [
    {
     "name": "stdout",
     "output_type": "stream",
     "text": [
      "[4 5 6]\n",
      "[1 4 7]\n",
      "[[2 3]\n",
      " [5 6]]\n"
     ]
    }
   ],
   "source": [
    "# Creating a 2D Numpy Array and Apply Slicing\n",
    "arr_2d = np.array([\n",
    "    [1,2,3],\n",
    "    [4,5,6],\n",
    "    [7,8,9]\n",
    "])\n",
    "\n",
    "#Slicing rows\n",
    "row=arr_2d[1]\n",
    "print(row)\n",
    "#Slicing Col\n",
    "col=arr_2d[:,0]\n",
    "print(col)\n",
    "\n",
    "mat=arr_2d[0:2,1:]\n",
    "print(mat)\n"
   ]
  },
  {
   "cell_type": "markdown",
   "id": "49fd9bc2",
   "metadata": {},
   "source": [
    "## Numpy DataTypes\n",
    "### Numeric Data Types:\n",
    "\n",
    "* int8, int16, int32, int64: Signed integers of 8, 16, 32, or 64 bits respectively.\n",
    "* uint8, uint16, uint32, uint64: Unsigned integers of 8, 16, 32, or 64 bits respectively.\n",
    "* float16, float32, float64: Floating point numbers of 16, 32, or 64 bits respectively.\n",
    "* complex64, complex128: Complex numbers using 32 or 64 bits for each part."
   ]
  },
  {
   "cell_type": "code",
   "execution_count": 51,
   "id": "4f4b730f",
   "metadata": {},
   "outputs": [
    {
     "name": "stdout",
     "output_type": "stream",
     "text": [
      "int32\n",
      "float64\n"
     ]
    }
   ],
   "source": [
    "a=np.array([1,2,3])\n",
    "print(a.dtype)\n",
    "b=np.array([1.2,4.5,2.2])\n",
    "print(b.dtype)"
   ]
  },
  {
   "cell_type": "code",
   "execution_count": 52,
   "id": "baebfbc5",
   "metadata": {},
   "outputs": [
    {
     "name": "stdout",
     "output_type": "stream",
     "text": [
      "[1 2 4] int32\n",
      "[2.3 4.2 2.2] float32\n"
     ]
    }
   ],
   "source": [
    "#Specifing data type in numpy arrays\n",
    "arr=np.array([1,2,4],dtype=np.int32)\n",
    "arrf=np.array([2.3,4.2,2.2],dtype=np.float32)\n",
    "print(arr,arr.dtype)\n",
    "print(arrf,arrf.dtype)"
   ]
  },
  {
   "cell_type": "code",
   "execution_count": 56,
   "id": "364a6d41",
   "metadata": {},
   "outputs": [
    {
     "name": "stdout",
     "output_type": "stream",
     "text": [
      "[1. 2. 3.]\n",
      "[ 2  3 32]\n"
     ]
    }
   ],
   "source": [
    "#Converting between data types\n",
    "arr=np.array([1,2,3])\n",
    "#convert to float\n",
    "arrf=arr.astype(np.float32)\n",
    "print(arrf)\n",
    "\n",
    "arr2=np.array([2.2,3.99,32.3323])\n",
    "arr2=arr2.astype(np.int32)\n",
    "print(arr2)"
   ]
  },
  {
   "cell_type": "markdown",
   "id": "be4e4361",
   "metadata": {},
   "source": [
    "## Joining NumPy Arrays"
   ]
  },
  {
   "cell_type": "code",
   "execution_count": 57,
   "id": "21e492b5",
   "metadata": {},
   "outputs": [
    {
     "name": "stdout",
     "output_type": "stream",
     "text": [
      "[1 2 3 4 5]\n"
     ]
    }
   ],
   "source": [
    "#Concatenation array using np.concatenate\n",
    "arr1=np.array([1,2,3])\n",
    "arr2=np.array([4,5])\n",
    "result=np.concatenate((arr1,arr2))\n",
    "print(result)"
   ]
  },
  {
   "cell_type": "markdown",
   "id": "735ef6b9",
   "metadata": {},
   "source": [
    "## Splitting NumPy Arrays"
   ]
  },
  {
   "cell_type": "code",
   "execution_count": 63,
   "id": "02cfbdff",
   "metadata": {},
   "outputs": [
    {
     "name": "stdout",
     "output_type": "stream",
     "text": [
      "[1 3 5 7 9]\n"
     ]
    }
   ],
   "source": [
    "#create dummy data\n",
    "arr=np.arange(1,10,2)\n",
    "print(arr)"
   ]
  },
  {
   "cell_type": "code",
   "execution_count": 74,
   "id": "1abffcb1",
   "metadata": {},
   "outputs": [
    {
     "name": "stdout",
     "output_type": "stream",
     "text": [
      "[array([1, 2, 3, 4, 5]), array([ 6,  7,  8,  9, 10])]\n",
      "1\n",
      "2\n",
      "3\n",
      "4\n",
      "5\n",
      "6\n",
      "7\n",
      "8\n",
      "9\n",
      "10\n"
     ]
    }
   ],
   "source": [
    "#Spliting the array into 3 equal parts\n",
    "arr=np.arange(1,11)\n",
    "arr=np.split(arr,2)\n",
    "print(arr)\n",
    "for i in arr:\n",
    "    for x in i:\n",
    "        print(x)"
   ]
  },
  {
   "cell_type": "code",
   "execution_count": 79,
   "id": "a0dc9128",
   "metadata": {},
   "outputs": [
    {
     "name": "stdout",
     "output_type": "stream",
     "text": [
      "[array([1, 2]), array([3, 4]), array([5, 6]), array([7, 8]), array([9]), array([10])]\n"
     ]
    }
   ],
   "source": [
    "#unequal Splitting with np.array_split\n",
    "arr=np.arange(1,11)\n",
    "sp2=np.array_split(arr,6)\n",
    "print(sp2)"
   ]
  },
  {
   "cell_type": "markdown",
   "id": "f1bd5ead",
   "metadata": {},
   "source": [
    "## NumPy Searching Arrays"
   ]
  },
  {
   "cell_type": "code",
   "execution_count": 81,
   "id": "b75396ca",
   "metadata": {},
   "outputs": [
    {
     "name": "stdout",
     "output_type": "stream",
     "text": [
      "(array([3, 4, 5, 6, 7, 8, 9], dtype=int64),)\n"
     ]
    }
   ],
   "source": [
    "#np.where\n",
    "arr=np.arange(1,11)\n",
    "#finding indices where the value is greate than 3\n",
    "index=np.where(arr>3)\n",
    "print(index)"
   ]
  },
  {
   "cell_type": "code",
   "execution_count": 86,
   "id": "942508d5",
   "metadata": {},
   "outputs": [
    {
     "name": "stdout",
     "output_type": "stream",
     "text": [
      "(array([3, 5], dtype=int64),)\n"
     ]
    }
   ],
   "source": [
    "arr=np.array([5,3,2,55,3,23,2])\n",
    "index =np.where(arr>=8)\n",
    "print(index)"
   ]
  },
  {
   "cell_type": "markdown",
   "id": "949c7d5d",
   "metadata": {},
   "source": [
    "## Array Masking"
   ]
  },
  {
   "cell_type": "code",
   "execution_count": 87,
   "id": "77986dd8",
   "metadata": {},
   "outputs": [
    {
     "name": "stdout",
     "output_type": "stream",
     "text": [
      "[55 23]\n"
     ]
    }
   ],
   "source": [
    "#Create a boolena mask\n",
    "msk=arr>12\n",
    "filtered=arr[msk]\n",
    "print(filtered)"
   ]
  },
  {
   "cell_type": "markdown",
   "id": "d932d9f2",
   "metadata": {},
   "source": [
    "## NumPy Sorting Arrays"
   ]
  },
  {
   "cell_type": "code",
   "execution_count": 89,
   "id": "62c3e0cc",
   "metadata": {},
   "outputs": [
    {
     "name": "stdout",
     "output_type": "stream",
     "text": [
      "[  3  12  33  34 233]\n"
     ]
    }
   ],
   "source": [
    "arr=np.array([233,3,12,34,33,])\n",
    "sorted_arr=np.sort(arr)\n",
    "print(sorted_arr)"
   ]
  },
  {
   "cell_type": "code",
   "execution_count": 91,
   "id": "2ee194de",
   "metadata": {},
   "outputs": [
    {
     "name": "stdout",
     "output_type": "stream",
     "text": [
      "[233  34  33  12   3]\n"
     ]
    }
   ],
   "source": [
    "#reverse sort\n",
    "rev_sort=np.sort(arr)[::-1]\n",
    "print(rev_sort)"
   ]
  },
  {
   "cell_type": "code",
   "execution_count": 97,
   "id": "6c863359",
   "metadata": {},
   "outputs": [
    {
     "name": "stdout",
     "output_type": "stream",
     "text": [
      "[[ 3  4 12]\n",
      " [ 2  4  5]]\n"
     ]
    }
   ],
   "source": [
    "#Sort 2d array\n",
    "arr2d=np.array([[3,12,4],[5,4,2]])\n",
    "#Sort along rows (axis=1)\n",
    "sortedRows=np.sort(arr2d,axis=1)\n",
    "print(sortedRows)"
   ]
  },
  {
   "cell_type": "code",
   "execution_count": 98,
   "id": "a72ca9c5",
   "metadata": {},
   "outputs": [
    {
     "name": "stdout",
     "output_type": "stream",
     "text": [
      "[[ 3  4  2]\n",
      " [ 5 12  4]]\n"
     ]
    }
   ],
   "source": [
    "#Sort Along With Column\n",
    "arr2d=np.array([[3,12,4],[5,4,2]])\n",
    "sorted_Col=np.sort(arr2d,axis=0)\n",
    "print(sorted_Col)\n"
   ]
  },
  {
   "cell_type": "markdown",
   "id": "0dfd2169",
   "metadata": {},
   "source": [
    "## Array Operations"
   ]
  },
  {
   "cell_type": "code",
   "execution_count": 99,
   "id": "9f8b1c55",
   "metadata": {},
   "outputs": [
    {
     "name": "stdout",
     "output_type": "stream",
     "text": [
      "[2 4 6]\n"
     ]
    }
   ],
   "source": [
    "arr1=np.array([1,2,3])\n",
    "arr2=np.array([1,2,3])\n",
    "add=arr1+arr2\n",
    "print(add)"
   ]
  },
  {
   "cell_type": "code",
   "execution_count": 101,
   "id": "97d7c399",
   "metadata": {},
   "outputs": [
    {
     "name": "stdout",
     "output_type": "stream",
     "text": [
      "[1 4 9]\n"
     ]
    }
   ],
   "source": [
    "mul=arr1*arr2\n",
    "print(mul)"
   ]
  },
  {
   "cell_type": "code",
   "execution_count": 105,
   "id": "e66ac733",
   "metadata": {},
   "outputs": [
    {
     "name": "stdout",
     "output_type": "stream",
     "text": [
      "[1.         1.41421356 1.73205081]\n"
     ]
    }
   ],
   "source": [
    "sqrt=np.sqrt(arr1)\n",
    "print(sqrt)"
   ]
  },
  {
   "cell_type": "code",
   "execution_count": 109,
   "id": "d18d8df8",
   "metadata": {},
   "outputs": [
    {
     "name": "stdout",
     "output_type": "stream",
     "text": [
      "[[11 12 13]\n",
      " [14 15 16]]\n"
     ]
    }
   ],
   "source": [
    "arr=np.array([[1,2,3],[4,5,6]])\n",
    "scalar=10\n",
    "result=arr+10\n",
    "print(result)"
   ]
  },
  {
   "cell_type": "code",
   "execution_count": 110,
   "id": "6949927d",
   "metadata": {},
   "outputs": [
    {
     "name": "stdout",
     "output_type": "stream",
     "text": [
      "[[11 22 33]\n",
      " [14 25 36]]\n"
     ]
    }
   ],
   "source": [
    "row_to_add=np.array([10,20,30])\n",
    "res=arr+row_to_add\n",
    "print(res)"
   ]
  },
  {
   "cell_type": "markdown",
   "id": "c6339431",
   "metadata": {},
   "source": [
    "# Descriptive Statistics:\n",
    "* Mean: Mean is also known as average of all the numbers in the data set which is calculated by below equation.\n",
    "* Median: Median is mid value in this ordered data set.\n",
    "* Mode: Mode is the number which occur most often in the data set.Here 150 is occurring twice so this is our mode.\n",
    "\n",
    "\n",
    "* Variance:Variance is the numerical values that describe the variability of the observations from its arithmetic mean and denoted by sigma-squared(σ2 )Variance measure how far individuals in the group are spread out, in the set of data from the mean.\n",
    "* Standard Deviation: it is a measure of dispersion of observation within dataset relative to their mean.It is square root of the variance and denoted by Sigma (σ) .Standard deviation is expressed in the same unit as the values in the dataset so it measure how much observations of the data set differs from its mean.\n",
    "\n",
    "* Link: https://medium.com/analytics-vidhya/statistics-mean-median-mode-variance-standard-deviation-47fab926465a"
   ]
  },
  {
   "cell_type": "code",
   "execution_count": 112,
   "id": "b92151fb",
   "metadata": {},
   "outputs": [
    {
     "name": "stdout",
     "output_type": "stream",
     "text": [
      "Mean: 35.0\n",
      "Median: 35.0\n",
      "Variance: 291.6666666666667\n",
      "std_dev 17.07825127659933\n"
     ]
    }
   ],
   "source": [
    "data=np.array([10,20,30,40,50,60])\n",
    "#mean\n",
    "mean=np.mean(data)\n",
    "median=np.median(data)\n",
    "variance=np.var(data)\n",
    "std_dev=np.std(data)\n",
    "print('Mean:',mean)\n",
    "print('Median:',median)\n",
    "print('Variance:',variance)\n",
    "print('std_dev',std_dev)"
   ]
  },
  {
   "cell_type": "markdown",
   "id": "ca43102f",
   "metadata": {},
   "source": [
    "## Handling Missing Values"
   ]
  },
  {
   "cell_type": "code",
   "execution_count": 116,
   "id": "82fc2889",
   "metadata": {},
   "outputs": [
    {
     "name": "stdout",
     "output_type": "stream",
     "text": [
      "2\n"
     ]
    }
   ],
   "source": [
    "data=np.array([1,2,np.nan,4,5,np.nan,7])\n",
    "#Checking for nan values\n",
    "nan_count=np.sum(np.isnan(data))\n",
    "print(nan_count)"
   ]
  },
  {
   "cell_type": "code",
   "execution_count": 119,
   "id": "d0df1a03",
   "metadata": {},
   "outputs": [
    {
     "name": "stdout",
     "output_type": "stream",
     "text": [
      "[1. 2. 4. 5. 7.]\n",
      "1.0\n",
      "2.0\n",
      "4.0\n",
      "5.0\n",
      "7.0\n"
     ]
    }
   ],
   "source": [
    "#Romoving nan values\n",
    "data_cleaned=data[~np.isnan(data)]\n",
    "print(data_cleaned)\n"
   ]
  },
  {
   "cell_type": "code",
   "execution_count": 118,
   "id": "dc0f1ab0",
   "metadata": {},
   "outputs": [
    {
     "name": "stdout",
     "output_type": "stream",
     "text": [
      "[1.  2.  3.8 4.  5.  3.8 7. ]\n"
     ]
    }
   ],
   "source": [
    "#Calculate mean excluding all Nan\n",
    "mean=np.nanmean(data)\n",
    "#replacing nan values with mean value\n",
    "data_filled=np.where(np.isnan(data),mean,data)\n",
    "print(data_filled)"
   ]
  },
  {
   "cell_type": "code",
   "execution_count": null,
   "id": "f9fc7d95",
   "metadata": {},
   "outputs": [],
   "source": []
  }
 ],
 "metadata": {
  "kernelspec": {
   "display_name": "Python 3 (ipykernel)",
   "language": "python",
   "name": "python3"
  },
  "language_info": {
   "codemirror_mode": {
    "name": "ipython",
    "version": 3
   },
   "file_extension": ".py",
   "mimetype": "text/x-python",
   "name": "python",
   "nbconvert_exporter": "python",
   "pygments_lexer": "ipython3",
   "version": "3.11.4"
  }
 },
 "nbformat": 4,
 "nbformat_minor": 5
}
