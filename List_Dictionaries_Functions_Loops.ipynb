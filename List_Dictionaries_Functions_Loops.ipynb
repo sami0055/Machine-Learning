{
 "cells": [
  {
   "cell_type": "markdown",
   "id": "bf5d1c61",
   "metadata": {},
   "source": [
    "## Python Lists"
   ]
  },
  {
   "cell_type": "code",
   "execution_count": 3,
   "id": "3ae8c534",
   "metadata": {},
   "outputs": [
    {
     "name": "stdout",
     "output_type": "stream",
     "text": [
      "[]\n",
      "0\n",
      "<class 'list'>\n"
     ]
    }
   ],
   "source": [
    "#creating and empty List\n",
    "empty_list=[]\n",
    "print(empty_list)\n",
    "print(len(empty_list))\n",
    "print(type(empty_list))"
   ]
  },
  {
   "cell_type": "code",
   "execution_count": 5,
   "id": "ea537177",
   "metadata": {},
   "outputs": [
    {
     "name": "stdout",
     "output_type": "stream",
     "text": [
      "[1, 2.3, 'Samiul', True]\n",
      "1\n"
     ]
    }
   ],
   "source": [
    "list=[1,2.3,\"Samiul\",True]\n",
    "print(list)\n",
    "#indexing\n",
    "print(list[0])"
   ]
  },
  {
   "cell_type": "code",
   "execution_count": 8,
   "id": "c23b6637",
   "metadata": {},
   "outputs": [
    {
     "name": "stdout",
     "output_type": "stream",
     "text": [
      "[1, 2, 3, 4]\n",
      "[1, 2, 3]\n",
      "[2, 3, 4]\n",
      "[1, 3, 5]\n"
     ]
    }
   ],
   "source": [
    "#slicing\n",
    "num=[1,2,3,4,5,6]\n",
    "print(num[0:4])\n",
    "print(num[0:3])\n",
    "print(num[1:4])\n",
    "print(num[::2])\n"
   ]
  },
  {
   "cell_type": "code",
   "execution_count": 10,
   "id": "2dd45fd7",
   "metadata": {},
   "outputs": [
    {
     "name": "stdout",
     "output_type": "stream",
     "text": [
      "[1, 2, 3, 4, 5, 6, 7, 7]\n"
     ]
    }
   ],
   "source": [
    "num.append(7)\n",
    "print(num)"
   ]
  },
  {
   "cell_type": "code",
   "execution_count": 11,
   "id": "77e26d68",
   "metadata": {},
   "outputs": [
    {
     "name": "stdout",
     "output_type": "stream",
     "text": [
      "[1, 2, 3, 4, 5, 6, 7]\n"
     ]
    }
   ],
   "source": [
    "num.remove(7)\n",
    "print(num)"
   ]
  },
  {
   "cell_type": "code",
   "execution_count": 12,
   "id": "f30e2b87",
   "metadata": {},
   "outputs": [
    {
     "name": "stdout",
     "output_type": "stream",
     "text": [
      "[1, 2, 3, 4, 5, 6, 7, 8, 9]\n"
     ]
    }
   ],
   "source": [
    "num.extend([8,9])\n",
    "print(num)"
   ]
  },
  {
   "cell_type": "code",
   "execution_count": 20,
   "id": "d93a4d13",
   "metadata": {},
   "outputs": [
    {
     "name": "stdout",
     "output_type": "stream",
     "text": [
      "[8, 7, 6, 5, 4, 3]\n"
     ]
    },
    {
     "data": {
      "text/plain": [
       "[8, 7, 6, 5, 4, 3]"
      ]
     },
     "execution_count": 20,
     "metadata": {},
     "output_type": "execute_result"
    }
   ],
   "source": [
    "num.pop()\n",
    "\n",
    "print(num)\n",
    "num"
   ]
  },
  {
   "cell_type": "code",
   "execution_count": 18,
   "id": "f5c847fb",
   "metadata": {},
   "outputs": [
    {
     "data": {
      "text/plain": [
       "[5, 4, 3, 2, 1]"
      ]
     },
     "execution_count": 18,
     "metadata": {},
     "output_type": "execute_result"
    }
   ],
   "source": [
    "num2=[1,2,3,4,5]\n",
    "num2.reverse()\n",
    "num2"
   ]
  },
  {
   "cell_type": "code",
   "execution_count": 21,
   "id": "a39fd90c",
   "metadata": {},
   "outputs": [
    {
     "name": "stdout",
     "output_type": "stream",
     "text": [
      "[1, 2, 3, 4, 5]\n"
     ]
    }
   ],
   "source": [
    "num2.sort()\n",
    "print(num2)"
   ]
  },
  {
   "cell_type": "markdown",
   "id": "876c04da",
   "metadata": {},
   "source": [
    "## Loops\n",
    "* For Loop\n",
    "* While Loop"
   ]
  },
  {
   "cell_type": "code",
   "execution_count": 22,
   "id": "ff9c7021",
   "metadata": {},
   "outputs": [
    {
     "data": {
      "text/plain": [
       "range(0, 3)"
      ]
     },
     "execution_count": 22,
     "metadata": {},
     "output_type": "execute_result"
    }
   ],
   "source": [
    "#range\n",
    "range(0,3)"
   ]
  },
  {
   "cell_type": "code",
   "execution_count": 24,
   "id": "4c761185",
   "metadata": {},
   "outputs": [
    {
     "name": "stdout",
     "output_type": "stream",
     "text": [
      "1\n",
      "3\n",
      "5\n",
      "7\n",
      "9\n"
     ]
    }
   ],
   "source": [
    "for i in range(1,11,2):\n",
    "    print(i)"
   ]
  },
  {
   "cell_type": "code",
   "execution_count": 25,
   "id": "960ec868",
   "metadata": {},
   "outputs": [
    {
     "name": "stdout",
     "output_type": "stream",
     "text": [
      "apple\n",
      "banana\n",
      "cherry\n"
     ]
    }
   ],
   "source": [
    "fruits=['apple','banana','cherry']\n",
    "for i in fruits:\n",
    "    print(i)"
   ]
  },
  {
   "cell_type": "code",
   "execution_count": 30,
   "id": "d31bc431",
   "metadata": {},
   "outputs": [
    {
     "name": "stdout",
     "output_type": "stream",
     "text": [
      "Hi! Mushfiq\n",
      "Hi! Sahil\n",
      "Hi! Sami\n",
      "Hi! Tahsin\n"
     ]
    }
   ],
   "source": [
    "students =['Sami','Mushfiq','Tahsin','Sahil']\n",
    "students.sort()\n",
    "for name in students:\n",
    "    print(\"Hi!\",name)"
   ]
  },
  {
   "cell_type": "code",
   "execution_count": 32,
   "id": "02718eeb",
   "metadata": {},
   "outputs": [
    {
     "name": "stdout",
     "output_type": "stream",
     "text": [
      "Studnet 0 : Mushfiq\n",
      "Studnet 1 : Sahil\n",
      "Studnet 2 : Sami\n",
      "Studnet 3 : Tahsin\n"
     ]
    }
   ],
   "source": [
    "#use enum with for loop\n",
    "for index,name in enumerate(students):\n",
    "    print(\"Studnet\",index,\":\",name)"
   ]
  },
  {
   "cell_type": "code",
   "execution_count": 34,
   "id": "6182b545",
   "metadata": {},
   "outputs": [
    {
     "name": "stdout",
     "output_type": "stream",
     "text": [
      "[22.2, 25.4, 23.55, 33.87]\n"
     ]
    }
   ],
   "source": [
    "#Appending List\n",
    "height=[1.75,1.66,1.9,1.63]\n",
    "weights=[68,70,85,90]\n",
    "bmi_values=[]\n",
    "#calclations\n",
    "for i in range(len(height)):\n",
    "    bmi=round(weights[i]/(height[i]**2),2)\n",
    "    bmi_values.append(bmi)\n",
    "\n",
    "print(bmi_values)"
   ]
  },
  {
   "cell_type": "markdown",
   "id": "f5089eef",
   "metadata": {},
   "source": [
    "## While Loop"
   ]
  },
  {
   "cell_type": "code",
   "execution_count": 35,
   "id": "c1048fd1",
   "metadata": {},
   "outputs": [
    {
     "name": "stdout",
     "output_type": "stream",
     "text": [
      "1\n",
      "2\n",
      "3\n",
      "4\n",
      "5\n"
     ]
    }
   ],
   "source": [
    "i=1\n",
    "while i<=5:\n",
    "    print(i)\n",
    "    i+=1"
   ]
  },
  {
   "cell_type": "markdown",
   "id": "db04faca",
   "metadata": {},
   "source": [
    "## Python Tuples\n",
    "* ordered\n",
    "* immutable\n",
    "* Allow Duplicates\n",
    "* Data type tuple"
   ]
  },
  {
   "cell_type": "code",
   "execution_count": 40,
   "id": "8def58b1",
   "metadata": {},
   "outputs": [
    {
     "name": "stdout",
     "output_type": "stream",
     "text": [
      "(1, 2, 3, True, 'Hi')\n",
      "3\n"
     ]
    }
   ],
   "source": [
    "my_tup=(1,2,3,True,\"Hi\")\n",
    "print(my_tup)\n",
    "print(my_tup[2])"
   ]
  },
  {
   "cell_type": "code",
   "execution_count": 41,
   "id": "5531c3a9",
   "metadata": {},
   "outputs": [
    {
     "name": "stdout",
     "output_type": "stream",
     "text": [
      "1 2 3\n"
     ]
    }
   ],
   "source": [
    "#unpacking tuple\n",
    "num=(1,2,3)\n",
    "a,b,c=num\n",
    "print(a,b,c)"
   ]
  },
  {
   "cell_type": "code",
   "execution_count": 42,
   "id": "8987f9ed",
   "metadata": {},
   "outputs": [
    {
     "ename": "TypeError",
     "evalue": "'tuple' object does not support item assignment",
     "output_type": "error",
     "traceback": [
      "\u001b[1;31m---------------------------------------------------------------------------\u001b[0m",
      "\u001b[1;31mTypeError\u001b[0m                                 Traceback (most recent call last)",
      "Cell \u001b[1;32mIn[42], line 1\u001b[0m\n\u001b[1;32m----> 1\u001b[0m \u001b[43mnum\u001b[49m\u001b[43m[\u001b[49m\u001b[38;5;241;43m1\u001b[39;49m\u001b[43m]\u001b[49m\u001b[38;5;241m=\u001b[39m\u001b[38;5;241m22\u001b[39m\n",
      "\u001b[1;31mTypeError\u001b[0m: 'tuple' object does not support item assignment"
     ]
    }
   ],
   "source": [
    "num[1]=22"
   ]
  },
  {
   "cell_type": "code",
   "execution_count": 43,
   "id": "74a62e84",
   "metadata": {},
   "outputs": [
    {
     "ename": "AttributeError",
     "evalue": "'tuple' object has no attribute 'append'",
     "output_type": "error",
     "traceback": [
      "\u001b[1;31m---------------------------------------------------------------------------\u001b[0m",
      "\u001b[1;31mAttributeError\u001b[0m                            Traceback (most recent call last)",
      "Cell \u001b[1;32mIn[43], line 1\u001b[0m\n\u001b[1;32m----> 1\u001b[0m \u001b[43mnum\u001b[49m\u001b[38;5;241;43m.\u001b[39;49m\u001b[43mappend\u001b[49m(\u001b[38;5;241m33\u001b[39m)\n",
      "\u001b[1;31mAttributeError\u001b[0m: 'tuple' object has no attribute 'append'"
     ]
    }
   ],
   "source": [
    "num.append(33)"
   ]
  },
  {
   "cell_type": "markdown",
   "id": "918fc4c2",
   "metadata": {},
   "source": [
    "## Python Dictinonaries"
   ]
  },
  {
   "cell_type": "code",
   "execution_count": 78,
   "id": "ab4e1f86",
   "metadata": {},
   "outputs": [
    {
     "data": {
      "text/plain": [
       "{'name': ['Sami', 'Mushfiq', 'Sahil', 'Tahsin', 'Riddat'],\n",
       " 'cgpa': [3.3, 3.1, 3.0],\n",
       " 'address': ['usa', 'bangladesh', 'uk'],\n",
       " 'Dept': ['CSE'],\n",
       " 'Major': ['AI']}"
      ]
     },
     "execution_count": 78,
     "metadata": {},
     "output_type": "execute_result"
    }
   ],
   "source": [
    "students={\n",
    "    'name':['Sami','Mushfiq','Sahil','Tahsin','Riddat'],\n",
    "    'cgpa':[3.3,3.1,3.0],\n",
    "    'address':['usa','bangladesh','uk'],\n",
    "    'Dept':['CSE'],\n",
    "    'Major':['AI']\n",
    "}\n",
    "students"
   ]
  },
  {
   "cell_type": "code",
   "execution_count": 55,
   "id": "e89ecde3",
   "metadata": {},
   "outputs": [
    {
     "name": "stdout",
     "output_type": "stream",
     "text": [
      "['Sami', 'Mushfiq', 'Sahil', 'Tahsin', 'Riddat']\n"
     ]
    }
   ],
   "source": [
    "print(students['name'])"
   ]
  },
  {
   "cell_type": "code",
   "execution_count": 80,
   "id": "e219901f",
   "metadata": {},
   "outputs": [],
   "source": [
    "\n",
    "del students['Major']\n"
   ]
  },
  {
   "cell_type": "code",
   "execution_count": 81,
   "id": "567b3114",
   "metadata": {},
   "outputs": [
    {
     "data": {
      "text/plain": [
       "{'name': ['Sami', 'Mushfiq', 'Sahil', 'Tahsin', 'Riddat'],\n",
       " 'cgpa': [3.3, 3.1, 3.0],\n",
       " 'address': ['usa', 'bangladesh', 'uk'],\n",
       " 'Dept': ['CSE']}"
      ]
     },
     "execution_count": 81,
     "metadata": {},
     "output_type": "execute_result"
    }
   ],
   "source": [
    "students"
   ]
  },
  {
   "cell_type": "code",
   "execution_count": 62,
   "id": "00567102",
   "metadata": {},
   "outputs": [
    {
     "data": {
      "text/plain": [
       "{'Name': 'Emrah Hasan Bhuiyan',\n",
       " 'Inst': 'North South University',\n",
       " 'ID': '2121909642',\n",
       " 'CGPA': 'Who knows',\n",
       " 'GF Staus': 'YES'}"
      ]
     },
     "execution_count": 62,
     "metadata": {},
     "output_type": "execute_result"
    }
   ],
   "source": [
    "Riddat={\n",
    "    'Name':'Emrah Hasan Bhuiyan',\n",
    "    'Inst':'North South University',\n",
    "    'ID': '2121909642',\n",
    "    'CGPA':'Who knows',\n",
    "    'GF Status':'YES',\n",
    "    \n",
    "}\n",
    "Riddat"
   ]
  },
  {
   "cell_type": "markdown",
   "id": "4f3258a1",
   "metadata": {},
   "source": [
    "key=Riddat.keys()\n",
    "value=Riddat.values()\n",
    "items=Riddat.items()\n",
    "print(key)\n",
    "print(value)\n",
    "print(items)"
   ]
  },
  {
   "cell_type": "markdown",
   "id": "fb2900fe",
   "metadata": {},
   "source": [
    "## Conditional Statements"
   ]
  },
  {
   "cell_type": "code",
   "execution_count": 84,
   "id": "d4e85a7c",
   "metadata": {},
   "outputs": [
    {
     "name": "stdout",
     "output_type": "stream",
     "text": [
      "Enter an integer100\n",
      "Equal to 100\n",
      "Even also\n"
     ]
    }
   ],
   "source": [
    "a=int(input(\"Enter an integer\"))\n",
    "if(a>100):\n",
    "    print(\"Greater than 100\")\n",
    "elif a==100:\n",
    "    print(\"Equal to 100\")\n",
    "    if(a%2==0):\n",
    "        print(\"Even also\")\n",
    "else:\n",
    "    print(\"Less than 100\")"
   ]
  },
  {
   "cell_type": "markdown",
   "id": "1e126f6e",
   "metadata": {},
   "source": [
    "## Python Functions"
   ]
  },
  {
   "cell_type": "code",
   "execution_count": 85,
   "id": "531fc706",
   "metadata": {},
   "outputs": [],
   "source": [
    "def greet():\n",
    "    print(\"Hi! There\")"
   ]
  },
  {
   "cell_type": "code",
   "execution_count": 86,
   "id": "152b6207",
   "metadata": {},
   "outputs": [
    {
     "name": "stdout",
     "output_type": "stream",
     "text": [
      "Hi! There\n"
     ]
    }
   ],
   "source": [
    "greet()"
   ]
  },
  {
   "cell_type": "code",
   "execution_count": 93,
   "id": "8c2a0d93",
   "metadata": {},
   "outputs": [
    {
     "name": "stdout",
     "output_type": "stream",
     "text": [
      "33\n",
      "33\n",
      "66\n"
     ]
    }
   ],
   "source": [
    "def summ(a,b):\n",
    "    return a+b\n",
    "\n",
    "a=int(input())\n",
    "b=int(input())\n",
    "print(summ(a,b))"
   ]
  },
  {
   "cell_type": "markdown",
   "id": "2e0d76a5",
   "metadata": {},
   "source": [
    "## Variable Scope"
   ]
  },
  {
   "cell_type": "code",
   "execution_count": null,
   "id": "074864f8",
   "metadata": {},
   "outputs": [],
   "source": [
    "global_var=10\n",
    "\n",
    "def my_func()"
   ]
  }
 ],
 "metadata": {
  "kernelspec": {
   "display_name": "Python 3 (ipykernel)",
   "language": "python",
   "name": "python3"
  },
  "language_info": {
   "codemirror_mode": {
    "name": "ipython",
    "version": 3
   },
   "file_extension": ".py",
   "mimetype": "text/x-python",
   "name": "python",
   "nbconvert_exporter": "python",
   "pygments_lexer": "ipython3",
   "version": "3.11.4"
  }
 },
 "nbformat": 4,
 "nbformat_minor": 5
}
