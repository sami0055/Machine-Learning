{
  "nbformat": 4,
  "nbformat_minor": 0,
  "metadata": {
    "colab": {
      "provenance": []
    },
    "kernelspec": {
      "name": "python3",
      "display_name": "Python 3"
    },
    "language_info": {
      "name": "python"
    }
  },
  "cells": [
    {
      "cell_type": "markdown",
      "source": [
        "# Hyperparameter Tuning\n",
        "🦊 `Notebook by` [Md.Samiul Alim](https://github.com/sami0055)\n",
        "\n",
        "😋  `Machine Learning Source Codes` [GitHub](https://github.com/sami0055/Machine-Learning)\n",

      ],
      "metadata": {
        "id": "tfxox5eAX8eh"
      }
    },
    {
      "cell_type": "code",
      "source": [
        "import pandas as pd\n",
        "import numpy as np\n",
        "import seaborn as sns\n",
        "from matplotlib import pyplot as plt\n",
        "%matplotlib inline"
      ],
      "metadata": {
        "id": "8TlDFl54X9cD"
      },
      "execution_count": 3,
      "outputs": []
    },
    {
      "cell_type": "code",
      "source": [
        "# Load dataset\n",
        "df=pd.read_csv('diabetes_prediction_dataset.csv')"
      ],
      "metadata": {
        "id": "DmUORj-varJF"
      },
      "execution_count": 4,
      "outputs": []
    },
    {
      "cell_type": "code",
      "source": [
        "df.info()"
      ],
      "metadata": {
        "colab": {
          "base_uri": "https://localhost:8080/"
        },
        "id": "sMkhLw4MeghK",
        "outputId": "7c626d81-f6a5-4c6b-d2c3-9fbf1acf02d1"
      },
      "execution_count": 5,
      "outputs": [
        {
          "output_type": "stream",
          "name": "stdout",
          "text": [
            "<class 'pandas.core.frame.DataFrame'>\n",
            "RangeIndex: 100000 entries, 0 to 99999\n",
            "Data columns (total 9 columns):\n",
            " #   Column               Non-Null Count   Dtype  \n",
            "---  ------               --------------   -----  \n",
            " 0   gender               100000 non-null  object \n",
            " 1   age                  100000 non-null  float64\n",
            " 2   hypertension         100000 non-null  int64  \n",
            " 3   heart_disease        100000 non-null  int64  \n",
            " 4   smoking_history      100000 non-null  object \n",
            " 5   bmi                  100000 non-null  float64\n",
            " 6   HbA1c_level          100000 non-null  float64\n",
            " 7   blood_glucose_level  100000 non-null  int64  \n",
            " 8   diabetes             100000 non-null  int64  \n",
            "dtypes: float64(3), int64(4), object(2)\n",
            "memory usage: 6.9+ MB\n"
          ]
        }
      ]
    },
    {
      "cell_type": "code",
      "source": [
        "df.head()"
      ],
      "metadata": {
        "colab": {
          "base_uri": "https://localhost:8080/",
          "height": 206
        },
        "id": "aQn50H09eiLv",
        "outputId": "8d4b1db3-8379-4176-90c2-013bdedaaf01"
      },
      "execution_count": 6,
      "outputs": [
        {
          "output_type": "execute_result",
          "data": {
            "text/plain": [
              "   gender   age  hypertension  heart_disease smoking_history    bmi  \\\n",
              "0  Female  80.0             0              1           never  25.19   \n",
              "1  Female  54.0             0              0         No Info  27.32   \n",
              "2    Male  28.0             0              0           never  27.32   \n",
              "3  Female  36.0             0              0         current  23.45   \n",
              "4    Male  76.0             1              1         current  20.14   \n",
              "\n",
              "   HbA1c_level  blood_glucose_level  diabetes  \n",
              "0          6.6                  140         0  \n",
              "1          6.6                   80         0  \n",
              "2          5.7                  158         0  \n",
              "3          5.0                  155         0  \n",
              "4          4.8                  155         0  "
            ],
            "text/html": [
              "\n",
              "  <div id=\"df-1461bd4a-57f9-4406-96f4-cc9b2c089874\" class=\"colab-df-container\">\n",
              "    <div>\n",
              "<style scoped>\n",
              "    .dataframe tbody tr th:only-of-type {\n",
              "        vertical-align: middle;\n",
              "    }\n",
              "\n",
              "    .dataframe tbody tr th {\n",
              "        vertical-align: top;\n",
              "    }\n",
              "\n",
              "    .dataframe thead th {\n",
              "        text-align: right;\n",
              "    }\n",
              "</style>\n",
              "<table border=\"1\" class=\"dataframe\">\n",
              "  <thead>\n",
              "    <tr style=\"text-align: right;\">\n",
              "      <th></th>\n",
              "      <th>gender</th>\n",
              "      <th>age</th>\n",
              "      <th>hypertension</th>\n",
              "      <th>heart_disease</th>\n",
              "      <th>smoking_history</th>\n",
              "      <th>bmi</th>\n",
              "      <th>HbA1c_level</th>\n",
              "      <th>blood_glucose_level</th>\n",
              "      <th>diabetes</th>\n",
              "    </tr>\n",
              "  </thead>\n",
              "  <tbody>\n",
              "    <tr>\n",
              "      <th>0</th>\n",
              "      <td>Female</td>\n",
              "      <td>80.0</td>\n",
              "      <td>0</td>\n",
              "      <td>1</td>\n",
              "      <td>never</td>\n",
              "      <td>25.19</td>\n",
              "      <td>6.6</td>\n",
              "      <td>140</td>\n",
              "      <td>0</td>\n",
              "    </tr>\n",
              "    <tr>\n",
              "      <th>1</th>\n",
              "      <td>Female</td>\n",
              "      <td>54.0</td>\n",
              "      <td>0</td>\n",
              "      <td>0</td>\n",
              "      <td>No Info</td>\n",
              "      <td>27.32</td>\n",
              "      <td>6.6</td>\n",
              "      <td>80</td>\n",
              "      <td>0</td>\n",
              "    </tr>\n",
              "    <tr>\n",
              "      <th>2</th>\n",
              "      <td>Male</td>\n",
              "      <td>28.0</td>\n",
              "      <td>0</td>\n",
              "      <td>0</td>\n",
              "      <td>never</td>\n",
              "      <td>27.32</td>\n",
              "      <td>5.7</td>\n",
              "      <td>158</td>\n",
              "      <td>0</td>\n",
              "    </tr>\n",
              "    <tr>\n",
              "      <th>3</th>\n",
              "      <td>Female</td>\n",
              "      <td>36.0</td>\n",
              "      <td>0</td>\n",
              "      <td>0</td>\n",
              "      <td>current</td>\n",
              "      <td>23.45</td>\n",
              "      <td>5.0</td>\n",
              "      <td>155</td>\n",
              "      <td>0</td>\n",
              "    </tr>\n",
              "    <tr>\n",
              "      <th>4</th>\n",
              "      <td>Male</td>\n",
              "      <td>76.0</td>\n",
              "      <td>1</td>\n",
              "      <td>1</td>\n",
              "      <td>current</td>\n",
              "      <td>20.14</td>\n",
              "      <td>4.8</td>\n",
              "      <td>155</td>\n",
              "      <td>0</td>\n",
              "    </tr>\n",
              "  </tbody>\n",
              "</table>\n",
              "</div>\n",
              "    <div class=\"colab-df-buttons\">\n",
              "\n",
              "  <div class=\"colab-df-container\">\n",
              "    <button class=\"colab-df-convert\" onclick=\"convertToInteractive('df-1461bd4a-57f9-4406-96f4-cc9b2c089874')\"\n",
              "            title=\"Convert this dataframe to an interactive table.\"\n",
              "            style=\"display:none;\">\n",
              "\n",
              "  <svg xmlns=\"http://www.w3.org/2000/svg\" height=\"24px\" viewBox=\"0 -960 960 960\">\n",
              "    <path d=\"M120-120v-720h720v720H120Zm60-500h600v-160H180v160Zm220 220h160v-160H400v160Zm0 220h160v-160H400v160ZM180-400h160v-160H180v160Zm440 0h160v-160H620v160ZM180-180h160v-160H180v160Zm440 0h160v-160H620v160Z\"/>\n",
              "  </svg>\n",
              "    </button>\n",
              "\n",
              "  <style>\n",
              "    .colab-df-container {\n",
              "      display:flex;\n",
              "      gap: 12px;\n",
              "    }\n",
              "\n",
              "    .colab-df-convert {\n",
              "      background-color: #E8F0FE;\n",
              "      border: none;\n",
              "      border-radius: 50%;\n",
              "      cursor: pointer;\n",
              "      display: none;\n",
              "      fill: #1967D2;\n",
              "      height: 32px;\n",
              "      padding: 0 0 0 0;\n",
              "      width: 32px;\n",
              "    }\n",
              "\n",
              "    .colab-df-convert:hover {\n",
              "      background-color: #E2EBFA;\n",
              "      box-shadow: 0px 1px 2px rgba(60, 64, 67, 0.3), 0px 1px 3px 1px rgba(60, 64, 67, 0.15);\n",
              "      fill: #174EA6;\n",
              "    }\n",
              "\n",
              "    .colab-df-buttons div {\n",
              "      margin-bottom: 4px;\n",
              "    }\n",
              "\n",
              "    [theme=dark] .colab-df-convert {\n",
              "      background-color: #3B4455;\n",
              "      fill: #D2E3FC;\n",
              "    }\n",
              "\n",
              "    [theme=dark] .colab-df-convert:hover {\n",
              "      background-color: #434B5C;\n",
              "      box-shadow: 0px 1px 3px 1px rgba(0, 0, 0, 0.15);\n",
              "      filter: drop-shadow(0px 1px 2px rgba(0, 0, 0, 0.3));\n",
              "      fill: #FFFFFF;\n",
              "    }\n",
              "  </style>\n",
              "\n",
              "    <script>\n",
              "      const buttonEl =\n",
              "        document.querySelector('#df-1461bd4a-57f9-4406-96f4-cc9b2c089874 button.colab-df-convert');\n",
              "      buttonEl.style.display =\n",
              "        google.colab.kernel.accessAllowed ? 'block' : 'none';\n",
              "\n",
              "      async function convertToInteractive(key) {\n",
              "        const element = document.querySelector('#df-1461bd4a-57f9-4406-96f4-cc9b2c089874');\n",
              "        const dataTable =\n",
              "          await google.colab.kernel.invokeFunction('convertToInteractive',\n",
              "                                                    [key], {});\n",
              "        if (!dataTable) return;\n",
              "\n",
              "        const docLinkHtml = 'Like what you see? Visit the ' +\n",
              "          '<a target=\"_blank\" href=https://colab.research.google.com/notebooks/data_table.ipynb>data table notebook</a>'\n",
              "          + ' to learn more about interactive tables.';\n",
              "        element.innerHTML = '';\n",
              "        dataTable['output_type'] = 'display_data';\n",
              "        await google.colab.output.renderOutput(dataTable, element);\n",
              "        const docLink = document.createElement('div');\n",
              "        docLink.innerHTML = docLinkHtml;\n",
              "        element.appendChild(docLink);\n",
              "      }\n",
              "    </script>\n",
              "  </div>\n",
              "\n",
              "\n",
              "<div id=\"df-ca7926b0-317c-4b68-a235-2d2192aa983f\">\n",
              "  <button class=\"colab-df-quickchart\" onclick=\"quickchart('df-ca7926b0-317c-4b68-a235-2d2192aa983f')\"\n",
              "            title=\"Suggest charts\"\n",
              "            style=\"display:none;\">\n",
              "\n",
              "<svg xmlns=\"http://www.w3.org/2000/svg\" height=\"24px\"viewBox=\"0 0 24 24\"\n",
              "     width=\"24px\">\n",
              "    <g>\n",
              "        <path d=\"M19 3H5c-1.1 0-2 .9-2 2v14c0 1.1.9 2 2 2h14c1.1 0 2-.9 2-2V5c0-1.1-.9-2-2-2zM9 17H7v-7h2v7zm4 0h-2V7h2v10zm4 0h-2v-4h2v4z\"/>\n",
              "    </g>\n",
              "</svg>\n",
              "  </button>\n",
              "\n",
              "<style>\n",
              "  .colab-df-quickchart {\n",
              "      --bg-color: #E8F0FE;\n",
              "      --fill-color: #1967D2;\n",
              "      --hover-bg-color: #E2EBFA;\n",
              "      --hover-fill-color: #174EA6;\n",
              "      --disabled-fill-color: #AAA;\n",
              "      --disabled-bg-color: #DDD;\n",
              "  }\n",
              "\n",
              "  [theme=dark] .colab-df-quickchart {\n",
              "      --bg-color: #3B4455;\n",
              "      --fill-color: #D2E3FC;\n",
              "      --hover-bg-color: #434B5C;\n",
              "      --hover-fill-color: #FFFFFF;\n",
              "      --disabled-bg-color: #3B4455;\n",
              "      --disabled-fill-color: #666;\n",
              "  }\n",
              "\n",
              "  .colab-df-quickchart {\n",
              "    background-color: var(--bg-color);\n",
              "    border: none;\n",
              "    border-radius: 50%;\n",
              "    cursor: pointer;\n",
              "    display: none;\n",
              "    fill: var(--fill-color);\n",
              "    height: 32px;\n",
              "    padding: 0;\n",
              "    width: 32px;\n",
              "  }\n",
              "\n",
              "  .colab-df-quickchart:hover {\n",
              "    background-color: var(--hover-bg-color);\n",
              "    box-shadow: 0 1px 2px rgba(60, 64, 67, 0.3), 0 1px 3px 1px rgba(60, 64, 67, 0.15);\n",
              "    fill: var(--button-hover-fill-color);\n",
              "  }\n",
              "\n",
              "  .colab-df-quickchart-complete:disabled,\n",
              "  .colab-df-quickchart-complete:disabled:hover {\n",
              "    background-color: var(--disabled-bg-color);\n",
              "    fill: var(--disabled-fill-color);\n",
              "    box-shadow: none;\n",
              "  }\n",
              "\n",
              "  .colab-df-spinner {\n",
              "    border: 2px solid var(--fill-color);\n",
              "    border-color: transparent;\n",
              "    border-bottom-color: var(--fill-color);\n",
              "    animation:\n",
              "      spin 1s steps(1) infinite;\n",
              "  }\n",
              "\n",
              "  @keyframes spin {\n",
              "    0% {\n",
              "      border-color: transparent;\n",
              "      border-bottom-color: var(--fill-color);\n",
              "      border-left-color: var(--fill-color);\n",
              "    }\n",
              "    20% {\n",
              "      border-color: transparent;\n",
              "      border-left-color: var(--fill-color);\n",
              "      border-top-color: var(--fill-color);\n",
              "    }\n",
              "    30% {\n",
              "      border-color: transparent;\n",
              "      border-left-color: var(--fill-color);\n",
              "      border-top-color: var(--fill-color);\n",
              "      border-right-color: var(--fill-color);\n",
              "    }\n",
              "    40% {\n",
              "      border-color: transparent;\n",
              "      border-right-color: var(--fill-color);\n",
              "      border-top-color: var(--fill-color);\n",
              "    }\n",
              "    60% {\n",
              "      border-color: transparent;\n",
              "      border-right-color: var(--fill-color);\n",
              "    }\n",
              "    80% {\n",
              "      border-color: transparent;\n",
              "      border-right-color: var(--fill-color);\n",
              "      border-bottom-color: var(--fill-color);\n",
              "    }\n",
              "    90% {\n",
              "      border-color: transparent;\n",
              "      border-bottom-color: var(--fill-color);\n",
              "    }\n",
              "  }\n",
              "</style>\n",
              "\n",
              "  <script>\n",
              "    async function quickchart(key) {\n",
              "      const quickchartButtonEl =\n",
              "        document.querySelector('#' + key + ' button');\n",
              "      quickchartButtonEl.disabled = true;  // To prevent multiple clicks.\n",
              "      quickchartButtonEl.classList.add('colab-df-spinner');\n",
              "      try {\n",
              "        const charts = await google.colab.kernel.invokeFunction(\n",
              "            'suggestCharts', [key], {});\n",
              "      } catch (error) {\n",
              "        console.error('Error during call to suggestCharts:', error);\n",
              "      }\n",
              "      quickchartButtonEl.classList.remove('colab-df-spinner');\n",
              "      quickchartButtonEl.classList.add('colab-df-quickchart-complete');\n",
              "    }\n",
              "    (() => {\n",
              "      let quickchartButtonEl =\n",
              "        document.querySelector('#df-ca7926b0-317c-4b68-a235-2d2192aa983f button');\n",
              "      quickchartButtonEl.style.display =\n",
              "        google.colab.kernel.accessAllowed ? 'block' : 'none';\n",
              "    })();\n",
              "  </script>\n",
              "</div>\n",
              "\n",
              "    </div>\n",
              "  </div>\n"
            ],
            "application/vnd.google.colaboratory.intrinsic+json": {
              "type": "dataframe",
              "variable_name": "df",
              "summary": "{\n  \"name\": \"df\",\n  \"rows\": 100000,\n  \"fields\": [\n    {\n      \"column\": \"gender\",\n      \"properties\": {\n        \"dtype\": \"category\",\n        \"num_unique_values\": 3,\n        \"samples\": [\n          \"Female\",\n          \"Male\",\n          \"Other\"\n        ],\n        \"semantic_type\": \"\",\n        \"description\": \"\"\n      }\n    },\n    {\n      \"column\": \"age\",\n      \"properties\": {\n        \"dtype\": \"number\",\n        \"std\": 22.516839871617023,\n        \"min\": 0.08,\n        \"max\": 80.0,\n        \"num_unique_values\": 102,\n        \"samples\": [\n          29.0,\n          39.0,\n          16.0\n        ],\n        \"semantic_type\": \"\",\n        \"description\": \"\"\n      }\n    },\n    {\n      \"column\": \"hypertension\",\n      \"properties\": {\n        \"dtype\": \"number\",\n        \"std\": 0,\n        \"min\": 0,\n        \"max\": 1,\n        \"num_unique_values\": 2,\n        \"samples\": [\n          1,\n          0\n        ],\n        \"semantic_type\": \"\",\n        \"description\": \"\"\n      }\n    },\n    {\n      \"column\": \"heart_disease\",\n      \"properties\": {\n        \"dtype\": \"number\",\n        \"std\": 0,\n        \"min\": 0,\n        \"max\": 1,\n        \"num_unique_values\": 2,\n        \"samples\": [\n          0,\n          1\n        ],\n        \"semantic_type\": \"\",\n        \"description\": \"\"\n      }\n    },\n    {\n      \"column\": \"smoking_history\",\n      \"properties\": {\n        \"dtype\": \"category\",\n        \"num_unique_values\": 6,\n        \"samples\": [\n          \"never\",\n          \"No Info\"\n        ],\n        \"semantic_type\": \"\",\n        \"description\": \"\"\n      }\n    },\n    {\n      \"column\": \"bmi\",\n      \"properties\": {\n        \"dtype\": \"number\",\n        \"std\": 6.636783416648369,\n        \"min\": 10.01,\n        \"max\": 95.69,\n        \"num_unique_values\": 4247,\n        \"samples\": [\n          53.27,\n          32.33\n        ],\n        \"semantic_type\": \"\",\n        \"description\": \"\"\n      }\n    },\n    {\n      \"column\": \"HbA1c_level\",\n      \"properties\": {\n        \"dtype\": \"number\",\n        \"std\": 1.0706720918835437,\n        \"min\": 3.5,\n        \"max\": 9.0,\n        \"num_unique_values\": 18,\n        \"samples\": [\n          6.6,\n          5.7\n        ],\n        \"semantic_type\": \"\",\n        \"description\": \"\"\n      }\n    },\n    {\n      \"column\": \"blood_glucose_level\",\n      \"properties\": {\n        \"dtype\": \"number\",\n        \"std\": 40,\n        \"min\": 80,\n        \"max\": 300,\n        \"num_unique_values\": 18,\n        \"samples\": [\n          140,\n          80\n        ],\n        \"semantic_type\": \"\",\n        \"description\": \"\"\n      }\n    },\n    {\n      \"column\": \"diabetes\",\n      \"properties\": {\n        \"dtype\": \"number\",\n        \"std\": 0,\n        \"min\": 0,\n        \"max\": 1,\n        \"num_unique_values\": 2,\n        \"samples\": [\n          1,\n          0\n        ],\n        \"semantic_type\": \"\",\n        \"description\": \"\"\n      }\n    }\n  ]\n}"
            }
          },
          "metadata": {},
          "execution_count": 6
        }
      ]
    },
    {
      "cell_type": "markdown",
      "source": [
        "## Label Encoder"
      ],
      "metadata": {
        "id": "XD-DM0AWfBZN"
      }
    },
    {
      "cell_type": "code",
      "source": [
        "from sklearn.preprocessing import LabelEncoder"
      ],
      "metadata": {
        "id": "E0VTIww-fNxj"
      },
      "execution_count": 7,
      "outputs": []
    },
    {
      "cell_type": "code",
      "source": [
        "encoder=LabelEncoder()"
      ],
      "metadata": {
        "id": "V2koglEWgIuq"
      },
      "execution_count": 8,
      "outputs": []
    },
    {
      "cell_type": "code",
      "source": [
        "cat = ['gender', 'smoking_history']\n",
        "for i in cat:\n",
        "  encoder = LabelEncoder()\n",
        "  encoded_data = encoder.fit_transform(df[i])\n",
        "  df[i] = encoded_data"
      ],
      "metadata": {
        "id": "Nrp8I96JgOol"
      },
      "execution_count": 9,
      "outputs": []
    },
    {
      "cell_type": "code",
      "source": [
        "df.head()"
      ],
      "metadata": {
        "colab": {
          "base_uri": "https://localhost:8080/",
          "height": 206
        },
        "id": "OKiw9daihGGq",
        "outputId": "3693225c-a9cc-4f09-9272-5a6bfa87f683"
      },
      "execution_count": 10,
      "outputs": [
        {
          "output_type": "execute_result",
          "data": {
            "text/plain": [
              "   gender   age  hypertension  heart_disease  smoking_history    bmi  \\\n",
              "0       0  80.0             0              1                4  25.19   \n",
              "1       0  54.0             0              0                0  27.32   \n",
              "2       1  28.0             0              0                4  27.32   \n",
              "3       0  36.0             0              0                1  23.45   \n",
              "4       1  76.0             1              1                1  20.14   \n",
              "\n",
              "   HbA1c_level  blood_glucose_level  diabetes  \n",
              "0          6.6                  140         0  \n",
              "1          6.6                   80         0  \n",
              "2          5.7                  158         0  \n",
              "3          5.0                  155         0  \n",
              "4          4.8                  155         0  "
            ],
            "text/html": [
              "\n",
              "  <div id=\"df-63e55ce5-919c-44c0-8ea5-ef0b097a5f16\" class=\"colab-df-container\">\n",
              "    <div>\n",
              "<style scoped>\n",
              "    .dataframe tbody tr th:only-of-type {\n",
              "        vertical-align: middle;\n",
              "    }\n",
              "\n",
              "    .dataframe tbody tr th {\n",
              "        vertical-align: top;\n",
              "    }\n",
              "\n",
              "    .dataframe thead th {\n",
              "        text-align: right;\n",
              "    }\n",
              "</style>\n",
              "<table border=\"1\" class=\"dataframe\">\n",
              "  <thead>\n",
              "    <tr style=\"text-align: right;\">\n",
              "      <th></th>\n",
              "      <th>gender</th>\n",
              "      <th>age</th>\n",
              "      <th>hypertension</th>\n",
              "      <th>heart_disease</th>\n",
              "      <th>smoking_history</th>\n",
              "      <th>bmi</th>\n",
              "      <th>HbA1c_level</th>\n",
              "      <th>blood_glucose_level</th>\n",
              "      <th>diabetes</th>\n",
              "    </tr>\n",
              "  </thead>\n",
              "  <tbody>\n",
              "    <tr>\n",
              "      <th>0</th>\n",
              "      <td>0</td>\n",
              "      <td>80.0</td>\n",
              "      <td>0</td>\n",
              "      <td>1</td>\n",
              "      <td>4</td>\n",
              "      <td>25.19</td>\n",
              "      <td>6.6</td>\n",
              "      <td>140</td>\n",
              "      <td>0</td>\n",
              "    </tr>\n",
              "    <tr>\n",
              "      <th>1</th>\n",
              "      <td>0</td>\n",
              "      <td>54.0</td>\n",
              "      <td>0</td>\n",
              "      <td>0</td>\n",
              "      <td>0</td>\n",
              "      <td>27.32</td>\n",
              "      <td>6.6</td>\n",
              "      <td>80</td>\n",
              "      <td>0</td>\n",
              "    </tr>\n",
              "    <tr>\n",
              "      <th>2</th>\n",
              "      <td>1</td>\n",
              "      <td>28.0</td>\n",
              "      <td>0</td>\n",
              "      <td>0</td>\n",
              "      <td>4</td>\n",
              "      <td>27.32</td>\n",
              "      <td>5.7</td>\n",
              "      <td>158</td>\n",
              "      <td>0</td>\n",
              "    </tr>\n",
              "    <tr>\n",
              "      <th>3</th>\n",
              "      <td>0</td>\n",
              "      <td>36.0</td>\n",
              "      <td>0</td>\n",
              "      <td>0</td>\n",
              "      <td>1</td>\n",
              "      <td>23.45</td>\n",
              "      <td>5.0</td>\n",
              "      <td>155</td>\n",
              "      <td>0</td>\n",
              "    </tr>\n",
              "    <tr>\n",
              "      <th>4</th>\n",
              "      <td>1</td>\n",
              "      <td>76.0</td>\n",
              "      <td>1</td>\n",
              "      <td>1</td>\n",
              "      <td>1</td>\n",
              "      <td>20.14</td>\n",
              "      <td>4.8</td>\n",
              "      <td>155</td>\n",
              "      <td>0</td>\n",
              "    </tr>\n",
              "  </tbody>\n",
              "</table>\n",
              "</div>\n",
              "    <div class=\"colab-df-buttons\">\n",
              "\n",
              "  <div class=\"colab-df-container\">\n",
              "    <button class=\"colab-df-convert\" onclick=\"convertToInteractive('df-63e55ce5-919c-44c0-8ea5-ef0b097a5f16')\"\n",
              "            title=\"Convert this dataframe to an interactive table.\"\n",
              "            style=\"display:none;\">\n",
              "\n",
              "  <svg xmlns=\"http://www.w3.org/2000/svg\" height=\"24px\" viewBox=\"0 -960 960 960\">\n",
              "    <path d=\"M120-120v-720h720v720H120Zm60-500h600v-160H180v160Zm220 220h160v-160H400v160Zm0 220h160v-160H400v160ZM180-400h160v-160H180v160Zm440 0h160v-160H620v160ZM180-180h160v-160H180v160Zm440 0h160v-160H620v160Z\"/>\n",
              "  </svg>\n",
              "    </button>\n",
              "\n",
              "  <style>\n",
              "    .colab-df-container {\n",
              "      display:flex;\n",
              "      gap: 12px;\n",
              "    }\n",
              "\n",
              "    .colab-df-convert {\n",
              "      background-color: #E8F0FE;\n",
              "      border: none;\n",
              "      border-radius: 50%;\n",
              "      cursor: pointer;\n",
              "      display: none;\n",
              "      fill: #1967D2;\n",
              "      height: 32px;\n",
              "      padding: 0 0 0 0;\n",
              "      width: 32px;\n",
              "    }\n",
              "\n",
              "    .colab-df-convert:hover {\n",
              "      background-color: #E2EBFA;\n",
              "      box-shadow: 0px 1px 2px rgba(60, 64, 67, 0.3), 0px 1px 3px 1px rgba(60, 64, 67, 0.15);\n",
              "      fill: #174EA6;\n",
              "    }\n",
              "\n",
              "    .colab-df-buttons div {\n",
              "      margin-bottom: 4px;\n",
              "    }\n",
              "\n",
              "    [theme=dark] .colab-df-convert {\n",
              "      background-color: #3B4455;\n",
              "      fill: #D2E3FC;\n",
              "    }\n",
              "\n",
              "    [theme=dark] .colab-df-convert:hover {\n",
              "      background-color: #434B5C;\n",
              "      box-shadow: 0px 1px 3px 1px rgba(0, 0, 0, 0.15);\n",
              "      filter: drop-shadow(0px 1px 2px rgba(0, 0, 0, 0.3));\n",
              "      fill: #FFFFFF;\n",
              "    }\n",
              "  </style>\n",
              "\n",
              "    <script>\n",
              "      const buttonEl =\n",
              "        document.querySelector('#df-63e55ce5-919c-44c0-8ea5-ef0b097a5f16 button.colab-df-convert');\n",
              "      buttonEl.style.display =\n",
              "        google.colab.kernel.accessAllowed ? 'block' : 'none';\n",
              "\n",
              "      async function convertToInteractive(key) {\n",
              "        const element = document.querySelector('#df-63e55ce5-919c-44c0-8ea5-ef0b097a5f16');\n",
              "        const dataTable =\n",
              "          await google.colab.kernel.invokeFunction('convertToInteractive',\n",
              "                                                    [key], {});\n",
              "        if (!dataTable) return;\n",
              "\n",
              "        const docLinkHtml = 'Like what you see? Visit the ' +\n",
              "          '<a target=\"_blank\" href=https://colab.research.google.com/notebooks/data_table.ipynb>data table notebook</a>'\n",
              "          + ' to learn more about interactive tables.';\n",
              "        element.innerHTML = '';\n",
              "        dataTable['output_type'] = 'display_data';\n",
              "        await google.colab.output.renderOutput(dataTable, element);\n",
              "        const docLink = document.createElement('div');\n",
              "        docLink.innerHTML = docLinkHtml;\n",
              "        element.appendChild(docLink);\n",
              "      }\n",
              "    </script>\n",
              "  </div>\n",
              "\n",
              "\n",
              "<div id=\"df-2ea7b5c6-bbad-4b7d-a610-376449d8f54f\">\n",
              "  <button class=\"colab-df-quickchart\" onclick=\"quickchart('df-2ea7b5c6-bbad-4b7d-a610-376449d8f54f')\"\n",
              "            title=\"Suggest charts\"\n",
              "            style=\"display:none;\">\n",
              "\n",
              "<svg xmlns=\"http://www.w3.org/2000/svg\" height=\"24px\"viewBox=\"0 0 24 24\"\n",
              "     width=\"24px\">\n",
              "    <g>\n",
              "        <path d=\"M19 3H5c-1.1 0-2 .9-2 2v14c0 1.1.9 2 2 2h14c1.1 0 2-.9 2-2V5c0-1.1-.9-2-2-2zM9 17H7v-7h2v7zm4 0h-2V7h2v10zm4 0h-2v-4h2v4z\"/>\n",
              "    </g>\n",
              "</svg>\n",
              "  </button>\n",
              "\n",
              "<style>\n",
              "  .colab-df-quickchart {\n",
              "      --bg-color: #E8F0FE;\n",
              "      --fill-color: #1967D2;\n",
              "      --hover-bg-color: #E2EBFA;\n",
              "      --hover-fill-color: #174EA6;\n",
              "      --disabled-fill-color: #AAA;\n",
              "      --disabled-bg-color: #DDD;\n",
              "  }\n",
              "\n",
              "  [theme=dark] .colab-df-quickchart {\n",
              "      --bg-color: #3B4455;\n",
              "      --fill-color: #D2E3FC;\n",
              "      --hover-bg-color: #434B5C;\n",
              "      --hover-fill-color: #FFFFFF;\n",
              "      --disabled-bg-color: #3B4455;\n",
              "      --disabled-fill-color: #666;\n",
              "  }\n",
              "\n",
              "  .colab-df-quickchart {\n",
              "    background-color: var(--bg-color);\n",
              "    border: none;\n",
              "    border-radius: 50%;\n",
              "    cursor: pointer;\n",
              "    display: none;\n",
              "    fill: var(--fill-color);\n",
              "    height: 32px;\n",
              "    padding: 0;\n",
              "    width: 32px;\n",
              "  }\n",
              "\n",
              "  .colab-df-quickchart:hover {\n",
              "    background-color: var(--hover-bg-color);\n",
              "    box-shadow: 0 1px 2px rgba(60, 64, 67, 0.3), 0 1px 3px 1px rgba(60, 64, 67, 0.15);\n",
              "    fill: var(--button-hover-fill-color);\n",
              "  }\n",
              "\n",
              "  .colab-df-quickchart-complete:disabled,\n",
              "  .colab-df-quickchart-complete:disabled:hover {\n",
              "    background-color: var(--disabled-bg-color);\n",
              "    fill: var(--disabled-fill-color);\n",
              "    box-shadow: none;\n",
              "  }\n",
              "\n",
              "  .colab-df-spinner {\n",
              "    border: 2px solid var(--fill-color);\n",
              "    border-color: transparent;\n",
              "    border-bottom-color: var(--fill-color);\n",
              "    animation:\n",
              "      spin 1s steps(1) infinite;\n",
              "  }\n",
              "\n",
              "  @keyframes spin {\n",
              "    0% {\n",
              "      border-color: transparent;\n",
              "      border-bottom-color: var(--fill-color);\n",
              "      border-left-color: var(--fill-color);\n",
              "    }\n",
              "    20% {\n",
              "      border-color: transparent;\n",
              "      border-left-color: var(--fill-color);\n",
              "      border-top-color: var(--fill-color);\n",
              "    }\n",
              "    30% {\n",
              "      border-color: transparent;\n",
              "      border-left-color: var(--fill-color);\n",
              "      border-top-color: var(--fill-color);\n",
              "      border-right-color: var(--fill-color);\n",
              "    }\n",
              "    40% {\n",
              "      border-color: transparent;\n",
              "      border-right-color: var(--fill-color);\n",
              "      border-top-color: var(--fill-color);\n",
              "    }\n",
              "    60% {\n",
              "      border-color: transparent;\n",
              "      border-right-color: var(--fill-color);\n",
              "    }\n",
              "    80% {\n",
              "      border-color: transparent;\n",
              "      border-right-color: var(--fill-color);\n",
              "      border-bottom-color: var(--fill-color);\n",
              "    }\n",
              "    90% {\n",
              "      border-color: transparent;\n",
              "      border-bottom-color: var(--fill-color);\n",
              "    }\n",
              "  }\n",
              "</style>\n",
              "\n",
              "  <script>\n",
              "    async function quickchart(key) {\n",
              "      const quickchartButtonEl =\n",
              "        document.querySelector('#' + key + ' button');\n",
              "      quickchartButtonEl.disabled = true;  // To prevent multiple clicks.\n",
              "      quickchartButtonEl.classList.add('colab-df-spinner');\n",
              "      try {\n",
              "        const charts = await google.colab.kernel.invokeFunction(\n",
              "            'suggestCharts', [key], {});\n",
              "      } catch (error) {\n",
              "        console.error('Error during call to suggestCharts:', error);\n",
              "      }\n",
              "      quickchartButtonEl.classList.remove('colab-df-spinner');\n",
              "      quickchartButtonEl.classList.add('colab-df-quickchart-complete');\n",
              "    }\n",
              "    (() => {\n",
              "      let quickchartButtonEl =\n",
              "        document.querySelector('#df-2ea7b5c6-bbad-4b7d-a610-376449d8f54f button');\n",
              "      quickchartButtonEl.style.display =\n",
              "        google.colab.kernel.accessAllowed ? 'block' : 'none';\n",
              "    })();\n",
              "  </script>\n",
              "</div>\n",
              "\n",
              "    </div>\n",
              "  </div>\n"
            ],
            "application/vnd.google.colaboratory.intrinsic+json": {
              "type": "dataframe",
              "variable_name": "df",
              "summary": "{\n  \"name\": \"df\",\n  \"rows\": 100000,\n  \"fields\": [\n    {\n      \"column\": \"gender\",\n      \"properties\": {\n        \"dtype\": \"number\",\n        \"std\": 0,\n        \"min\": 0,\n        \"max\": 2,\n        \"num_unique_values\": 3,\n        \"samples\": [\n          0,\n          1,\n          2\n        ],\n        \"semantic_type\": \"\",\n        \"description\": \"\"\n      }\n    },\n    {\n      \"column\": \"age\",\n      \"properties\": {\n        \"dtype\": \"number\",\n        \"std\": 22.516839871617023,\n        \"min\": 0.08,\n        \"max\": 80.0,\n        \"num_unique_values\": 102,\n        \"samples\": [\n          29.0,\n          39.0,\n          16.0\n        ],\n        \"semantic_type\": \"\",\n        \"description\": \"\"\n      }\n    },\n    {\n      \"column\": \"hypertension\",\n      \"properties\": {\n        \"dtype\": \"number\",\n        \"std\": 0,\n        \"min\": 0,\n        \"max\": 1,\n        \"num_unique_values\": 2,\n        \"samples\": [\n          1,\n          0\n        ],\n        \"semantic_type\": \"\",\n        \"description\": \"\"\n      }\n    },\n    {\n      \"column\": \"heart_disease\",\n      \"properties\": {\n        \"dtype\": \"number\",\n        \"std\": 0,\n        \"min\": 0,\n        \"max\": 1,\n        \"num_unique_values\": 2,\n        \"samples\": [\n          0,\n          1\n        ],\n        \"semantic_type\": \"\",\n        \"description\": \"\"\n      }\n    },\n    {\n      \"column\": \"smoking_history\",\n      \"properties\": {\n        \"dtype\": \"number\",\n        \"std\": 1,\n        \"min\": 0,\n        \"max\": 5,\n        \"num_unique_values\": 6,\n        \"samples\": [\n          4,\n          0\n        ],\n        \"semantic_type\": \"\",\n        \"description\": \"\"\n      }\n    },\n    {\n      \"column\": \"bmi\",\n      \"properties\": {\n        \"dtype\": \"number\",\n        \"std\": 6.636783416648369,\n        \"min\": 10.01,\n        \"max\": 95.69,\n        \"num_unique_values\": 4247,\n        \"samples\": [\n          53.27,\n          32.33\n        ],\n        \"semantic_type\": \"\",\n        \"description\": \"\"\n      }\n    },\n    {\n      \"column\": \"HbA1c_level\",\n      \"properties\": {\n        \"dtype\": \"number\",\n        \"std\": 1.0706720918835437,\n        \"min\": 3.5,\n        \"max\": 9.0,\n        \"num_unique_values\": 18,\n        \"samples\": [\n          6.6,\n          5.7\n        ],\n        \"semantic_type\": \"\",\n        \"description\": \"\"\n      }\n    },\n    {\n      \"column\": \"blood_glucose_level\",\n      \"properties\": {\n        \"dtype\": \"number\",\n        \"std\": 40,\n        \"min\": 80,\n        \"max\": 300,\n        \"num_unique_values\": 18,\n        \"samples\": [\n          140,\n          80\n        ],\n        \"semantic_type\": \"\",\n        \"description\": \"\"\n      }\n    },\n    {\n      \"column\": \"diabetes\",\n      \"properties\": {\n        \"dtype\": \"number\",\n        \"std\": 0,\n        \"min\": 0,\n        \"max\": 1,\n        \"num_unique_values\": 2,\n        \"samples\": [\n          1,\n          0\n        ],\n        \"semantic_type\": \"\",\n        \"description\": \"\"\n      }\n    }\n  ]\n}"
            }
          },
          "metadata": {},
          "execution_count": 10
        }
      ]
    },
    {
      "cell_type": "markdown",
      "source": [
        "## Dataset Split"
      ],
      "metadata": {
        "id": "qgQw-SGxi6Q0"
      }
    },
    {
      "cell_type": "code",
      "source": [
        "from sklearn.model_selection import train_test_split"
      ],
      "metadata": {
        "id": "U4zoNhG5hI7m"
      },
      "execution_count": 11,
      "outputs": []
    },
    {
      "cell_type": "code",
      "source": [
        "y=df['diabetes']\n",
        "x=df.drop(columns='diabetes')\n"
      ],
      "metadata": {
        "id": "ZW2oDCKTjBq7"
      },
      "execution_count": 12,
      "outputs": []
    },
    {
      "cell_type": "code",
      "source": [
        "x_train,x_test,y_train,y_test=train_test_split(x,y,random_state=42,test_size=0.2,stratify=y)"
      ],
      "metadata": {
        "id": "bVO08kwwjvOR"
      },
      "execution_count": 13,
      "outputs": []
    },
    {
      "cell_type": "code",
      "source": [
        "print(x_train.shape)\n",
        "print(y_train.shape)\n",
        "print(x_test.shape)\n",
        "print(y_test.shape)"
      ],
      "metadata": {
        "colab": {
          "base_uri": "https://localhost:8080/"
        },
        "id": "li5VsH2Bj89L",
        "outputId": "fa555ee9-e7a2-45e1-8015-ab3161775a0b"
      },
      "execution_count": 14,
      "outputs": [
        {
          "output_type": "stream",
          "name": "stdout",
          "text": [
            "(80000, 8)\n",
            "(80000,)\n",
            "(20000, 8)\n",
            "(20000,)\n"
          ]
        }
      ]
    },
    {
      "cell_type": "markdown",
      "source": [
        "## Standardization"
      ],
      "metadata": {
        "id": "18vkt1mRzPH4"
      }
    },
    {
      "cell_type": "code",
      "source": [
        "from sklearn.preprocessing import StandardScaler"
      ],
      "metadata": {
        "id": "QJIYA09WkG0J"
      },
      "execution_count": 15,
      "outputs": []
    },
    {
      "cell_type": "code",
      "source": [
        "scaler=StandardScaler()"
      ],
      "metadata": {
        "id": "t4cL1sOrzh3J"
      },
      "execution_count": 16,
      "outputs": []
    },
    {
      "cell_type": "code",
      "source": [
        "x_train=pd.DataFrame(scaler.fit_transform(x_train),columns=x_train.columns)\n",
        "x_test=pd.DataFrame(scaler.fit_transform(x_test),columns=x_test.columns)"
      ],
      "metadata": {
        "id": "Af4CZL1_zpT5"
      },
      "execution_count": 17,
      "outputs": []
    },
    {
      "cell_type": "code",
      "source": [
        "x_train.head()"
      ],
      "metadata": {
        "colab": {
          "base_uri": "https://localhost:8080/",
          "height": 206
        },
        "id": "QGCWrcqC0MYi",
        "outputId": "2f80b7b7-4fc3-4a54-a4ca-d1b910351c40"
      },
      "execution_count": 18,
      "outputs": [
        {
          "output_type": "execute_result",
          "data": {
            "text/plain": [
              "     gender       age  hypertension  heart_disease  smoking_history       bmi  \\\n",
              "0 -0.841697  1.691070      3.516004      -0.202792         0.432427  0.000472   \n",
              "1 -0.841697 -1.016460     -0.284414      -0.202792         0.961705 -0.321772   \n",
              "2 -0.841697 -0.261902     -0.284414      -0.202792        -1.155408 -0.205824   \n",
              "3 -0.841697 -0.306288     -0.284414      -0.202792        -0.626129 -0.585289   \n",
              "4 -0.841697 -0.528217     -0.284414      -0.202792        -1.155408 -0.707259   \n",
              "\n",
              "   HbA1c_level  blood_glucose_level  \n",
              "0     0.908249             0.170207  \n",
              "1    -0.959680            -0.297058  \n",
              "2     1.001645             1.522815  \n",
              "3     0.441267             0.514507  \n",
              "4    -0.492698            -1.182401  "
            ],
            "text/html": [
              "\n",
              "  <div id=\"df-7c2118f5-ba7d-45db-8b74-4ef9050b52dd\" class=\"colab-df-container\">\n",
              "    <div>\n",
              "<style scoped>\n",
              "    .dataframe tbody tr th:only-of-type {\n",
              "        vertical-align: middle;\n",
              "    }\n",
              "\n",
              "    .dataframe tbody tr th {\n",
              "        vertical-align: top;\n",
              "    }\n",
              "\n",
              "    .dataframe thead th {\n",
              "        text-align: right;\n",
              "    }\n",
              "</style>\n",
              "<table border=\"1\" class=\"dataframe\">\n",
              "  <thead>\n",
              "    <tr style=\"text-align: right;\">\n",
              "      <th></th>\n",
              "      <th>gender</th>\n",
              "      <th>age</th>\n",
              "      <th>hypertension</th>\n",
              "      <th>heart_disease</th>\n",
              "      <th>smoking_history</th>\n",
              "      <th>bmi</th>\n",
              "      <th>HbA1c_level</th>\n",
              "      <th>blood_glucose_level</th>\n",
              "    </tr>\n",
              "  </thead>\n",
              "  <tbody>\n",
              "    <tr>\n",
              "      <th>0</th>\n",
              "      <td>-0.841697</td>\n",
              "      <td>1.691070</td>\n",
              "      <td>3.516004</td>\n",
              "      <td>-0.202792</td>\n",
              "      <td>0.432427</td>\n",
              "      <td>0.000472</td>\n",
              "      <td>0.908249</td>\n",
              "      <td>0.170207</td>\n",
              "    </tr>\n",
              "    <tr>\n",
              "      <th>1</th>\n",
              "      <td>-0.841697</td>\n",
              "      <td>-1.016460</td>\n",
              "      <td>-0.284414</td>\n",
              "      <td>-0.202792</td>\n",
              "      <td>0.961705</td>\n",
              "      <td>-0.321772</td>\n",
              "      <td>-0.959680</td>\n",
              "      <td>-0.297058</td>\n",
              "    </tr>\n",
              "    <tr>\n",
              "      <th>2</th>\n",
              "      <td>-0.841697</td>\n",
              "      <td>-0.261902</td>\n",
              "      <td>-0.284414</td>\n",
              "      <td>-0.202792</td>\n",
              "      <td>-1.155408</td>\n",
              "      <td>-0.205824</td>\n",
              "      <td>1.001645</td>\n",
              "      <td>1.522815</td>\n",
              "    </tr>\n",
              "    <tr>\n",
              "      <th>3</th>\n",
              "      <td>-0.841697</td>\n",
              "      <td>-0.306288</td>\n",
              "      <td>-0.284414</td>\n",
              "      <td>-0.202792</td>\n",
              "      <td>-0.626129</td>\n",
              "      <td>-0.585289</td>\n",
              "      <td>0.441267</td>\n",
              "      <td>0.514507</td>\n",
              "    </tr>\n",
              "    <tr>\n",
              "      <th>4</th>\n",
              "      <td>-0.841697</td>\n",
              "      <td>-0.528217</td>\n",
              "      <td>-0.284414</td>\n",
              "      <td>-0.202792</td>\n",
              "      <td>-1.155408</td>\n",
              "      <td>-0.707259</td>\n",
              "      <td>-0.492698</td>\n",
              "      <td>-1.182401</td>\n",
              "    </tr>\n",
              "  </tbody>\n",
              "</table>\n",
              "</div>\n",
              "    <div class=\"colab-df-buttons\">\n",
              "\n",
              "  <div class=\"colab-df-container\">\n",
              "    <button class=\"colab-df-convert\" onclick=\"convertToInteractive('df-7c2118f5-ba7d-45db-8b74-4ef9050b52dd')\"\n",
              "            title=\"Convert this dataframe to an interactive table.\"\n",
              "            style=\"display:none;\">\n",
              "\n",
              "  <svg xmlns=\"http://www.w3.org/2000/svg\" height=\"24px\" viewBox=\"0 -960 960 960\">\n",
              "    <path d=\"M120-120v-720h720v720H120Zm60-500h600v-160H180v160Zm220 220h160v-160H400v160Zm0 220h160v-160H400v160ZM180-400h160v-160H180v160Zm440 0h160v-160H620v160ZM180-180h160v-160H180v160Zm440 0h160v-160H620v160Z\"/>\n",
              "  </svg>\n",
              "    </button>\n",
              "\n",
              "  <style>\n",
              "    .colab-df-container {\n",
              "      display:flex;\n",
              "      gap: 12px;\n",
              "    }\n",
              "\n",
              "    .colab-df-convert {\n",
              "      background-color: #E8F0FE;\n",
              "      border: none;\n",
              "      border-radius: 50%;\n",
              "      cursor: pointer;\n",
              "      display: none;\n",
              "      fill: #1967D2;\n",
              "      height: 32px;\n",
              "      padding: 0 0 0 0;\n",
              "      width: 32px;\n",
              "    }\n",
              "\n",
              "    .colab-df-convert:hover {\n",
              "      background-color: #E2EBFA;\n",
              "      box-shadow: 0px 1px 2px rgba(60, 64, 67, 0.3), 0px 1px 3px 1px rgba(60, 64, 67, 0.15);\n",
              "      fill: #174EA6;\n",
              "    }\n",
              "\n",
              "    .colab-df-buttons div {\n",
              "      margin-bottom: 4px;\n",
              "    }\n",
              "\n",
              "    [theme=dark] .colab-df-convert {\n",
              "      background-color: #3B4455;\n",
              "      fill: #D2E3FC;\n",
              "    }\n",
              "\n",
              "    [theme=dark] .colab-df-convert:hover {\n",
              "      background-color: #434B5C;\n",
              "      box-shadow: 0px 1px 3px 1px rgba(0, 0, 0, 0.15);\n",
              "      filter: drop-shadow(0px 1px 2px rgba(0, 0, 0, 0.3));\n",
              "      fill: #FFFFFF;\n",
              "    }\n",
              "  </style>\n",
              "\n",
              "    <script>\n",
              "      const buttonEl =\n",
              "        document.querySelector('#df-7c2118f5-ba7d-45db-8b74-4ef9050b52dd button.colab-df-convert');\n",
              "      buttonEl.style.display =\n",
              "        google.colab.kernel.accessAllowed ? 'block' : 'none';\n",
              "\n",
              "      async function convertToInteractive(key) {\n",
              "        const element = document.querySelector('#df-7c2118f5-ba7d-45db-8b74-4ef9050b52dd');\n",
              "        const dataTable =\n",
              "          await google.colab.kernel.invokeFunction('convertToInteractive',\n",
              "                                                    [key], {});\n",
              "        if (!dataTable) return;\n",
              "\n",
              "        const docLinkHtml = 'Like what you see? Visit the ' +\n",
              "          '<a target=\"_blank\" href=https://colab.research.google.com/notebooks/data_table.ipynb>data table notebook</a>'\n",
              "          + ' to learn more about interactive tables.';\n",
              "        element.innerHTML = '';\n",
              "        dataTable['output_type'] = 'display_data';\n",
              "        await google.colab.output.renderOutput(dataTable, element);\n",
              "        const docLink = document.createElement('div');\n",
              "        docLink.innerHTML = docLinkHtml;\n",
              "        element.appendChild(docLink);\n",
              "      }\n",
              "    </script>\n",
              "  </div>\n",
              "\n",
              "\n",
              "<div id=\"df-c0252e10-ac38-4e79-b653-debc31230dcc\">\n",
              "  <button class=\"colab-df-quickchart\" onclick=\"quickchart('df-c0252e10-ac38-4e79-b653-debc31230dcc')\"\n",
              "            title=\"Suggest charts\"\n",
              "            style=\"display:none;\">\n",
              "\n",
              "<svg xmlns=\"http://www.w3.org/2000/svg\" height=\"24px\"viewBox=\"0 0 24 24\"\n",
              "     width=\"24px\">\n",
              "    <g>\n",
              "        <path d=\"M19 3H5c-1.1 0-2 .9-2 2v14c0 1.1.9 2 2 2h14c1.1 0 2-.9 2-2V5c0-1.1-.9-2-2-2zM9 17H7v-7h2v7zm4 0h-2V7h2v10zm4 0h-2v-4h2v4z\"/>\n",
              "    </g>\n",
              "</svg>\n",
              "  </button>\n",
              "\n",
              "<style>\n",
              "  .colab-df-quickchart {\n",
              "      --bg-color: #E8F0FE;\n",
              "      --fill-color: #1967D2;\n",
              "      --hover-bg-color: #E2EBFA;\n",
              "      --hover-fill-color: #174EA6;\n",
              "      --disabled-fill-color: #AAA;\n",
              "      --disabled-bg-color: #DDD;\n",
              "  }\n",
              "\n",
              "  [theme=dark] .colab-df-quickchart {\n",
              "      --bg-color: #3B4455;\n",
              "      --fill-color: #D2E3FC;\n",
              "      --hover-bg-color: #434B5C;\n",
              "      --hover-fill-color: #FFFFFF;\n",
              "      --disabled-bg-color: #3B4455;\n",
              "      --disabled-fill-color: #666;\n",
              "  }\n",
              "\n",
              "  .colab-df-quickchart {\n",
              "    background-color: var(--bg-color);\n",
              "    border: none;\n",
              "    border-radius: 50%;\n",
              "    cursor: pointer;\n",
              "    display: none;\n",
              "    fill: var(--fill-color);\n",
              "    height: 32px;\n",
              "    padding: 0;\n",
              "    width: 32px;\n",
              "  }\n",
              "\n",
              "  .colab-df-quickchart:hover {\n",
              "    background-color: var(--hover-bg-color);\n",
              "    box-shadow: 0 1px 2px rgba(60, 64, 67, 0.3), 0 1px 3px 1px rgba(60, 64, 67, 0.15);\n",
              "    fill: var(--button-hover-fill-color);\n",
              "  }\n",
              "\n",
              "  .colab-df-quickchart-complete:disabled,\n",
              "  .colab-df-quickchart-complete:disabled:hover {\n",
              "    background-color: var(--disabled-bg-color);\n",
              "    fill: var(--disabled-fill-color);\n",
              "    box-shadow: none;\n",
              "  }\n",
              "\n",
              "  .colab-df-spinner {\n",
              "    border: 2px solid var(--fill-color);\n",
              "    border-color: transparent;\n",
              "    border-bottom-color: var(--fill-color);\n",
              "    animation:\n",
              "      spin 1s steps(1) infinite;\n",
              "  }\n",
              "\n",
              "  @keyframes spin {\n",
              "    0% {\n",
              "      border-color: transparent;\n",
              "      border-bottom-color: var(--fill-color);\n",
              "      border-left-color: var(--fill-color);\n",
              "    }\n",
              "    20% {\n",
              "      border-color: transparent;\n",
              "      border-left-color: var(--fill-color);\n",
              "      border-top-color: var(--fill-color);\n",
              "    }\n",
              "    30% {\n",
              "      border-color: transparent;\n",
              "      border-left-color: var(--fill-color);\n",
              "      border-top-color: var(--fill-color);\n",
              "      border-right-color: var(--fill-color);\n",
              "    }\n",
              "    40% {\n",
              "      border-color: transparent;\n",
              "      border-right-color: var(--fill-color);\n",
              "      border-top-color: var(--fill-color);\n",
              "    }\n",
              "    60% {\n",
              "      border-color: transparent;\n",
              "      border-right-color: var(--fill-color);\n",
              "    }\n",
              "    80% {\n",
              "      border-color: transparent;\n",
              "      border-right-color: var(--fill-color);\n",
              "      border-bottom-color: var(--fill-color);\n",
              "    }\n",
              "    90% {\n",
              "      border-color: transparent;\n",
              "      border-bottom-color: var(--fill-color);\n",
              "    }\n",
              "  }\n",
              "</style>\n",
              "\n",
              "  <script>\n",
              "    async function quickchart(key) {\n",
              "      const quickchartButtonEl =\n",
              "        document.querySelector('#' + key + ' button');\n",
              "      quickchartButtonEl.disabled = true;  // To prevent multiple clicks.\n",
              "      quickchartButtonEl.classList.add('colab-df-spinner');\n",
              "      try {\n",
              "        const charts = await google.colab.kernel.invokeFunction(\n",
              "            'suggestCharts', [key], {});\n",
              "      } catch (error) {\n",
              "        console.error('Error during call to suggestCharts:', error);\n",
              "      }\n",
              "      quickchartButtonEl.classList.remove('colab-df-spinner');\n",
              "      quickchartButtonEl.classList.add('colab-df-quickchart-complete');\n",
              "    }\n",
              "    (() => {\n",
              "      let quickchartButtonEl =\n",
              "        document.querySelector('#df-c0252e10-ac38-4e79-b653-debc31230dcc button');\n",
              "      quickchartButtonEl.style.display =\n",
              "        google.colab.kernel.accessAllowed ? 'block' : 'none';\n",
              "    })();\n",
              "  </script>\n",
              "</div>\n",
              "\n",
              "    </div>\n",
              "  </div>\n"
            ],
            "application/vnd.google.colaboratory.intrinsic+json": {
              "type": "dataframe",
              "variable_name": "x_train",
              "summary": "{\n  \"name\": \"x_train\",\n  \"rows\": 80000,\n  \"fields\": [\n    {\n      \"column\": \"gender\",\n      \"properties\": {\n        \"dtype\": \"number\",\n        \"std\": 1.0000062500585942,\n        \"min\": -0.8416969128636198,\n        \"max\": 3.2139408049638556,\n        \"num_unique_values\": 3,\n        \"samples\": [\n          -0.8416969128636198,\n          1.186121946050118,\n          3.2139408049638556\n        ],\n        \"semantic_type\": \"\",\n        \"description\": \"\"\n      }\n    },\n    {\n      \"column\": \"age\",\n      \"properties\": {\n        \"dtype\": \"number\",\n        \"std\": 1.0000062500585944,\n        \"min\": -1.8562379927014838,\n        \"max\": 1.6910697600100675,\n        \"num_unique_values\": 102,\n        \"samples\": [\n          0.714583641896277,\n          -1.7798945325580422,\n          -0.8389170005574804\n        ],\n        \"semantic_type\": \"\",\n        \"description\": \"\"\n      }\n    },\n    {\n      \"column\": \"hypertension\",\n      \"properties\": {\n        \"dtype\": \"number\",\n        \"std\": 1.0000062500585942,\n        \"min\": -0.2844137739106607,\n        \"max\": 3.516004116995111,\n        \"num_unique_values\": 2,\n        \"samples\": [\n          -0.2844137739106607,\n          3.516004116995111\n        ],\n        \"semantic_type\": \"\",\n        \"description\": \"\"\n      }\n    },\n    {\n      \"column\": \"heart_disease\",\n      \"properties\": {\n        \"dtype\": \"number\",\n        \"std\": 1.000006250058594,\n        \"min\": -0.20279155398466894,\n        \"max\": 4.931171838032267,\n        \"num_unique_values\": 2,\n        \"samples\": [\n          4.931171838032267,\n          -0.20279155398466894\n        ],\n        \"semantic_type\": \"\",\n        \"description\": \"\"\n      }\n    },\n    {\n      \"column\": \"smoking_history\",\n      \"properties\": {\n        \"dtype\": \"number\",\n        \"std\": 1.0000062500585942,\n        \"min\": -1.1554075530032042,\n        \"max\": 1.4909831226264187,\n        \"num_unique_values\": 6,\n        \"samples\": [\n          0.43242685237456957,\n          0.9617049875004942\n        ],\n        \"semantic_type\": \"\",\n        \"description\": \"\"\n      }\n    },\n    {\n      \"column\": \"bmi\",\n      \"properties\": {\n        \"dtype\": \"number\",\n        \"std\": 1.0000062500585942,\n        \"min\": -2.6060882643816,\n        \"max\": 10.295708437752936,\n        \"num_unique_values\": 4113,\n        \"samples\": [\n          0.5922562962315832,\n          -1.3833689690812683\n        ],\n        \"semantic_type\": \"\",\n        \"description\": \"\"\n      }\n    },\n    {\n      \"column\": \"HbA1c_level\",\n      \"properties\": {\n        \"dtype\": \"number\",\n        \"std\": 1.0000062500585942,\n        \"min\": -1.8936446481092384,\n        \"max\": 3.243160381449856,\n        \"num_unique_values\": 18,\n        \"samples\": [\n          0.9082490043775404,\n          -0.9596800972803121\n        ],\n        \"semantic_type\": \"\",\n        \"description\": \"\"\n      }\n    },\n    {\n      \"column\": \"blood_glucose_level\",\n      \"properties\": {\n        \"dtype\": \"number\",\n        \"std\": 1.0000062500585944,\n        \"min\": -1.4283301258578465,\n        \"max\": 3.9821032503764036,\n        \"num_unique_values\": 18,\n        \"samples\": [\n          0.17020700802954553,\n          -0.2970576926452306\n        ],\n        \"semantic_type\": \"\",\n        \"description\": \"\"\n      }\n    }\n  ]\n}"
            }
          },
          "metadata": {},
          "execution_count": 18
        }
      ]
    },
    {
      "cell_type": "code",
      "source": [
        "x_test.head()"
      ],
      "metadata": {
        "colab": {
          "base_uri": "https://localhost:8080/",
          "height": 206
        },
        "id": "4TCW_Ph80Uc5",
        "outputId": "8d80b61e-6a4a-4ccb-8bae-f57261203dfb"
      },
      "execution_count": 19,
      "outputs": [
        {
          "output_type": "execute_result",
          "data": {
            "text/plain": [
              "     gender       age  hypertension  heart_disease  smoking_history       bmi  \\\n",
              "0 -0.838449 -0.259383     -0.284542       -0.20172         0.440942 -0.709427   \n",
              "1 -0.838449 -0.481957     -0.284542       -0.20172         0.969839 -0.002474   \n",
              "2  1.191695  0.452855     -0.284542       -0.20172         1.498737 -0.624834   \n",
              "3 -0.838449 -0.570987     -0.284542       -0.20172         0.969839  0.488465   \n",
              "4  1.191695  0.853489     -0.284542       -0.20172         0.969839 -0.068940   \n",
              "\n",
              "   HbA1c_level  blood_glucose_level  \n",
              "0     0.441469             0.538654  \n",
              "1     0.254644            -0.292838  \n",
              "2    -1.426789            -0.928685  \n",
              "3    -0.492660             0.538654  \n",
              "4     0.254644            -1.173242  "
            ],
            "text/html": [
              "\n",
              "  <div id=\"df-2b228e1e-c85c-4f25-96ec-d5029b9668be\" class=\"colab-df-container\">\n",
              "    <div>\n",
              "<style scoped>\n",
              "    .dataframe tbody tr th:only-of-type {\n",
              "        vertical-align: middle;\n",
              "    }\n",
              "\n",
              "    .dataframe tbody tr th {\n",
              "        vertical-align: top;\n",
              "    }\n",
              "\n",
              "    .dataframe thead th {\n",
              "        text-align: right;\n",
              "    }\n",
              "</style>\n",
              "<table border=\"1\" class=\"dataframe\">\n",
              "  <thead>\n",
              "    <tr style=\"text-align: right;\">\n",
              "      <th></th>\n",
              "      <th>gender</th>\n",
              "      <th>age</th>\n",
              "      <th>hypertension</th>\n",
              "      <th>heart_disease</th>\n",
              "      <th>smoking_history</th>\n",
              "      <th>bmi</th>\n",
              "      <th>HbA1c_level</th>\n",
              "      <th>blood_glucose_level</th>\n",
              "    </tr>\n",
              "  </thead>\n",
              "  <tbody>\n",
              "    <tr>\n",
              "      <th>0</th>\n",
              "      <td>-0.838449</td>\n",
              "      <td>-0.259383</td>\n",
              "      <td>-0.284542</td>\n",
              "      <td>-0.20172</td>\n",
              "      <td>0.440942</td>\n",
              "      <td>-0.709427</td>\n",
              "      <td>0.441469</td>\n",
              "      <td>0.538654</td>\n",
              "    </tr>\n",
              "    <tr>\n",
              "      <th>1</th>\n",
              "      <td>-0.838449</td>\n",
              "      <td>-0.481957</td>\n",
              "      <td>-0.284542</td>\n",
              "      <td>-0.20172</td>\n",
              "      <td>0.969839</td>\n",
              "      <td>-0.002474</td>\n",
              "      <td>0.254644</td>\n",
              "      <td>-0.292838</td>\n",
              "    </tr>\n",
              "    <tr>\n",
              "      <th>2</th>\n",
              "      <td>1.191695</td>\n",
              "      <td>0.452855</td>\n",
              "      <td>-0.284542</td>\n",
              "      <td>-0.20172</td>\n",
              "      <td>1.498737</td>\n",
              "      <td>-0.624834</td>\n",
              "      <td>-1.426789</td>\n",
              "      <td>-0.928685</td>\n",
              "    </tr>\n",
              "    <tr>\n",
              "      <th>3</th>\n",
              "      <td>-0.838449</td>\n",
              "      <td>-0.570987</td>\n",
              "      <td>-0.284542</td>\n",
              "      <td>-0.20172</td>\n",
              "      <td>0.969839</td>\n",
              "      <td>0.488465</td>\n",
              "      <td>-0.492660</td>\n",
              "      <td>0.538654</td>\n",
              "    </tr>\n",
              "    <tr>\n",
              "      <th>4</th>\n",
              "      <td>1.191695</td>\n",
              "      <td>0.853489</td>\n",
              "      <td>-0.284542</td>\n",
              "      <td>-0.20172</td>\n",
              "      <td>0.969839</td>\n",
              "      <td>-0.068940</td>\n",
              "      <td>0.254644</td>\n",
              "      <td>-1.173242</td>\n",
              "    </tr>\n",
              "  </tbody>\n",
              "</table>\n",
              "</div>\n",
              "    <div class=\"colab-df-buttons\">\n",
              "\n",
              "  <div class=\"colab-df-container\">\n",
              "    <button class=\"colab-df-convert\" onclick=\"convertToInteractive('df-2b228e1e-c85c-4f25-96ec-d5029b9668be')\"\n",
              "            title=\"Convert this dataframe to an interactive table.\"\n",
              "            style=\"display:none;\">\n",
              "\n",
              "  <svg xmlns=\"http://www.w3.org/2000/svg\" height=\"24px\" viewBox=\"0 -960 960 960\">\n",
              "    <path d=\"M120-120v-720h720v720H120Zm60-500h600v-160H180v160Zm220 220h160v-160H400v160Zm0 220h160v-160H400v160ZM180-400h160v-160H180v160Zm440 0h160v-160H620v160ZM180-180h160v-160H180v160Zm440 0h160v-160H620v160Z\"/>\n",
              "  </svg>\n",
              "    </button>\n",
              "\n",
              "  <style>\n",
              "    .colab-df-container {\n",
              "      display:flex;\n",
              "      gap: 12px;\n",
              "    }\n",
              "\n",
              "    .colab-df-convert {\n",
              "      background-color: #E8F0FE;\n",
              "      border: none;\n",
              "      border-radius: 50%;\n",
              "      cursor: pointer;\n",
              "      display: none;\n",
              "      fill: #1967D2;\n",
              "      height: 32px;\n",
              "      padding: 0 0 0 0;\n",
              "      width: 32px;\n",
              "    }\n",
              "\n",
              "    .colab-df-convert:hover {\n",
              "      background-color: #E2EBFA;\n",
              "      box-shadow: 0px 1px 2px rgba(60, 64, 67, 0.3), 0px 1px 3px 1px rgba(60, 64, 67, 0.15);\n",
              "      fill: #174EA6;\n",
              "    }\n",
              "\n",
              "    .colab-df-buttons div {\n",
              "      margin-bottom: 4px;\n",
              "    }\n",
              "\n",
              "    [theme=dark] .colab-df-convert {\n",
              "      background-color: #3B4455;\n",
              "      fill: #D2E3FC;\n",
              "    }\n",
              "\n",
              "    [theme=dark] .colab-df-convert:hover {\n",
              "      background-color: #434B5C;\n",
              "      box-shadow: 0px 1px 3px 1px rgba(0, 0, 0, 0.15);\n",
              "      filter: drop-shadow(0px 1px 2px rgba(0, 0, 0, 0.3));\n",
              "      fill: #FFFFFF;\n",
              "    }\n",
              "  </style>\n",
              "\n",
              "    <script>\n",
              "      const buttonEl =\n",
              "        document.querySelector('#df-2b228e1e-c85c-4f25-96ec-d5029b9668be button.colab-df-convert');\n",
              "      buttonEl.style.display =\n",
              "        google.colab.kernel.accessAllowed ? 'block' : 'none';\n",
              "\n",
              "      async function convertToInteractive(key) {\n",
              "        const element = document.querySelector('#df-2b228e1e-c85c-4f25-96ec-d5029b9668be');\n",
              "        const dataTable =\n",
              "          await google.colab.kernel.invokeFunction('convertToInteractive',\n",
              "                                                    [key], {});\n",
              "        if (!dataTable) return;\n",
              "\n",
              "        const docLinkHtml = 'Like what you see? Visit the ' +\n",
              "          '<a target=\"_blank\" href=https://colab.research.google.com/notebooks/data_table.ipynb>data table notebook</a>'\n",
              "          + ' to learn more about interactive tables.';\n",
              "        element.innerHTML = '';\n",
              "        dataTable['output_type'] = 'display_data';\n",
              "        await google.colab.output.renderOutput(dataTable, element);\n",
              "        const docLink = document.createElement('div');\n",
              "        docLink.innerHTML = docLinkHtml;\n",
              "        element.appendChild(docLink);\n",
              "      }\n",
              "    </script>\n",
              "  </div>\n",
              "\n",
              "\n",
              "<div id=\"df-28b45f68-38b5-4c57-aa1c-23916c4ad780\">\n",
              "  <button class=\"colab-df-quickchart\" onclick=\"quickchart('df-28b45f68-38b5-4c57-aa1c-23916c4ad780')\"\n",
              "            title=\"Suggest charts\"\n",
              "            style=\"display:none;\">\n",
              "\n",
              "<svg xmlns=\"http://www.w3.org/2000/svg\" height=\"24px\"viewBox=\"0 0 24 24\"\n",
              "     width=\"24px\">\n",
              "    <g>\n",
              "        <path d=\"M19 3H5c-1.1 0-2 .9-2 2v14c0 1.1.9 2 2 2h14c1.1 0 2-.9 2-2V5c0-1.1-.9-2-2-2zM9 17H7v-7h2v7zm4 0h-2V7h2v10zm4 0h-2v-4h2v4z\"/>\n",
              "    </g>\n",
              "</svg>\n",
              "  </button>\n",
              "\n",
              "<style>\n",
              "  .colab-df-quickchart {\n",
              "      --bg-color: #E8F0FE;\n",
              "      --fill-color: #1967D2;\n",
              "      --hover-bg-color: #E2EBFA;\n",
              "      --hover-fill-color: #174EA6;\n",
              "      --disabled-fill-color: #AAA;\n",
              "      --disabled-bg-color: #DDD;\n",
              "  }\n",
              "\n",
              "  [theme=dark] .colab-df-quickchart {\n",
              "      --bg-color: #3B4455;\n",
              "      --fill-color: #D2E3FC;\n",
              "      --hover-bg-color: #434B5C;\n",
              "      --hover-fill-color: #FFFFFF;\n",
              "      --disabled-bg-color: #3B4455;\n",
              "      --disabled-fill-color: #666;\n",
              "  }\n",
              "\n",
              "  .colab-df-quickchart {\n",
              "    background-color: var(--bg-color);\n",
              "    border: none;\n",
              "    border-radius: 50%;\n",
              "    cursor: pointer;\n",
              "    display: none;\n",
              "    fill: var(--fill-color);\n",
              "    height: 32px;\n",
              "    padding: 0;\n",
              "    width: 32px;\n",
              "  }\n",
              "\n",
              "  .colab-df-quickchart:hover {\n",
              "    background-color: var(--hover-bg-color);\n",
              "    box-shadow: 0 1px 2px rgba(60, 64, 67, 0.3), 0 1px 3px 1px rgba(60, 64, 67, 0.15);\n",
              "    fill: var(--button-hover-fill-color);\n",
              "  }\n",
              "\n",
              "  .colab-df-quickchart-complete:disabled,\n",
              "  .colab-df-quickchart-complete:disabled:hover {\n",
              "    background-color: var(--disabled-bg-color);\n",
              "    fill: var(--disabled-fill-color);\n",
              "    box-shadow: none;\n",
              "  }\n",
              "\n",
              "  .colab-df-spinner {\n",
              "    border: 2px solid var(--fill-color);\n",
              "    border-color: transparent;\n",
              "    border-bottom-color: var(--fill-color);\n",
              "    animation:\n",
              "      spin 1s steps(1) infinite;\n",
              "  }\n",
              "\n",
              "  @keyframes spin {\n",
              "    0% {\n",
              "      border-color: transparent;\n",
              "      border-bottom-color: var(--fill-color);\n",
              "      border-left-color: var(--fill-color);\n",
              "    }\n",
              "    20% {\n",
              "      border-color: transparent;\n",
              "      border-left-color: var(--fill-color);\n",
              "      border-top-color: var(--fill-color);\n",
              "    }\n",
              "    30% {\n",
              "      border-color: transparent;\n",
              "      border-left-color: var(--fill-color);\n",
              "      border-top-color: var(--fill-color);\n",
              "      border-right-color: var(--fill-color);\n",
              "    }\n",
              "    40% {\n",
              "      border-color: transparent;\n",
              "      border-right-color: var(--fill-color);\n",
              "      border-top-color: var(--fill-color);\n",
              "    }\n",
              "    60% {\n",
              "      border-color: transparent;\n",
              "      border-right-color: var(--fill-color);\n",
              "    }\n",
              "    80% {\n",
              "      border-color: transparent;\n",
              "      border-right-color: var(--fill-color);\n",
              "      border-bottom-color: var(--fill-color);\n",
              "    }\n",
              "    90% {\n",
              "      border-color: transparent;\n",
              "      border-bottom-color: var(--fill-color);\n",
              "    }\n",
              "  }\n",
              "</style>\n",
              "\n",
              "  <script>\n",
              "    async function quickchart(key) {\n",
              "      const quickchartButtonEl =\n",
              "        document.querySelector('#' + key + ' button');\n",
              "      quickchartButtonEl.disabled = true;  // To prevent multiple clicks.\n",
              "      quickchartButtonEl.classList.add('colab-df-spinner');\n",
              "      try {\n",
              "        const charts = await google.colab.kernel.invokeFunction(\n",
              "            'suggestCharts', [key], {});\n",
              "      } catch (error) {\n",
              "        console.error('Error during call to suggestCharts:', error);\n",
              "      }\n",
              "      quickchartButtonEl.classList.remove('colab-df-spinner');\n",
              "      quickchartButtonEl.classList.add('colab-df-quickchart-complete');\n",
              "    }\n",
              "    (() => {\n",
              "      let quickchartButtonEl =\n",
              "        document.querySelector('#df-28b45f68-38b5-4c57-aa1c-23916c4ad780 button');\n",
              "      quickchartButtonEl.style.display =\n",
              "        google.colab.kernel.accessAllowed ? 'block' : 'none';\n",
              "    })();\n",
              "  </script>\n",
              "</div>\n",
              "\n",
              "    </div>\n",
              "  </div>\n"
            ],
            "application/vnd.google.colaboratory.intrinsic+json": {
              "type": "dataframe",
              "variable_name": "x_test",
              "summary": "{\n  \"name\": \"x_test\",\n  \"rows\": 20000,\n  \"fields\": [\n    {\n      \"column\": \"gender\",\n      \"properties\": {\n        \"dtype\": \"number\",\n        \"std\": 1.000025000937539,\n        \"min\": -0.8384494951751484,\n        \"max\": 3.2218386170531734,\n        \"num_unique_values\": 3,\n        \"samples\": [\n          -0.8384494951751484,\n          1.1916945609390124,\n          3.2218386170531734\n        ],\n        \"semantic_type\": \"\",\n        \"description\": \"\"\n      }\n    },\n    {\n      \"column\": \"age\",\n      \"properties\": {\n        \"dtype\": \"number\",\n        \"std\": 1.000025000937539,\n        \"min\": -1.8583558632573023,\n        \"max\": 1.6992706637257118,\n        \"num_unique_values\": 102,\n        \"samples\": [\n          -1.8263051738250229,\n          0.8980034279187266,\n          0.18576588497918428\n        ],\n        \"semantic_type\": \"\",\n        \"description\": \"\"\n      }\n    },\n    {\n      \"column\": \"hypertension\",\n      \"properties\": {\n        \"dtype\": \"number\",\n        \"std\": 1.0000250009375389,\n        \"min\": -0.2845421235675224,\n        \"max\": 3.514418137681108,\n        \"num_unique_values\": 2,\n        \"samples\": [\n          3.514418137681108,\n          -0.2845421235675224\n        ],\n        \"semantic_type\": \"\",\n        \"description\": \"\"\n      }\n    },\n    {\n      \"column\": \"heart_disease\",\n      \"properties\": {\n        \"dtype\": \"number\",\n        \"std\": 1.000025000937539,\n        \"min\": -0.2017201498029075,\n        \"max\": 4.957362965360967,\n        \"num_unique_values\": 2,\n        \"samples\": [\n          4.957362965360967,\n          -0.2017201498029075\n        ],\n        \"semantic_type\": \"\",\n        \"description\": \"\"\n      }\n    },\n    {\n      \"column\": \"smoking_history\",\n      \"properties\": {\n        \"dtype\": \"number\",\n        \"std\": 1.000025000937539,\n        \"min\": -1.1457504422164575,\n        \"max\": 1.4987365683925473,\n        \"num_unique_values\": 6,\n        \"samples\": [\n          0.4409417641489454,\n          0.9698391662707464\n        ],\n        \"semantic_type\": \"\",\n        \"description\": \"\"\n      }\n    },\n    {\n      \"column\": \"bmi\",\n      \"properties\": {\n        \"dtype\": \"number\",\n        \"std\": 1.000025000937539,\n        \"min\": -2.5870820988120764,\n        \"max\": 9.118427386698425,\n        \"num_unique_values\": 3160,\n        \"samples\": [\n          2.9280572909929092,\n          2.539837399680972\n        ],\n        \"semantic_type\": \"\",\n        \"description\": \"\"\n      }\n    },\n    {\n      \"column\": \"HbA1c_level\",\n      \"properties\": {\n        \"dtype\": \"number\",\n        \"std\": 1.000025000937539,\n        \"min\": -1.8938532777811674,\n        \"max\": 3.243856610645596,\n        \"num_unique_values\": 18,\n        \"samples\": [\n          0.44146939877645236,\n          0.2546435846518426\n        ],\n        \"semantic_type\": \"\",\n        \"description\": \"\"\n      }\n    },\n    {\n      \"column\": \"blood_glucose_level\",\n      \"properties\": {\n        \"dtype\": \"number\",\n        \"std\": 1.000025000937539,\n        \"min\": -1.417798366392926,\n        \"max\": 3.9624461491712015,\n        \"num_unique_values\": 18,\n        \"samples\": [\n          0.5386541847213023,\n          -0.2928381495022446\n        ],\n        \"semantic_type\": \"\",\n        \"description\": \"\"\n      }\n    }\n  ]\n}"
            }
          },
          "metadata": {},
          "execution_count": 19
        }
      ]
    },
    {
      "cell_type": "markdown",
      "source": [
        "## Decision Three Classifier"
      ],
      "metadata": {
        "id": "EFHGt55M0hBm"
      }
    },
    {
      "cell_type": "code",
      "source": [
        "#Step-1: Import Model\n",
        "from sklearn.tree import DecisionTreeClassifier\n",
        "\n",
        "#Step-2: Create an object of the model\n",
        "dt=DecisionTreeClassifier(random_state=42)\n",
        "# Step-3 Fit the model with the training set or train model\n",
        "dt.fit(x_train,y_train)"
      ],
      "metadata": {
        "colab": {
          "base_uri": "https://localhost:8080/",
          "height": 75
        },
        "id": "Z6_MrltF0X2J",
        "outputId": "f51d56f8-0663-448b-805a-303a2ab064d3"
      },
      "execution_count": 20,
      "outputs": [
        {
          "output_type": "execute_result",
          "data": {
            "text/plain": [
              "DecisionTreeClassifier(random_state=42)"
            ],
            "text/html": [
              "<style>#sk-container-id-1 {color: black;background-color: white;}#sk-container-id-1 pre{padding: 0;}#sk-container-id-1 div.sk-toggleable {background-color: white;}#sk-container-id-1 label.sk-toggleable__label {cursor: pointer;display: block;width: 100%;margin-bottom: 0;padding: 0.3em;box-sizing: border-box;text-align: center;}#sk-container-id-1 label.sk-toggleable__label-arrow:before {content: \"▸\";float: left;margin-right: 0.25em;color: #696969;}#sk-container-id-1 label.sk-toggleable__label-arrow:hover:before {color: black;}#sk-container-id-1 div.sk-estimator:hover label.sk-toggleable__label-arrow:before {color: black;}#sk-container-id-1 div.sk-toggleable__content {max-height: 0;max-width: 0;overflow: hidden;text-align: left;background-color: #f0f8ff;}#sk-container-id-1 div.sk-toggleable__content pre {margin: 0.2em;color: black;border-radius: 0.25em;background-color: #f0f8ff;}#sk-container-id-1 input.sk-toggleable__control:checked~div.sk-toggleable__content {max-height: 200px;max-width: 100%;overflow: auto;}#sk-container-id-1 input.sk-toggleable__control:checked~label.sk-toggleable__label-arrow:before {content: \"▾\";}#sk-container-id-1 div.sk-estimator input.sk-toggleable__control:checked~label.sk-toggleable__label {background-color: #d4ebff;}#sk-container-id-1 div.sk-label input.sk-toggleable__control:checked~label.sk-toggleable__label {background-color: #d4ebff;}#sk-container-id-1 input.sk-hidden--visually {border: 0;clip: rect(1px 1px 1px 1px);clip: rect(1px, 1px, 1px, 1px);height: 1px;margin: -1px;overflow: hidden;padding: 0;position: absolute;width: 1px;}#sk-container-id-1 div.sk-estimator {font-family: monospace;background-color: #f0f8ff;border: 1px dotted black;border-radius: 0.25em;box-sizing: border-box;margin-bottom: 0.5em;}#sk-container-id-1 div.sk-estimator:hover {background-color: #d4ebff;}#sk-container-id-1 div.sk-parallel-item::after {content: \"\";width: 100%;border-bottom: 1px solid gray;flex-grow: 1;}#sk-container-id-1 div.sk-label:hover label.sk-toggleable__label {background-color: #d4ebff;}#sk-container-id-1 div.sk-serial::before {content: \"\";position: absolute;border-left: 1px solid gray;box-sizing: border-box;top: 0;bottom: 0;left: 50%;z-index: 0;}#sk-container-id-1 div.sk-serial {display: flex;flex-direction: column;align-items: center;background-color: white;padding-right: 0.2em;padding-left: 0.2em;position: relative;}#sk-container-id-1 div.sk-item {position: relative;z-index: 1;}#sk-container-id-1 div.sk-parallel {display: flex;align-items: stretch;justify-content: center;background-color: white;position: relative;}#sk-container-id-1 div.sk-item::before, #sk-container-id-1 div.sk-parallel-item::before {content: \"\";position: absolute;border-left: 1px solid gray;box-sizing: border-box;top: 0;bottom: 0;left: 50%;z-index: -1;}#sk-container-id-1 div.sk-parallel-item {display: flex;flex-direction: column;z-index: 1;position: relative;background-color: white;}#sk-container-id-1 div.sk-parallel-item:first-child::after {align-self: flex-end;width: 50%;}#sk-container-id-1 div.sk-parallel-item:last-child::after {align-self: flex-start;width: 50%;}#sk-container-id-1 div.sk-parallel-item:only-child::after {width: 0;}#sk-container-id-1 div.sk-dashed-wrapped {border: 1px dashed gray;margin: 0 0.4em 0.5em 0.4em;box-sizing: border-box;padding-bottom: 0.4em;background-color: white;}#sk-container-id-1 div.sk-label label {font-family: monospace;font-weight: bold;display: inline-block;line-height: 1.2em;}#sk-container-id-1 div.sk-label-container {text-align: center;}#sk-container-id-1 div.sk-container {/* jupyter's `normalize.less` sets `[hidden] { display: none; }` but bootstrap.min.css set `[hidden] { display: none !important; }` so we also need the `!important` here to be able to override the default hidden behavior on the sphinx rendered scikit-learn.org. See: https://github.com/scikit-learn/scikit-learn/issues/21755 */display: inline-block !important;position: relative;}#sk-container-id-1 div.sk-text-repr-fallback {display: none;}</style><div id=\"sk-container-id-1\" class=\"sk-top-container\"><div class=\"sk-text-repr-fallback\"><pre>DecisionTreeClassifier(random_state=42)</pre><b>In a Jupyter environment, please rerun this cell to show the HTML representation or trust the notebook. <br />On GitHub, the HTML representation is unable to render, please try loading this page with nbviewer.org.</b></div><div class=\"sk-container\" hidden><div class=\"sk-item\"><div class=\"sk-estimator sk-toggleable\"><input class=\"sk-toggleable__control sk-hidden--visually\" id=\"sk-estimator-id-1\" type=\"checkbox\" checked><label for=\"sk-estimator-id-1\" class=\"sk-toggleable__label sk-toggleable__label-arrow\">DecisionTreeClassifier</label><div class=\"sk-toggleable__content\"><pre>DecisionTreeClassifier(random_state=42)</pre></div></div></div></div></div>"
            ]
          },
          "metadata": {},
          "execution_count": 20
        }
      ]
    },
    {
      "cell_type": "code",
      "source": [
        "# Step-4: Get the prediction from the model\n",
        "y_pred_dt=dt.predict(x_test)"
      ],
      "metadata": {
        "id": "0Kie9Ei11oZP"
      },
      "execution_count": 21,
      "outputs": []
    },
    {
      "cell_type": "code",
      "source": [
        "#Step-5: Model Performance measure\n",
        "from sklearn.metrics import classification_report\n",
        "print(classification_report(y_test,y_pred_dt))"
      ],
      "metadata": {
        "colab": {
          "base_uri": "https://localhost:8080/"
        },
        "id": "cKfkqQpa1-gA",
        "outputId": "879580e1-cf62-4a66-f516-eb43cb78bb4b"
      },
      "execution_count": 22,
      "outputs": [
        {
          "output_type": "stream",
          "name": "stdout",
          "text": [
            "              precision    recall  f1-score   support\n",
            "\n",
            "           0       0.98      0.97      0.97     18300\n",
            "           1       0.71      0.74      0.72      1700\n",
            "\n",
            "    accuracy                           0.95     20000\n",
            "   macro avg       0.84      0.86      0.85     20000\n",
            "weighted avg       0.95      0.95      0.95     20000\n",
            "\n"
          ]
        }
      ]
    },
    {
      "cell_type": "code",
      "source": [
        "# Train and Test Accuracy\n",
        "from sklearn.metrics import accuracy_score\n",
        "print(\"Test accuracy: \",accuracy_score(y_test,y_pred_dt))\n",
        "print('Train Accuracy: ',accuracy_score(y_train,dt.predict(x_train)))"
      ],
      "metadata": {
        "colab": {
          "base_uri": "https://localhost:8080/"
        },
        "id": "bl7hvz6D2RJQ",
        "outputId": "cab1d187-0ffe-4614-e5dc-66e098614589"
      },
      "execution_count": 23,
      "outputs": [
        {
          "output_type": "stream",
          "name": "stdout",
          "text": [
            "Test accuracy:  0.952\n",
            "Train Accuracy:  0.9992375\n"
          ]
        }
      ]
    },
    {
      "cell_type": "code",
      "source": [
        "!pip install scikit-plot"
      ],
      "metadata": {
        "colab": {
          "base_uri": "https://localhost:8080/"
        },
        "id": "Lt7y0qx53beD",
        "outputId": "95339f8c-b4d0-4c12-97ca-b60454d02cd2"
      },
      "execution_count": 24,
      "outputs": [
        {
          "output_type": "stream",
          "name": "stdout",
          "text": [
            "Collecting scikit-plot\n",
            "  Downloading scikit_plot-0.3.7-py3-none-any.whl (33 kB)\n",
            "Requirement already satisfied: matplotlib>=1.4.0 in /usr/local/lib/python3.10/dist-packages (from scikit-plot) (3.7.1)\n",
            "Requirement already satisfied: scikit-learn>=0.18 in /usr/local/lib/python3.10/dist-packages (from scikit-plot) (1.2.2)\n",
            "Requirement already satisfied: scipy>=0.9 in /usr/local/lib/python3.10/dist-packages (from scikit-plot) (1.11.4)\n",
            "Requirement already satisfied: joblib>=0.10 in /usr/local/lib/python3.10/dist-packages (from scikit-plot) (1.4.0)\n",
            "Requirement already satisfied: contourpy>=1.0.1 in /usr/local/lib/python3.10/dist-packages (from matplotlib>=1.4.0->scikit-plot) (1.2.1)\n",
            "Requirement already satisfied: cycler>=0.10 in /usr/local/lib/python3.10/dist-packages (from matplotlib>=1.4.0->scikit-plot) (0.12.1)\n",
            "Requirement already satisfied: fonttools>=4.22.0 in /usr/local/lib/python3.10/dist-packages (from matplotlib>=1.4.0->scikit-plot) (4.51.0)\n",
            "Requirement already satisfied: kiwisolver>=1.0.1 in /usr/local/lib/python3.10/dist-packages (from matplotlib>=1.4.0->scikit-plot) (1.4.5)\n",
            "Requirement already satisfied: numpy>=1.20 in /usr/local/lib/python3.10/dist-packages (from matplotlib>=1.4.0->scikit-plot) (1.25.2)\n",
            "Requirement already satisfied: packaging>=20.0 in /usr/local/lib/python3.10/dist-packages (from matplotlib>=1.4.0->scikit-plot) (24.0)\n",
            "Requirement already satisfied: pillow>=6.2.0 in /usr/local/lib/python3.10/dist-packages (from matplotlib>=1.4.0->scikit-plot) (9.4.0)\n",
            "Requirement already satisfied: pyparsing>=2.3.1 in /usr/local/lib/python3.10/dist-packages (from matplotlib>=1.4.0->scikit-plot) (3.1.2)\n",
            "Requirement already satisfied: python-dateutil>=2.7 in /usr/local/lib/python3.10/dist-packages (from matplotlib>=1.4.0->scikit-plot) (2.8.2)\n",
            "Requirement already satisfied: threadpoolctl>=2.0.0 in /usr/local/lib/python3.10/dist-packages (from scikit-learn>=0.18->scikit-plot) (3.4.0)\n",
            "Requirement already satisfied: six>=1.5 in /usr/local/lib/python3.10/dist-packages (from python-dateutil>=2.7->matplotlib>=1.4.0->scikit-plot) (1.16.0)\n",
            "Installing collected packages: scikit-plot\n",
            "Successfully installed scikit-plot-0.3.7\n"
          ]
        }
      ]
    },
    {
      "cell_type": "code",
      "source": [
        "# See Confusion Matrix\n",
        "from sklearn.metrics import confusion_matrix\n",
        "import scikitplot as skplt"
      ],
      "metadata": {
        "id": "t9-ZlouD24Gq"
      },
      "execution_count": 25,
      "outputs": []
    },
    {
      "cell_type": "code",
      "source": [
        "skplt.metrics.plot_confusion_matrix(y_test,y_pred_dt)"
      ],
      "metadata": {
        "colab": {
          "base_uri": "https://localhost:8080/",
          "height": 489
        },
        "id": "4kMTwWSq3J7F",
        "outputId": "e3a6c98f-f1e4-407e-9629-f3ce8d0115bd"
      },
      "execution_count": 26,
      "outputs": [
        {
          "output_type": "execute_result",
          "data": {
            "text/plain": [
              "<Axes: title={'center': 'Confusion Matrix'}, xlabel='Predicted label', ylabel='True label'>"
            ]
          },
          "metadata": {},
          "execution_count": 26
        },
        {
          "output_type": "display_data",
          "data": {
            "text/plain": [
              "<Figure size 640x480 with 2 Axes>"
            ],
            "image/png": "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\n"
          },
          "metadata": {}
        }
      ]
    },
    {
      "cell_type": "markdown",
      "source": [
        "## RandomizedSearchCV\n",
        "Documentation:  https://scikit-learn.org/stable/modules/generated/sklearn.model_selection.RandomizedSearchCV.html"
      ],
      "metadata": {
        "id": "-P-pak3cCOLI"
      }
    },
    {
      "cell_type": "markdown",
      "source": [
        "## Hyperparameter Tuning (Decison Tree)\n",
        "Documentation:https://scikit-learn.org/stable/modules/generated/sklearn.tree.DecisionTreeClassifier.html"
      ],
      "metadata": {
        "id": "sT7EzGWRCV3x"
      }
    },
    {
      "cell_type": "code",
      "source": [
        "from sklearn.tree import DecisionTreeClassifier\n",
        "from sklearn.model_selection import RandomizedSearchCV\n",
        "from scipy.stats import randint"
      ],
      "metadata": {
        "id": "CTsMECYi3o0c"
      },
      "execution_count": 28,
      "outputs": []
    },
    {
      "cell_type": "code",
      "source": [
        "# Initialize the Decision Tree classifier\n",
        "dt = DecisionTreeClassifier()\n",
        "\n",
        "# Define the hyperparameters distribution\n",
        "param_dist = {\n",
        "    'criterion': ['gini', 'entropy'],\n",
        "    'max_depth': randint(1, 20),\n",
        "    'min_samples_split': randint(2, 20),\n",
        "    'min_samples_leaf': randint(1, 10)\n",
        "}\n",
        "\n",
        "# Perform randomized search\n",
        "random_search = RandomizedSearchCV(estimator=dt,\n",
        "                                   param_distributions=param_dist,\n",
        "                                   n_iter=100,\n",
        "                                   cv=5,\n",
        "                                   verbose=3,\n",
        "                                   n_jobs=-1,\n",
        "                                   random_state=42)\n",
        "\n",
        "# Fit the randomized search to the data\n",
        "random_search.fit(x_train, y_train)\n",
        "\n",
        "# Print the best hyperparameters and the corresponding score\n",
        "print(\"Best Parameters: \", random_search.best_params_)"
      ],
      "metadata": {
        "colab": {
          "base_uri": "https://localhost:8080/"
        },
        "id": "7jznINNQCwMf",
        "outputId": "17320327-4965-4846-a57d-d68fe8280b90"
      },
      "execution_count": 35,
      "outputs": [
        {
          "output_type": "stream",
          "name": "stdout",
          "text": [
            "Fitting 5 folds for each of 100 candidates, totalling 500 fits\n",
            "Best Parameters:  {'criterion': 'gini', 'max_depth': 4, 'min_samples_leaf': 8, 'min_samples_split': 4}\n"
          ]
        }
      ]
    },
    {
      "cell_type": "code",
      "source": [
        "print(\"Best Score\",random_search.best_score_)"
      ],
      "metadata": {
        "colab": {
          "base_uri": "https://localhost:8080/"
        },
        "id": "DPmP-xrUEIDX",
        "outputId": "b18aac3d-279e-4263-89db-22da36f7ab8c"
      },
      "execution_count": 36,
      "outputs": [
        {
          "output_type": "stream",
          "name": "stdout",
          "text": [
            "Best Score 0.9717625\n"
          ]
        }
      ]
    },
    {
      "cell_type": "code",
      "source": [
        "#Make Prediction\n",
        "y_pred=random_search.predict(x_test)"
      ],
      "metadata": {
        "id": "V-RUywVQGWkg"
      },
      "execution_count": 37,
      "outputs": []
    },
    {
      "cell_type": "code",
      "source": [
        "# See classification report\n",
        "from sklearn.metrics import classification_report, accuracy_score,confusion_matrix\n",
        "print(classification_report(y_test,y_pred))"
      ],
      "metadata": {
        "colab": {
          "base_uri": "https://localhost:8080/"
        },
        "id": "SZ_fmVjqGdxl",
        "outputId": "5ccf0b6f-5dfd-4883-df68-56759f38c85b"
      },
      "execution_count": 39,
      "outputs": [
        {
          "output_type": "stream",
          "name": "stdout",
          "text": [
            "              precision    recall  f1-score   support\n",
            "\n",
            "           0       0.97      1.00      0.99     18300\n",
            "           1       1.00      0.67      0.81      1700\n",
            "\n",
            "    accuracy                           0.97     20000\n",
            "   macro avg       0.99      0.84      0.90     20000\n",
            "weighted avg       0.97      0.97      0.97     20000\n",
            "\n"
          ]
        }
      ]
    },
    {
      "cell_type": "code",
      "source": [
        "skplt.metrics.plot_confusion_matrix(y_test,y_pred_dt)"
      ],
      "metadata": {
        "colab": {
          "base_uri": "https://localhost:8080/",
          "height": 489
        },
        "id": "R_UfjMJqG91z",
        "outputId": "3064bcc2-5a2e-467f-ae6e-7b707441f45a"
      },
      "execution_count": 40,
      "outputs": [
        {
          "output_type": "execute_result",
          "data": {
            "text/plain": [
              "<Axes: title={'center': 'Confusion Matrix'}, xlabel='Predicted label', ylabel='True label'>"
            ]
          },
          "metadata": {},
          "execution_count": 40
        },
        {
          "output_type": "display_data",
          "data": {
            "text/plain": [
              "<Figure size 640x480 with 2 Axes>"
            ],
            "image/png": "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\n"
          },
          "metadata": {}
        }
      ]
    },
    {
      "cell_type": "markdown",
      "source": [
        "## GridSearchCV\n",
        "Do not run this in your laptop google colab is recommended\n",
        "Documentation: https://scikit-learn.org/stable/modules/generated/sklearn.model_selection.GridSearchCV.html"
      ],
      "metadata": {
        "id": "-0eHPn7lHy0I"
      }
    },
    {
      "cell_type": "markdown",
      "source": [
        "## Hyperparameter Tuning (Decision Tree)"
      ],
      "metadata": {
        "id": "9EbEVCaYIATm"
      }
    },
    {
      "cell_type": "code",
      "source": [
        "from sklearn.tree import DecisionTreeClassifier\n",
        "from sklearn.model_selection import GridSearchCV\n",
        "from scipy.stats import randint\n",
        "\n",
        "# Initialize the Decision Tree Classifier\n",
        "dt=DecisionTreeClassifier()\n",
        "\n",
        "#define the hyperparameter grid\n",
        "param_dist={\n",
        "    'criterion':['gini','entropy'],\n",
        "    'max_depth':[2,4,6,8,10],\n",
        "     'min_samples_split':[2,4,6,8,10],\n",
        "    'min_samples_leaf':[2,4,6,8,10]\n",
        "}\n",
        "# Define the hyperparameters distribution\n",
        "# param_dist = {\n",
        "#     'criterion': ['gini', 'entropy'],\n",
        "#     'max_depth': list(range(1, 21)),\n",
        "#     'min_samples_split': list(range(2, 21)),\n",
        "#     'min_samples_leaf': list(range(1, 11))\n",
        "# }\n",
        "\n",
        "# Perform grid search\n",
        "grid_search = GridSearchCV(estimator=dt,\n",
        "                           param_grid=param_dist,\n",
        "                           cv=5,\n",
        "                           verbose=3,\n",
        "                           n_jobs=-1)\n",
        "\n",
        "\n",
        "# Fit the randomized search to the data\n",
        "grid_search.fit(x_train, y_train)"
      ],
      "metadata": {
        "colab": {
          "base_uri": "https://localhost:8080/",
          "height": 135
        },
        "id": "Y5PLPrvFHTWD",
        "outputId": "26660833-1df2-4c46-cf05-c883ebf6bfbb"
      },
      "execution_count": 43,
      "outputs": [
        {
          "output_type": "stream",
          "name": "stdout",
          "text": [
            "Fitting 5 folds for each of 250 candidates, totalling 1250 fits\n"
          ]
        },
        {
          "output_type": "execute_result",
          "data": {
            "text/plain": [
              "GridSearchCV(cv=5, estimator=DecisionTreeClassifier(), n_jobs=-1,\n",
              "             param_grid={'criterion': ['gini', 'entropy'],\n",
              "                         'max_depth': [2, 4, 6, 8, 10],\n",
              "                         'min_samples_leaf': [2, 4, 6, 8, 10],\n",
              "                         'min_samples_split': [2, 4, 6, 8, 10]},\n",
              "             verbose=3)"
            ],
            "text/html": [
              "<style>#sk-container-id-2 {color: black;background-color: white;}#sk-container-id-2 pre{padding: 0;}#sk-container-id-2 div.sk-toggleable {background-color: white;}#sk-container-id-2 label.sk-toggleable__label {cursor: pointer;display: block;width: 100%;margin-bottom: 0;padding: 0.3em;box-sizing: border-box;text-align: center;}#sk-container-id-2 label.sk-toggleable__label-arrow:before {content: \"▸\";float: left;margin-right: 0.25em;color: #696969;}#sk-container-id-2 label.sk-toggleable__label-arrow:hover:before {color: black;}#sk-container-id-2 div.sk-estimator:hover label.sk-toggleable__label-arrow:before {color: black;}#sk-container-id-2 div.sk-toggleable__content {max-height: 0;max-width: 0;overflow: hidden;text-align: left;background-color: #f0f8ff;}#sk-container-id-2 div.sk-toggleable__content pre {margin: 0.2em;color: black;border-radius: 0.25em;background-color: #f0f8ff;}#sk-container-id-2 input.sk-toggleable__control:checked~div.sk-toggleable__content {max-height: 200px;max-width: 100%;overflow: auto;}#sk-container-id-2 input.sk-toggleable__control:checked~label.sk-toggleable__label-arrow:before {content: \"▾\";}#sk-container-id-2 div.sk-estimator input.sk-toggleable__control:checked~label.sk-toggleable__label {background-color: #d4ebff;}#sk-container-id-2 div.sk-label input.sk-toggleable__control:checked~label.sk-toggleable__label {background-color: #d4ebff;}#sk-container-id-2 input.sk-hidden--visually {border: 0;clip: rect(1px 1px 1px 1px);clip: rect(1px, 1px, 1px, 1px);height: 1px;margin: -1px;overflow: hidden;padding: 0;position: absolute;width: 1px;}#sk-container-id-2 div.sk-estimator {font-family: monospace;background-color: #f0f8ff;border: 1px dotted black;border-radius: 0.25em;box-sizing: border-box;margin-bottom: 0.5em;}#sk-container-id-2 div.sk-estimator:hover {background-color: #d4ebff;}#sk-container-id-2 div.sk-parallel-item::after {content: \"\";width: 100%;border-bottom: 1px solid gray;flex-grow: 1;}#sk-container-id-2 div.sk-label:hover label.sk-toggleable__label {background-color: #d4ebff;}#sk-container-id-2 div.sk-serial::before {content: \"\";position: absolute;border-left: 1px solid gray;box-sizing: border-box;top: 0;bottom: 0;left: 50%;z-index: 0;}#sk-container-id-2 div.sk-serial {display: flex;flex-direction: column;align-items: center;background-color: white;padding-right: 0.2em;padding-left: 0.2em;position: relative;}#sk-container-id-2 div.sk-item {position: relative;z-index: 1;}#sk-container-id-2 div.sk-parallel {display: flex;align-items: stretch;justify-content: center;background-color: white;position: relative;}#sk-container-id-2 div.sk-item::before, #sk-container-id-2 div.sk-parallel-item::before {content: \"\";position: absolute;border-left: 1px solid gray;box-sizing: border-box;top: 0;bottom: 0;left: 50%;z-index: -1;}#sk-container-id-2 div.sk-parallel-item {display: flex;flex-direction: column;z-index: 1;position: relative;background-color: white;}#sk-container-id-2 div.sk-parallel-item:first-child::after {align-self: flex-end;width: 50%;}#sk-container-id-2 div.sk-parallel-item:last-child::after {align-self: flex-start;width: 50%;}#sk-container-id-2 div.sk-parallel-item:only-child::after {width: 0;}#sk-container-id-2 div.sk-dashed-wrapped {border: 1px dashed gray;margin: 0 0.4em 0.5em 0.4em;box-sizing: border-box;padding-bottom: 0.4em;background-color: white;}#sk-container-id-2 div.sk-label label {font-family: monospace;font-weight: bold;display: inline-block;line-height: 1.2em;}#sk-container-id-2 div.sk-label-container {text-align: center;}#sk-container-id-2 div.sk-container {/* jupyter's `normalize.less` sets `[hidden] { display: none; }` but bootstrap.min.css set `[hidden] { display: none !important; }` so we also need the `!important` here to be able to override the default hidden behavior on the sphinx rendered scikit-learn.org. See: https://github.com/scikit-learn/scikit-learn/issues/21755 */display: inline-block !important;position: relative;}#sk-container-id-2 div.sk-text-repr-fallback {display: none;}</style><div id=\"sk-container-id-2\" class=\"sk-top-container\"><div class=\"sk-text-repr-fallback\"><pre>GridSearchCV(cv=5, estimator=DecisionTreeClassifier(), n_jobs=-1,\n",
              "             param_grid={&#x27;criterion&#x27;: [&#x27;gini&#x27;, &#x27;entropy&#x27;],\n",
              "                         &#x27;max_depth&#x27;: [2, 4, 6, 8, 10],\n",
              "                         &#x27;min_samples_leaf&#x27;: [2, 4, 6, 8, 10],\n",
              "                         &#x27;min_samples_split&#x27;: [2, 4, 6, 8, 10]},\n",
              "             verbose=3)</pre><b>In a Jupyter environment, please rerun this cell to show the HTML representation or trust the notebook. <br />On GitHub, the HTML representation is unable to render, please try loading this page with nbviewer.org.</b></div><div class=\"sk-container\" hidden><div class=\"sk-item sk-dashed-wrapped\"><div class=\"sk-label-container\"><div class=\"sk-label sk-toggleable\"><input class=\"sk-toggleable__control sk-hidden--visually\" id=\"sk-estimator-id-2\" type=\"checkbox\" ><label for=\"sk-estimator-id-2\" class=\"sk-toggleable__label sk-toggleable__label-arrow\">GridSearchCV</label><div class=\"sk-toggleable__content\"><pre>GridSearchCV(cv=5, estimator=DecisionTreeClassifier(), n_jobs=-1,\n",
              "             param_grid={&#x27;criterion&#x27;: [&#x27;gini&#x27;, &#x27;entropy&#x27;],\n",
              "                         &#x27;max_depth&#x27;: [2, 4, 6, 8, 10],\n",
              "                         &#x27;min_samples_leaf&#x27;: [2, 4, 6, 8, 10],\n",
              "                         &#x27;min_samples_split&#x27;: [2, 4, 6, 8, 10]},\n",
              "             verbose=3)</pre></div></div></div><div class=\"sk-parallel\"><div class=\"sk-parallel-item\"><div class=\"sk-item\"><div class=\"sk-label-container\"><div class=\"sk-label sk-toggleable\"><input class=\"sk-toggleable__control sk-hidden--visually\" id=\"sk-estimator-id-3\" type=\"checkbox\" ><label for=\"sk-estimator-id-3\" class=\"sk-toggleable__label sk-toggleable__label-arrow\">estimator: DecisionTreeClassifier</label><div class=\"sk-toggleable__content\"><pre>DecisionTreeClassifier()</pre></div></div></div><div class=\"sk-serial\"><div class=\"sk-item\"><div class=\"sk-estimator sk-toggleable\"><input class=\"sk-toggleable__control sk-hidden--visually\" id=\"sk-estimator-id-4\" type=\"checkbox\" ><label for=\"sk-estimator-id-4\" class=\"sk-toggleable__label sk-toggleable__label-arrow\">DecisionTreeClassifier</label><div class=\"sk-toggleable__content\"><pre>DecisionTreeClassifier()</pre></div></div></div></div></div></div></div></div></div></div>"
            ]
          },
          "metadata": {},
          "execution_count": 43
        }
      ]
    },
    {
      "cell_type": "code",
      "source": [
        "# Print the best hyperparameters and the corresponding score\n",
        "print(\"Best Parameters: \", grid_search.best_params_)"
      ],
      "metadata": {
        "colab": {
          "base_uri": "https://localhost:8080/"
        },
        "id": "0Izx9qbHIRKI",
        "outputId": "2cff9e63-8c1f-4821-afd5-b68ef7b9a4db"
      },
      "execution_count": 44,
      "outputs": [
        {
          "output_type": "stream",
          "name": "stdout",
          "text": [
            "Best Parameters:  {'criterion': 'gini', 'max_depth': 2, 'min_samples_leaf': 2, 'min_samples_split': 2}\n"
          ]
        }
      ]
    },
    {
      "cell_type": "code",
      "source": [
        "print(\"Best Estimator: \",grid_search.best_estimator_)\n",
        "print(\"Best Score: \", grid_search.best_score_)"
      ],
      "metadata": {
        "colab": {
          "base_uri": "https://localhost:8080/"
        },
        "id": "IzWJ4YXjJs3T",
        "outputId": "5636af10-0d2d-4901-f0a8-75dacac624a8"
      },
      "execution_count": 45,
      "outputs": [
        {
          "output_type": "stream",
          "name": "stdout",
          "text": [
            "Best Estimator:  DecisionTreeClassifier(max_depth=2, min_samples_leaf=2)\n",
            "Best Score:  0.9717625\n"
          ]
        }
      ]
    },
    {
      "cell_type": "code",
      "source": [
        "# Make prediction\n",
        "y_pred = grid_search.predict(x_test)\n",
        "\n",
        "# See classification report\n",
        "from sklearn.metrics import classification_report, accuracy_score, confusion_matrix\n",
        "print(classification_report(y_test, y_pred))"
      ],
      "metadata": {
        "colab": {
          "base_uri": "https://localhost:8080/"
        },
        "id": "xsO8iZCfJx0u",
        "outputId": "1d5354a1-0edf-4c99-b1e7-94a77e398540"
      },
      "execution_count": 46,
      "outputs": [
        {
          "output_type": "stream",
          "name": "stdout",
          "text": [
            "              precision    recall  f1-score   support\n",
            "\n",
            "           0       0.97      1.00      0.99     18300\n",
            "           1       1.00      0.67      0.81      1700\n",
            "\n",
            "    accuracy                           0.97     20000\n",
            "   macro avg       0.99      0.84      0.90     20000\n",
            "weighted avg       0.97      0.97      0.97     20000\n",
            "\n"
          ]
        }
      ]
    },
    {
      "cell_type": "markdown",
      "source": [
        "### We need to work on the FN (False Negative) in our case."
      ],
      "metadata": {
        "id": "KdTXImT8KE1d"
      }
    },
    {
      "cell_type": "code",
      "source": [
        "skplt.metrics.plot_confusion_matrix(y_test,y_pred)"
      ],
      "metadata": {
        "colab": {
          "base_uri": "https://localhost:8080/",
          "height": 489
        },
        "id": "t5Lz7Bt_J5zw",
        "outputId": "6b14d7d2-e72e-4923-a1fa-b731d610b367"
      },
      "execution_count": 47,
      "outputs": [
        {
          "output_type": "execute_result",
          "data": {
            "text/plain": [
              "<Axes: title={'center': 'Confusion Matrix'}, xlabel='Predicted label', ylabel='True label'>"
            ]
          },
          "metadata": {},
          "execution_count": 47
        },
        {
          "output_type": "display_data",
          "data": {
            "text/plain": [
              "<Figure size 640x480 with 2 Axes>"
            ],
            "image/png": "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\n"
          },
          "metadata": {}
        }
      ]
    },
    {
      "cell_type": "code",
      "source": [],
      "metadata": {
        "id": "joMszvmtKHgA"
      },
      "execution_count": null,
      "outputs": []
    }
  ]
}
