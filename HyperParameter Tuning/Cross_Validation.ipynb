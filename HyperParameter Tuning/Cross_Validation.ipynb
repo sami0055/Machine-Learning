{
 "cells": [
  {
   "cell_type": "markdown",
   "id": "86fbf97b-0c19-4b9b-8645-edd39737610c",
   "metadata": {},
   "source": [
    "# Cross Validation\n",
    "🦊 `Notebook by` [Md.Samiul Alim](https://github.com/sami0055)\n",
    "\n",
    "😋  `Machine Learning Source Codes` [GitHub](https://github.com/sami0055/Machine-Learning)"
   ]
  },
  {
   "cell_type": "markdown",
   "id": "f742b702-4c25-4464-8480-7be5c556dfc5",
   "metadata": {},
   "source": [
    "## Loas Housing Dataset"
   ]
  },
  {
   "cell_type": "code",
   "execution_count": 1,
   "id": "bb65a448-7508-4820-af7f-79fd2896d22d",
   "metadata": {},
   "outputs": [
    {
     "name": "stdout",
     "output_type": "stream",
     "text": [
      "(20640, 8)\n",
      "(20640,)\n",
      "<class 'numpy.ndarray'>\n",
      "<class 'numpy.ndarray'>\n"
     ]
    }
   ],
   "source": [
    "from sklearn.datasets import fetch_california_housing\n",
    "# Load the housing dataset\n",
    "housing=fetch_california_housing()\n",
    "x,y=housing.data,housing.target\n",
    "# Print the shapes\n",
    "print(x.shape)\n",
    "print(y.shape)\n",
    "# Print types\n",
    "print(type(x))\n",
    "print(type(y))"
   ]
  },
  {
   "cell_type": "markdown",
   "id": "7eb2e9b0-c8e3-4319-abe9-8d72e6df986e",
   "metadata": {},
   "source": [
    "## Load the dataset as a dataframe"
   ]
  },
  {
   "cell_type": "code",
   "execution_count": 5,
   "id": "bd717a36-8dd7-424d-93c3-44e93466d4f9",
   "metadata": {},
   "outputs": [
    {
     "name": "stdout",
     "output_type": "stream",
     "text": [
      "(20640, 8)\n",
      "(20640,)\n",
      "<class 'pandas.core.frame.DataFrame'>\n",
      "<class 'pandas.core.series.Series'>\n"
     ]
    }
   ],
   "source": [
    "x_df,y_df=fetch_california_housing(return_X_y=True,as_frame=True)\n",
    "print(x_df.shape)\n",
    "print(y_df.shape)\n",
    "print(type(x_df))\n",
    "print(type(y_df))"
   ]
  },
  {
   "cell_type": "code",
   "execution_count": 6,
   "id": "4d329608-a5fe-4e6e-9a1b-26fb69d1057e",
   "metadata": {},
   "outputs": [],
   "source": [
    "# Convert X and y to pandas DataFrames Manually\n",
    "# import pandas as pd\n",
    "# X_df = pd.DataFrame(X, columns=housing.feature_names)\n",
    "# y_df = pd.Series(y, name='target')\n",
    "# X_df.head()"
   ]
  },
  {
   "cell_type": "code",
   "execution_count": 8,
   "id": "4903c8e8-bf25-4698-b393-e477d3bb51c9",
   "metadata": {},
   "outputs": [
    {
     "data": {
      "text/html": [
       "<div>\n",
       "<style scoped>\n",
       "    .dataframe tbody tr th:only-of-type {\n",
       "        vertical-align: middle;\n",
       "    }\n",
       "\n",
       "    .dataframe tbody tr th {\n",
       "        vertical-align: top;\n",
       "    }\n",
       "\n",
       "    .dataframe thead th {\n",
       "        text-align: right;\n",
       "    }\n",
       "</style>\n",
       "<table border=\"1\" class=\"dataframe\">\n",
       "  <thead>\n",
       "    <tr style=\"text-align: right;\">\n",
       "      <th></th>\n",
       "      <th>MedInc</th>\n",
       "      <th>HouseAge</th>\n",
       "      <th>AveRooms</th>\n",
       "      <th>AveBedrms</th>\n",
       "      <th>Population</th>\n",
       "      <th>AveOccup</th>\n",
       "      <th>Latitude</th>\n",
       "      <th>Longitude</th>\n",
       "    </tr>\n",
       "  </thead>\n",
       "  <tbody>\n",
       "    <tr>\n",
       "      <th>0</th>\n",
       "      <td>8.3252</td>\n",
       "      <td>41.0</td>\n",
       "      <td>6.984127</td>\n",
       "      <td>1.023810</td>\n",
       "      <td>322.0</td>\n",
       "      <td>2.555556</td>\n",
       "      <td>37.88</td>\n",
       "      <td>-122.23</td>\n",
       "    </tr>\n",
       "    <tr>\n",
       "      <th>1</th>\n",
       "      <td>8.3014</td>\n",
       "      <td>21.0</td>\n",
       "      <td>6.238137</td>\n",
       "      <td>0.971880</td>\n",
       "      <td>2401.0</td>\n",
       "      <td>2.109842</td>\n",
       "      <td>37.86</td>\n",
       "      <td>-122.22</td>\n",
       "    </tr>\n",
       "    <tr>\n",
       "      <th>2</th>\n",
       "      <td>7.2574</td>\n",
       "      <td>52.0</td>\n",
       "      <td>8.288136</td>\n",
       "      <td>1.073446</td>\n",
       "      <td>496.0</td>\n",
       "      <td>2.802260</td>\n",
       "      <td>37.85</td>\n",
       "      <td>-122.24</td>\n",
       "    </tr>\n",
       "    <tr>\n",
       "      <th>3</th>\n",
       "      <td>5.6431</td>\n",
       "      <td>52.0</td>\n",
       "      <td>5.817352</td>\n",
       "      <td>1.073059</td>\n",
       "      <td>558.0</td>\n",
       "      <td>2.547945</td>\n",
       "      <td>37.85</td>\n",
       "      <td>-122.25</td>\n",
       "    </tr>\n",
       "    <tr>\n",
       "      <th>4</th>\n",
       "      <td>3.8462</td>\n",
       "      <td>52.0</td>\n",
       "      <td>6.281853</td>\n",
       "      <td>1.081081</td>\n",
       "      <td>565.0</td>\n",
       "      <td>2.181467</td>\n",
       "      <td>37.85</td>\n",
       "      <td>-122.25</td>\n",
       "    </tr>\n",
       "  </tbody>\n",
       "</table>\n",
       "</div>"
      ],
      "text/plain": [
       "   MedInc  HouseAge  AveRooms  AveBedrms  Population  AveOccup  Latitude  \\\n",
       "0  8.3252      41.0  6.984127   1.023810       322.0  2.555556     37.88   \n",
       "1  8.3014      21.0  6.238137   0.971880      2401.0  2.109842     37.86   \n",
       "2  7.2574      52.0  8.288136   1.073446       496.0  2.802260     37.85   \n",
       "3  5.6431      52.0  5.817352   1.073059       558.0  2.547945     37.85   \n",
       "4  3.8462      52.0  6.281853   1.081081       565.0  2.181467     37.85   \n",
       "\n",
       "   Longitude  \n",
       "0    -122.23  \n",
       "1    -122.22  \n",
       "2    -122.24  \n",
       "3    -122.25  \n",
       "4    -122.25  "
      ]
     },
     "execution_count": 8,
     "metadata": {},
     "output_type": "execute_result"
    }
   ],
   "source": [
    "x_df.head()"
   ]
  },
  {
   "cell_type": "code",
   "execution_count": 9,
   "id": "904199e9-33f1-436e-a643-5598efa96a08",
   "metadata": {},
   "outputs": [
    {
     "data": {
      "text/plain": [
       "0    4.526\n",
       "1    3.585\n",
       "2    3.521\n",
       "3    3.413\n",
       "4    3.422\n",
       "Name: MedHouseVal, dtype: float64"
      ]
     },
     "execution_count": 9,
     "metadata": {},
     "output_type": "execute_result"
    }
   ],
   "source": [
    "y_df.head()"
   ]
  },
  {
   "cell_type": "markdown",
   "id": "4ed056b0-c0eb-4062-9026-9b525a8ab1b4",
   "metadata": {},
   "source": [
    "## K-Fold Cross Validation\n",
    "Documentation: https://scikit-learn.org/stable/modules/generated/sklearn.model_selection.KFold.html"
   ]
  },
  {
   "cell_type": "code",
   "execution_count": 12,
   "id": "19741bcd-659b-446a-b174-0238fd4b8d5b",
   "metadata": {},
   "outputs": [
    {
     "name": "stdout",
     "output_type": "stream",
     "text": [
      "Fold 1 , MSE  0.5558915986952442\n",
      "Fold 2 , MSE  0.527656254773633\n",
      "Fold 3 , MSE  0.5092832097248633\n",
      "Fold 4 , MSE  0.5048507784142143\n",
      "Fold 5 , MSE  0.5551804780114864\n",
      "(CV) Average Mean Squared Error: 0.5305724639238882\n"
     ]
    }
   ],
   "source": [
    "import numpy as np\n",
    "from sklearn.model_selection import KFold\n",
    "from sklearn.linear_model import LinearRegression\n",
    "from sklearn.metrics import mean_squared_error\n",
    "# Define the number of Fold\n",
    "k=5\n",
    "kf=KFold(n_splits=k,shuffle=True,random_state=42)\n",
    "# Initialize an empty list to store the mean squared errors\n",
    "mse_scores=[]\n",
    "fold_count=0\n",
    "# Perform K-fold cv manually\n",
    "for train_index,test_index in kf.split(x_df):\n",
    "    x_train,x_test=x_df.iloc[train_index],x_df.iloc[test_index]\n",
    "    y_train,y_test=y_df.iloc[train_index],y_df.iloc[test_index]\n",
    "    model=LinearRegression()\n",
    "    model.fit(x_train,y_train)\n",
    "    # make prediction on test sets\n",
    "    y_pred=model.predict(x_test)\n",
    "    mse=mean_squared_error(y_test,y_pred)\n",
    "    fold_count+=1\n",
    "    print(\"Fold\",fold_count,\", MSE \",mse)\n",
    "    mse_scores.append(mse)\n",
    "\n",
    "# Calculate avg\n",
    "avg_mse=np.mean(mse_scores)\n",
    "print(\"(CV) Average Mean Squared Error:\", avg_mse)"
   ]
  },
  {
   "cell_type": "markdown",
   "id": "f235a2ad-5dc4-4773-932e-67278eaa9027",
   "metadata": {},
   "source": [
    "## Load Iris Dataset\n",
    "Doc: https://scikit-learn.org/stable/modules/generated/sklearn.datasets.load_iris.html\n"
   ]
  },
  {
   "cell_type": "code",
   "execution_count": 13,
   "id": "550bfd1f-21dc-422f-8cdf-62de6782a927",
   "metadata": {},
   "outputs": [
    {
     "name": "stdout",
     "output_type": "stream",
     "text": [
      "(150, 4)\n",
      "(150,)\n",
      "<class 'numpy.ndarray'>\n",
      "<class 'numpy.ndarray'>\n"
     ]
    }
   ],
   "source": [
    "from sklearn.datasets import load_iris\n",
    "# Load the Iris dataset\n",
    "iris=load_iris()\n",
    "x=iris.data\n",
    "y=iris.target\n",
    "#Print the shapes\n",
    "print(x.shape)\n",
    "print(y.shape)\n",
    "# check type\n",
    "print(type(x))\n",
    "print(type(y))"
   ]
  },
  {
   "cell_type": "markdown",
   "id": "d2030cad-4478-4272-a726-9340a34e03ae",
   "metadata": {},
   "source": [
    "# K-Fold CV"
   ]
  },
  {
   "cell_type": "code",
   "execution_count": 14,
   "id": "e9e9b9b9-aa30-4aad-9e11-c117f3079605",
   "metadata": {},
   "outputs": [
    {
     "name": "stdout",
     "output_type": "stream",
     "text": [
      "Cross-validation scores: [1.         0.96666667 0.93333333 0.93333333 0.93333333]\n",
      "Mean accuracy: 0.9533333333333335\n"
     ]
    }
   ],
   "source": [
    "import numpy as np\n",
    "from sklearn.model_selection import KFold, cross_val_score\n",
    "from sklearn.tree import DecisionTreeClassifier\n",
    "# Initialize the Decision tree classifier\n",
    "clf=DecisionTreeClassifier()\n",
    "# define the number of folds for k-fold cv\n",
    "k=5\n",
    "kf=KFold(n_splits=k,shuffle=True,random_state=42)\n",
    "# Perform k-fold cv and compute the scores\n",
    "scores=cross_val_score(clf,x,y,cv=kf)\n",
    "# Print the cross-validation scores\n",
    "print(\"Cross-validation scores:\", scores)\n",
    "\n",
    "# Print the mean and standard deviation of the scores\n",
    "print(\"Mean accuracy:\", np.mean(scores))"
   ]
  },
  {
   "cell_type": "markdown",
   "id": "71f147bf-f22c-4094-86fa-3167b2d8c9c3",
   "metadata": {},
   "source": [
    "## Leave-One-Out Cross-Validation\n",
    "LeaveOneOut: https://scikit-learn.org/stable/modules/generated/sklearn.model_selection.LeaveOneOut.html"
   ]
  },
  {
   "cell_type": "code",
   "execution_count": 16,
   "id": "8a8a2ee4-bd55-47f8-a871-15eef1fa1299",
   "metadata": {},
   "outputs": [
    {
     "name": "stdout",
     "output_type": "stream",
     "text": [
      "Number of iterations: 150\n",
      "Cross-validation scores: [1. 1. 1. 1. 1. 1. 1. 1. 1. 1. 1. 1. 1. 1. 1. 1. 1. 1. 1. 1. 1. 1. 1. 1.\n",
      " 1. 1. 1. 1. 1. 1. 1. 1. 1. 1. 1. 1. 1. 1. 1. 1. 1. 1. 1. 1. 1. 1. 1. 1.\n",
      " 1. 1. 1. 1. 1. 1. 1. 1. 1. 1. 1. 1. 1. 1. 1. 1. 1. 1. 1. 1. 1. 1. 0. 1.\n",
      " 1. 1. 1. 1. 1. 0. 1. 1. 1. 1. 1. 0. 1. 1. 1. 1. 1. 1. 1. 1. 1. 1. 1. 1.\n",
      " 1. 1. 1. 1. 1. 1. 1. 1. 1. 1. 0. 1. 1. 1. 1. 1. 1. 1. 1. 1. 1. 1. 1. 0.\n",
      " 1. 1. 1. 1. 1. 1. 1. 1. 1. 0. 1. 1. 1. 1. 1. 1. 1. 1. 0. 1. 1. 1. 1. 1.\n",
      " 1. 1. 1. 1. 1. 1.]\n",
      "Mean Accuracy: 0.9533333333333334\n"
     ]
    }
   ],
   "source": [
    "from sklearn.model_selection import LeaveOneOut\n",
    "from sklearn.model_selection import cross_val_score\n",
    "from sklearn.tree import DecisionTreeClassifier\n",
    "\n",
    "# Initialize the logistic regression model\n",
    "model = DecisionTreeClassifier()\n",
    "\n",
    "# Initialize Leave-One-Out Cross-Validation\n",
    "loo = LeaveOneOut()\n",
    "\n",
    "# Perform cross-validation\n",
    "scores = cross_val_score(model, x, y, cv=loo)\n",
    "print(\"Number of iterations:\",len(scores))\n",
    "\n",
    "# Print the cross-validation scores\n",
    "print(\"Cross-validation scores:\", scores)\n",
    "\n",
    "# Calculate and print the mean accuracy\n",
    "accuracy = scores.mean()\n",
    "print(\"Mean Accuracy:\", accuracy)"
   ]
  },
  {
   "cell_type": "markdown",
   "id": "e8e535db-3048-43d2-be56-7de0973d4be9",
   "metadata": {},
   "source": [
    "## Stratified K-Fold Cross-Validation\n",
    "Doc: https://scikit-learn.org/stable/modules/generated/sklearn.model_selection.StratifiedKFold.html"
   ]
  },
  {
   "cell_type": "code",
   "execution_count": 18,
   "id": "ddd97bd6-957f-4847-b786-a77bb09f28e9",
   "metadata": {},
   "outputs": [
    {
     "name": "stdout",
     "output_type": "stream",
     "text": [
      "Number of iterations: 5\n",
      "Cross-validation scores: [1.         0.96666667 0.93333333 0.96666667 0.9       ]\n",
      "Mean Accuracy: 0.9533333333333335\n"
     ]
    }
   ],
   "source": [
    "from sklearn.model_selection import StratifiedKFold, cross_val_score\n",
    "from sklearn.tree import DecisionTreeClassifier\n",
    "\n",
    "# Initialize the Decision Tree classifier\n",
    "clf = DecisionTreeClassifier()\n",
    "\n",
    "# Define the number of folds for Stratified K-fold cross-validation\n",
    "k = 5\n",
    "\n",
    "# Initialize StratifiedKFold cross-validation\n",
    "skf = StratifiedKFold(n_splits=k, shuffle=True, random_state=42)\n",
    "\n",
    "# Perform Stratified K-fold cross-validation and compute the scores\n",
    "scores = cross_val_score(clf, x, y, cv=skf)\n",
    "print(\"Number of iterations:\",len(scores))\n",
    "\n",
    "# Print the cross-validation scores\n",
    "print(\"Cross-validation scores:\", scores)\n",
    "\n",
    "# Calculate and print the mean accuracy\n",
    "accuracy = scores.mean()\n",
    "print(\"Mean Accuracy:\", accuracy)"
   ]
  },
  {
   "cell_type": "markdown",
   "id": "b10558f9-1e2b-4b15-a788-5c105dfe2d0e",
   "metadata": {},
   "source": [
    "## SKFold CV Manually"
   ]
  },
  {
   "cell_type": "code",
   "execution_count": null,
   "id": "f7cb0ba9-e52f-493f-b19d-d70e5914a702",
   "metadata": {},
   "outputs": [],
   "source": []
  }
 ],
 "metadata": {
  "kernelspec": {
   "display_name": "Python 3 (ipykernel)",
   "language": "python",
   "name": "python3"
  },
  "language_info": {
   "codemirror_mode": {
    "name": "ipython",
    "version": 3
   },
   "file_extension": ".py",
   "mimetype": "text/x-python",
   "name": "python",
   "nbconvert_exporter": "python",
   "pygments_lexer": "ipython3",
   "version": "3.11.7"
  }
 },
 "nbformat": 4,
 "nbformat_minor": 5
}
