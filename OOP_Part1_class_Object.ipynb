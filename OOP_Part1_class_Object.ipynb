{
 "cells": [
  {
   "cell_type": "markdown",
   "id": "283a3fb1",
   "metadata": {},
   "source": [
    "# OOP in Python(Class and Object)\n",
    "🦊 `Notebook by` [Md.Samiul Alim](https://github.com/sami0055)\n",
    "\n",
    "😋  `Machine Learning Source Codes` [GitHub](https://github.com/sami0055/Machine-Learning)"
   ]
  },
  {
   "cell_type": "code",
   "execution_count": 38,
   "id": "68030481",
   "metadata": {},
   "outputs": [],
   "source": [
    "class Atm:\n",
    "    \n",
    "    #constructor\n",
    "    def __init__(self):\n",
    "        self.pin=''\n",
    "        self.balance=0\n",
    "        print(\"Executed\")\n",
    "        self.menu()\n",
    "    def menu(self):\n",
    "        user_input = input(\"\"\"\n",
    "    Hi how can I help you?\n",
    "    1. Press 1 to create pin\n",
    "    2. Press 2 to change pin\n",
    "    3. Press 3 to check balance\n",
    "    4. Press 4 to withdraw\n",
    "    5. Anything else to exit\n",
    "    \"\"\")\n",
    "\n",
    "        if user_input == '1':\n",
    "            self.create_pin()\n",
    "        elif user_input == '2':\n",
    "            self.change_pin()\n",
    "        elif user_input == '3':\n",
    "            self.check_balance()\n",
    "        elif user_input == '4':\n",
    "            self.withdraw()\n",
    "        else:\n",
    "            exit()\n",
    "        \n",
    "    def create_pin(self):\n",
    "        user_pin=input(\"enter your pin\")\n",
    "        self.pin=user_pin\n",
    "            \n",
    "        user_bal=int(input(\"enter balance\"))\n",
    "        self.balance=user_bal\n",
    "            \n",
    "        print(\"Pin created Successfully\")\n",
    "        self.menu()\n",
    "        \n",
    "    def change_pin(self):\n",
    "        old_pin=input(\"ente old pin\")\n",
    "        \n",
    "        if old_pin==self.pin:\n",
    "            new_pin=input(\"enter new pin\")\n",
    "            self.pin=new_pin\n",
    "            print(\"pin change successfully\")\n",
    "            self.menu()\n",
    "        else:\n",
    "            print(\"Wrong pass\")\n",
    "            self.menu\n",
    "    def check_balance(self):\n",
    "        user_pin=input(\"Enter your pin\")\n",
    "        if user_pin==self.pin:\n",
    "            print(\"Your balance is\",self.balance)\n",
    "        else:\n",
    "            print(\"wrong pass\")\n",
    "            self.menu()\n",
    "    def withdraw(self):\n",
    "        user_pin=input(\"enter the pin\")\n",
    "        if user_pin ==self.pin:\n",
    "            amount=int(input(\"enter the amount\"))\n",
    "            if amount<=self.balance:\n",
    "                self.balance=self.balance-amount\n",
    "                print(\"Withdrawl successfull, balance is \",self.balance)\n",
    "            else:\n",
    "                print(\"Enter correct amount\")\n",
    "                \n",
    "        else:\n",
    "            print(\"Wrong pass\")\n",
    "        self.menu()"
   ]
  },
  {
   "cell_type": "code",
   "execution_count": 4,
   "id": "380834a7",
   "metadata": {},
   "outputs": [
    {
     "name": "stdout",
     "output_type": "stream",
     "text": [
      "Executed\n",
      "\n",
      "    Hi how can I help you?\n",
      "    1. Press 1 to create pin\n",
      "    2. Press 2 to change pin\n",
      "    3. Press 3 to check balance\n",
      "    4. Press 4 to withdraw\n",
      "    5. Anything else to exit\n",
      "    0\n"
     ]
    }
   ],
   "source": [
    "obj=Atm()"
   ]
  },
  {
   "cell_type": "markdown",
   "id": "c2033dc1",
   "metadata": {},
   "source": [
    "# Fraction"
   ]
  },
  {
   "cell_type": "code",
   "execution_count": 32,
   "id": "94f3fd1e",
   "metadata": {},
   "outputs": [],
   "source": [
    "class Fraction:\n",
    "    def __init__(self,x,y):\n",
    "        self.num=x;\n",
    "        self.den=y\n",
    "    def __str__(self):\n",
    "        return '{}/{}'.format(self.num,self.den)\n",
    "    def __add__(self,other):\n",
    "        new_num=self.num*other.den+other.num*self.den\n",
    "        new_den=self.den*other.den\n",
    "        return '{}/{}'.format(new_num,new_den)\n",
    "    \n",
    "    def __sub__(self,other):\n",
    "        new_num=self.num*other.den-other.num*self.den\n",
    "        new_den=self.den*other.den\n",
    "        return '{}/{}'.format(new_num,new_den)\n",
    "        \n",
    "    def __mul__(self,other): #Megic methods\n",
    "        new_num=self.num*other.num\n",
    "        new_den=self.den*other.den\n",
    "        return '{}/{}'.format(new_num,new_den)"
   ]
  },
  {
   "cell_type": "code",
   "execution_count": 33,
   "id": "a2fbad9e",
   "metadata": {},
   "outputs": [],
   "source": [
    "fr1=Fraction(2,3)\n",
    "fr2=Fraction(4,5)"
   ]
  },
  {
   "cell_type": "code",
   "execution_count": null,
   "id": "37ee5cbc",
   "metadata": {},
   "outputs": [],
   "source": []
  },
  {
   "cell_type": "code",
   "execution_count": 34,
   "id": "1e24f12a",
   "metadata": {},
   "outputs": [
    {
     "name": "stdout",
     "output_type": "stream",
     "text": [
      "2/3\n"
     ]
    }
   ],
   "source": [
    "print(fr1)"
   ]
  },
  {
   "cell_type": "code",
   "execution_count": 35,
   "id": "ce3829a1",
   "metadata": {},
   "outputs": [
    {
     "name": "stdout",
     "output_type": "stream",
     "text": [
      "22/15\n"
     ]
    }
   ],
   "source": [
    "print(fr1+fr2)"
   ]
  },
  {
   "cell_type": "code",
   "execution_count": 36,
   "id": "6874ac71",
   "metadata": {},
   "outputs": [
    {
     "name": "stdout",
     "output_type": "stream",
     "text": [
      "-2/15\n"
     ]
    }
   ],
   "source": [
    "print(fr1-fr2)"
   ]
  },
  {
   "cell_type": "code",
   "execution_count": 37,
   "id": "46d459ac",
   "metadata": {},
   "outputs": [
    {
     "name": "stdout",
     "output_type": "stream",
     "text": [
      "8/15\n"
     ]
    }
   ],
   "source": [
    "print(fr1*fr2)"
   ]
  },
  {
   "cell_type": "code",
   "execution_count": null,
   "id": "a21d22d7",
   "metadata": {},
   "outputs": [],
   "source": []
  }
 ],
 "metadata": {
  "kernelspec": {
   "display_name": "Python 3 (ipykernel)",
   "language": "python",
   "name": "python3"
  },
  "language_info": {
   "codemirror_mode": {
    "name": "ipython",
    "version": 3
   },
   "file_extension": ".py",
   "mimetype": "text/x-python",
   "name": "python",
   "nbconvert_exporter": "python",
   "pygments_lexer": "ipython3",
   "version": "3.11.4"
  }
 },
 "nbformat": 4,
 "nbformat_minor": 5
}
