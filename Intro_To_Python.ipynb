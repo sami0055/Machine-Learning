{
 "cells": [
  {
   "cell_type": "markdown",
   "id": "b000caa4",
   "metadata": {},
   "source": [
    "# Inroduction to Python"
   ]
  },
  {
   "cell_type": "markdown",
   "id": "ccf840e1",
   "metadata": {},
   "source": [
    "## Python Comments"
   ]
  },
  {
   "cell_type": "code",
   "execution_count": 1,
   "id": "37930f20",
   "metadata": {},
   "outputs": [],
   "source": [
    "#Single Line comment"
   ]
  },
  {
   "cell_type": "code",
   "execution_count": 2,
   "id": "4cc341ea",
   "metadata": {},
   "outputs": [
    {
     "data": {
      "text/plain": [
       "'\\nThis is \\na Multi\\nLine \\nComment\\n'"
      ]
     },
     "execution_count": 2,
     "metadata": {},
     "output_type": "execute_result"
    }
   ],
   "source": [
    "\"\"\"\n",
    "This is \n",
    "a Multi\n",
    "Line \n",
    "Comment\n",
    "\"\"\""
   ]
  },
  {
   "cell_type": "markdown",
   "id": "f24908ea",
   "metadata": {},
   "source": [
    "## Python Variables"
   ]
  },
  {
   "cell_type": "code",
   "execution_count": 3,
   "id": "6c73ab35",
   "metadata": {},
   "outputs": [],
   "source": [
    "name=\"Md.Samiul Alim\" #String\n",
    "age=22 #Integer\n",
    "is_Student=True #Boolean\n",
    "cgpa=3.82 #Float"
   ]
  },
  {
   "cell_type": "code",
   "execution_count": 9,
   "id": "700e3602",
   "metadata": {},
   "outputs": [
    {
     "name": "stdout",
     "output_type": "stream",
     "text": [
      "Name = Md.Samiul Alim\n",
      "Age = 22\n",
      "Is Student = True\n",
      "CGPA = 3.82\n"
     ]
    }
   ],
   "source": [
    "print(\"Name =\",name)\n",
    "print(\"Age =\",age)\n",
    "print(\"Is Student =\",is_Student)\n",
    "print(\"CGPA =\",cgpa)"
   ]
  },
  {
   "cell_type": "markdown",
   "id": "457b0700",
   "metadata": {},
   "source": [
    "## Python Data types"
   ]
  },
  {
   "cell_type": "code",
   "execution_count": 13,
   "id": "15b65670",
   "metadata": {},
   "outputs": [
    {
     "name": "stdout",
     "output_type": "stream",
     "text": [
      "10\n",
      "<class 'int'>\n"
     ]
    }
   ],
   "source": [
    "#integer type\n",
    "num=10\n",
    "print(num)\n",
    "print(type(num))"
   ]
  },
  {
   "cell_type": "code",
   "execution_count": 14,
   "id": "14f49d87",
   "metadata": {},
   "outputs": [
    {
     "name": "stdout",
     "output_type": "stream",
     "text": [
      "3.82\n",
      "<class 'float'>\n"
     ]
    }
   ],
   "source": [
    "#float type\n",
    "cgpa=3.82\n",
    "print(cgpa)\n",
    "print(type(cgpa))"
   ]
  },
  {
   "cell_type": "code",
   "execution_count": 16,
   "id": "bca77beb",
   "metadata": {},
   "outputs": [
    {
     "name": "stdout",
     "output_type": "stream",
     "text": [
      "Md.Samiul Alim\n",
      "<class 'str'>\n"
     ]
    }
   ],
   "source": [
    "#String\n",
    "name=\"Md.Samiul Alim\"\n",
    "print(name)\n",
    "print(type(name))\n"
   ]
  },
  {
   "cell_type": "code",
   "execution_count": 18,
   "id": "bc26b02e",
   "metadata": {},
   "outputs": [
    {
     "name": "stdout",
     "output_type": "stream",
     "text": [
      "(2+0j)\n",
      "(1+2j)\n",
      "<class 'complex'>\n"
     ]
    }
   ],
   "source": [
    "#complex\n",
    "a=1+2j\n",
    "b=1-2j\n",
    "print(a+b)\n",
    "print(a)\n",
    "print(type(a))"
   ]
  },
  {
   "cell_type": "code",
   "execution_count": 19,
   "id": "9e2bc73c",
   "metadata": {},
   "outputs": [
    {
     "name": "stdout",
     "output_type": "stream",
     "text": [
      "True\n",
      "<class 'bool'>\n"
     ]
    }
   ],
   "source": [
    "#boolean\n",
    "is_true=True\n",
    "print(is_true)\n",
    "print(type(is_true))"
   ]
  },
  {
   "cell_type": "markdown",
   "id": "5411db6c",
   "metadata": {},
   "source": [
    "## Python Casting"
   ]
  },
  {
   "cell_type": "code",
   "execution_count": 20,
   "id": "9d6c5062",
   "metadata": {},
   "outputs": [
    {
     "name": "stdout",
     "output_type": "stream",
     "text": [
      "1 2 2\n",
      "<class 'int'> <class 'int'> <class 'int'>\n"
     ]
    }
   ],
   "source": [
    "#integer Casting\n",
    "x=int(1)\n",
    "y=int(2.5)\n",
    "z=int(\"2\")\n",
    "print(x,y,z)\n",
    "print(type(x),type(y),type(z))"
   ]
  },
  {
   "cell_type": "code",
   "execution_count": 22,
   "id": "2ce51a91",
   "metadata": {},
   "outputs": [
    {
     "name": "stdout",
     "output_type": "stream",
     "text": [
      "2.2222 2.4\n",
      "<class 'float'> <class 'float'>\n"
     ]
    }
   ],
   "source": [
    "#float casting\n",
    "x=float(2.2222)\n",
    "y=float(\"2.4\")\n",
    "print(x,y)\n",
    "print(type(x),type(y))"
   ]
  },
  {
   "cell_type": "code",
   "execution_count": 23,
   "id": "8f6a071f",
   "metadata": {},
   "outputs": [
    {
     "name": "stdout",
     "output_type": "stream",
     "text": [
      "1 2.3\n",
      "<class 'str'> <class 'str'>\n"
     ]
    }
   ],
   "source": [
    "#String casting\n",
    "x=str(1)\n",
    "y=str(2.3)\n",
    "print(x,y)\n",
    "print(type(x),type(y))"
   ]
  },
  {
   "cell_type": "markdown",
   "id": "0d9be2d4",
   "metadata": {},
   "source": [
    "## Python Input/Output"
   ]
  },
  {
   "cell_type": "code",
   "execution_count": 25,
   "id": "515c5d77",
   "metadata": {},
   "outputs": [
    {
     "name": "stdout",
     "output_type": "stream",
     "text": [
      "Enter your namesamiul alim\n",
      "samiul alim\n"
     ]
    }
   ],
   "source": [
    "#taking input\n",
    "name=input(\"Enter your name\")\n",
    "print(name)\n"
   ]
  },
  {
   "cell_type": "code",
   "execution_count": 26,
   "id": "be448530",
   "metadata": {},
   "outputs": [
    {
     "name": "stdout",
     "output_type": "stream",
     "text": [
      "Enter your age 22\n",
      "22\n",
      "<class 'str'>\n"
     ]
    }
   ],
   "source": [
    "#Without Casting Inputs are String\n",
    "age=input(\"Enter your age \")\n",
    "print(age)\n",
    "print(type(age))"
   ]
  },
  {
   "cell_type": "code",
   "execution_count": 28,
   "id": "5f791a6e",
   "metadata": {},
   "outputs": [
    {
     "name": "stdout",
     "output_type": "stream",
     "text": [
      "Enter your name: Samiul Alim\n",
      "Enter your age: 22\n",
      "Enter your cgpa: 3.8\n",
      "Samiul Alim 22 3.8\n"
     ]
    }
   ],
   "source": [
    "#Taking Input With Casting\n",
    "name=input(\"Enter your name: \")\n",
    "age=int(input(\"Enter your age: \"))\n",
    "cgpa=float(input(\"Enter your cgpa: \"))\n",
    "print(name,age,cgpa)\n"
   ]
  },
  {
   "cell_type": "code",
   "execution_count": 35,
   "id": "5c265ba0",
   "metadata": {},
   "outputs": [
    {
     "name": "stdout",
     "output_type": "stream",
     "text": [
      "Enter Values: 2 3 4\n",
      "2 3 4\n",
      "<class 'str'>\n"
     ]
    }
   ],
   "source": [
    "#Taking Multiple Input in a Single Line\n",
    "x,y,z=input(\"Enter Values: \").split()\n",
    "print(x,y,z)\n",
    "print(type(x))"
   ]
  },
  {
   "cell_type": "code",
   "execution_count": 37,
   "id": "c911a08d",
   "metadata": {},
   "outputs": [
    {
     "name": "stdout",
     "output_type": "stream",
     "text": [
      "Enter multiple value saperated by space 1 3 4\n",
      "1 3 4\n"
     ]
    }
   ],
   "source": [
    "#Taking multiple int in a single line\n",
    "List=input(\"Enter multiple value saperated by space \")\n",
    "input_list=List.split();\n",
    "x,y,z=map(int,input_list[:3])\n",
    "print(x,y,z)"
   ]
  },
  {
   "cell_type": "code",
   "execution_count": 39,
   "id": "4935a5d2",
   "metadata": {},
   "outputs": [
    {
     "name": "stdout",
     "output_type": "stream",
     "text": [
      "Enter multiple value for float12.22 1.22 3.333\n",
      "12.22 1.22 3.333\n"
     ]
    }
   ],
   "source": [
    "FloatList=input(\"Enter multiple value for float\")\n",
    "f_list=FloatList.split()\n",
    "a,b,c=map(float,f_list[:3])\n",
    "print(a,b,c)"
   ]
  },
  {
   "cell_type": "markdown",
   "id": "3740ba7b",
   "metadata": {},
   "source": [
    "## Python String"
   ]
  },
  {
   "cell_type": "code",
   "execution_count": 45,
   "id": "6b07768d",
   "metadata": {},
   "outputs": [
    {
     "name": "stdout",
     "output_type": "stream",
     "text": [
      "samiul alim sami = Samiul alim sami\n"
     ]
    }
   ],
   "source": [
    "#single quote\n",
    "name='samiul alim sami'\n",
    "name2=\"Samiul alim sami\"\n",
    "print(name,'=',name2)"
   ]
  },
  {
   "cell_type": "code",
   "execution_count": 47,
   "id": "88b56918",
   "metadata": {},
   "outputs": [
    {
     "name": "stdout",
     "output_type": "stream",
     "text": [
      "Samiul Alim\n"
     ]
    }
   ],
   "source": [
    "#string concatanation\n",
    "str1=\"Samiul\"\n",
    "str2=\"Alim\"\n",
    "print(str1,str2)"
   ]
  },
  {
   "cell_type": "code",
   "execution_count": 55,
   "id": "dcffc847",
   "metadata": {},
   "outputs": [
    {
     "name": "stdout",
     "output_type": "stream",
     "text": [
      "SamiulAlim?\n",
      "Samiul--Alim!"
     ]
    }
   ],
   "source": [
    "#Modify Print\n",
    "print(str1,'',str2,sep='',end='?')\n",
    "print()\n",
    "print(str1,'',str2,sep='-',end='!')"
   ]
  },
  {
   "cell_type": "code",
   "execution_count": 57,
   "id": "acd10e64",
   "metadata": {},
   "outputs": [
    {
     "name": "stdout",
     "output_type": "stream",
     "text": [
      "6\n",
      "4\n"
     ]
    }
   ],
   "source": [
    "#length\n",
    "print(len(str1))\n",
    "print(len(str2))"
   ]
  },
  {
   "cell_type": "code",
   "execution_count": 60,
   "id": "8980a50c",
   "metadata": {},
   "outputs": [
    {
     "name": "stdout",
     "output_type": "stream",
     "text": [
      "M\n"
     ]
    }
   ],
   "source": [
    "#builtin functions\n",
    "course_name=\"Machine Learning\"\n",
    "print(course_name[0])"
   ]
  },
  {
   "cell_type": "code",
   "execution_count": 61,
   "id": "f1aac98e",
   "metadata": {},
   "outputs": [
    {
     "name": "stdout",
     "output_type": "stream",
     "text": [
      "Machine Learning\n"
     ]
    }
   ],
   "source": [
    "print(course_name[0:])"
   ]
  },
  {
   "cell_type": "code",
   "execution_count": 62,
   "id": "8d9920d4",
   "metadata": {},
   "outputs": [
    {
     "name": "stdout",
     "output_type": "stream",
     "text": [
      "Machine\n"
     ]
    }
   ],
   "source": [
    "print(course_name[0:7])"
   ]
  },
  {
   "cell_type": "code",
   "execution_count": 67,
   "id": "b7b11642",
   "metadata": {},
   "outputs": [
    {
     "name": "stdout",
     "output_type": "stream",
     "text": [
      "MACHINE LEARNING\n",
      "machine learning\n"
     ]
    }
   ],
   "source": [
    "print(course_name.upper())\n",
    "\n",
    "print(course_name.lower())"
   ]
  },
  {
   "cell_type": "code",
   "execution_count": 69,
   "id": "a4b552be",
   "metadata": {},
   "outputs": [
    {
     "data": {
      "text/plain": [
       "'MATH 350'"
      ]
     },
     "execution_count": 69,
     "metadata": {},
     "output_type": "execute_result"
    }
   ],
   "source": [
    "mathh=\"Mathh 350\"\n",
    "mathh.upper()\n"
   ]
  },
  {
   "cell_type": "code",
   "execution_count": 81,
   "id": "41e5fe19",
   "metadata": {},
   "outputs": [
    {
     "name": "stdout",
     "output_type": "stream",
     "text": [
      "3\n"
     ]
    }
   ],
   "source": [
    "n=mathh.find(\"h\")\n",
    "print(n)"
   ]
  },
  {
   "cell_type": "code",
   "execution_count": 87,
   "id": "7ae5c7a7",
   "metadata": {},
   "outputs": [
    {
     "name": "stdout",
     "output_type": "stream",
     "text": [
      "samiul\n"
     ]
    }
   ],
   "source": [
    "test=\"      samiul     \"\n",
    "print(test.strip())"
   ]
  },
  {
   "cell_type": "markdown",
   "id": "583bb4c9",
   "metadata": {},
   "source": [
    "## Python Lists"
   ]
  },
  {
   "cell_type": "code",
   "execution_count": 129,
   "id": "b9933566",
   "metadata": {},
   "outputs": [
    {
     "name": "stdout",
     "output_type": "stream",
     "text": [
      "[1, 2, 3, 4, 5]\n",
      "['Alice', 'Bob', 'Sami']\n",
      "[1, 3, 5, 'abc']\n"
     ]
    }
   ],
   "source": [
    "#create Lists\n",
    "numbers=[1,2,3,4,5]\n",
    "name=['Alice','Bob','Sami']\n",
    "mixed=[1,3,5,'abc']\n",
    "course=[\"CSE115\",\"Mat116\",\"Eng103\"]\n",
    "print(numbers)\n",
    "print(name)\n",
    "print(mixed)"
   ]
  },
  {
   "cell_type": "code",
   "execution_count": 112,
   "id": "f3b4c421",
   "metadata": {},
   "outputs": [
    {
     "name": "stdout",
     "output_type": "stream",
     "text": [
      "<class 'list'>\n"
     ]
    }
   ],
   "source": [
    "print(type(numbers))"
   ]
  },
  {
   "cell_type": "code",
   "execution_count": 130,
   "id": "739a7a4d",
   "metadata": {},
   "outputs": [
    {
     "name": "stdout",
     "output_type": "stream",
     "text": [
      "['CSE115', 'Mat116', 'Eng103']\n"
     ]
    }
   ],
   "source": [
    "print(course)\n"
   ]
  },
  {
   "cell_type": "code",
   "execution_count": 90,
   "id": "ea9fdcab",
   "metadata": {},
   "outputs": [
    {
     "name": "stdout",
     "output_type": "stream",
     "text": [
      "[1, 2, 3, 4, 5, 8]\n"
     ]
    }
   ],
   "source": [
    "numbers.append(8)\n",
    "print(numbers)"
   ]
  },
  {
   "cell_type": "code",
   "execution_count": 94,
   "id": "52d2b485",
   "metadata": {},
   "outputs": [
    {
     "name": "stdout",
     "output_type": "stream",
     "text": [
      "[1, 2, 3, 4, 5, 8, 22, 33, 44, 22, 33, 44]\n"
     ]
    }
   ],
   "source": [
    "print(numbers)"
   ]
  },
  {
   "cell_type": "code",
   "execution_count": 99,
   "id": "e1d38f5d",
   "metadata": {},
   "outputs": [
    {
     "name": "stdout",
     "output_type": "stream",
     "text": [
      "[1, 2, 3, 4, 5]\n"
     ]
    }
   ],
   "source": [
    "numbers=[1,2,3,4,5]\n",
    "print(numbers)"
   ]
  },
  {
   "cell_type": "code",
   "execution_count": 101,
   "id": "61c98a77",
   "metadata": {},
   "outputs": [
    {
     "name": "stdout",
     "output_type": "stream",
     "text": [
      "[1, 2, 3, 4, 5, 11, 12, 11, 12]\n"
     ]
    }
   ],
   "source": [
    "numbers.extend([11,12])\n",
    "print(numbers)"
   ]
  },
  {
   "cell_type": "code",
   "execution_count": 102,
   "id": "ac2df4e5",
   "metadata": {},
   "outputs": [
    {
     "name": "stdout",
     "output_type": "stream",
     "text": [
      "[1, 2, 3, 4, 5, 11, 12, 11, 12]\n"
     ]
    }
   ],
   "source": [
    "print(numbers)"
   ]
  },
  {
   "cell_type": "code",
   "execution_count": 103,
   "id": "a2177e2a",
   "metadata": {},
   "outputs": [
    {
     "name": "stdout",
     "output_type": "stream",
     "text": [
      "[12, 11, 12, 11, 5, 4, 3, 2, 1]\n"
     ]
    }
   ],
   "source": [
    "numbers.reverse()\n",
    "print(numbers)"
   ]
  },
  {
   "cell_type": "code",
   "execution_count": 125,
   "id": "c7848f19",
   "metadata": {},
   "outputs": [
    {
     "name": "stdout",
     "output_type": "stream",
     "text": [
      "[1, 2, 3, 4, 5]\n",
      "1\n",
      "2\n",
      "3\n",
      "4\n",
      "5\n"
     ]
    }
   ],
   "source": [
    "numbers.sort()\n",
    "print(numbers)\n",
    "for i in numbers:\n",
    "    print(i)"
   ]
  },
  {
   "cell_type": "markdown",
   "id": "f86af8c0",
   "metadata": {},
   "source": [
    "## For Loop"
   ]
  },
  {
   "cell_type": "code",
   "execution_count": 108,
   "id": "452f71b6",
   "metadata": {},
   "outputs": [
    {
     "name": "stdout",
     "output_type": "stream",
     "text": [
      "1\n",
      "2\n",
      "3\n",
      "4\n",
      "Ends\n"
     ]
    }
   ],
   "source": [
    "for i in range(1,5):\n",
    "    print(i)\n",
    "print(\"Ends\")"
   ]
  },
  {
   "cell_type": "code",
   "execution_count": 110,
   "id": "3f2e299b",
   "metadata": {},
   "outputs": [
    {
     "name": "stdout",
     "output_type": "stream",
     "text": [
      "1\n",
      "3\n",
      "5\n",
      "7\n",
      "9\n"
     ]
    }
   ],
   "source": [
    "for i in range(1,11,2):\n",
    "    print(i)"
   ]
  },
  {
   "cell_type": "markdown",
   "id": "a90a912a",
   "metadata": {},
   "source": [
    "## Python Tuple"
   ]
  },
  {
   "cell_type": "code",
   "execution_count": 124,
   "id": "f32fc04a",
   "metadata": {},
   "outputs": [
    {
     "name": "stdout",
     "output_type": "stream",
     "text": [
      "1\n",
      "2\n",
      "3\n",
      "4\n",
      "5\n",
      "6\n",
      "(1, 2, 3, 4, 5, 6)\n",
      "(1, 2, 3)\n"
     ]
    }
   ],
   "source": [
    "t=(1,2,3,4,5,6)\n",
    "for i in t:\n",
    "    print(i)\n",
    "print(t)\n",
    "print(t[0:3])"
   ]
  },
  {
   "cell_type": "markdown",
   "id": "692e06f5",
   "metadata": {},
   "source": [
    "## Python Sets"
   ]
  },
  {
   "cell_type": "code",
   "execution_count": 123,
   "id": "55d11327",
   "metadata": {},
   "outputs": [
    {
     "name": "stdout",
     "output_type": "stream",
     "text": [
      "{1, 2, 3, 4}\n",
      "Length 4\n",
      "1\n",
      "2\n",
      "3\n",
      "4\n"
     ]
    }
   ],
   "source": [
    "num={1,1,1,2,2,3,4}\n",
    "print(num)\n",
    "print(\"Length\",len(num))\n",
    "\n",
    "for i in num:\n",
    "    print(i)"
   ]
  },
  {
   "cell_type": "markdown",
   "id": "e9cda3ba",
   "metadata": {},
   "source": [
    "## Python Dictionaries"
   ]
  },
  {
   "cell_type": "code",
   "execution_count": 138,
   "id": "803b706f",
   "metadata": {},
   "outputs": [
    {
     "data": {
      "text/plain": [
       "{'Course Name': 'Engineering Mathematics',\n",
       " 'Course Code': 'Mat350',\n",
       " 'Course Inst': 'Dr.Mamun Mollah',\n",
       " 'Room No': 'Sac315',\n",
       " 'Time': '3:05 AM-4:15 AM',\n",
       " 'Phone': 183838383}"
      ]
     },
     "execution_count": 138,
     "metadata": {},
     "output_type": "execute_result"
    }
   ],
   "source": [
    "course={\n",
    "    \n",
    "  \"Course Name\":\"Engineering Mathematics\",\n",
    "    \"Course Code\":\"Mat350\",\n",
    "    \"Course Inst\":\"Dr.Mamun Mollah\",\n",
    "    \"Room No\" : \"Sac315\",\n",
    "    \"Time\":\"3:05 AM-4:15 AM\",\n",
    "    \"Phone\":183838383\n",
    "    \n",
    "}\n",
    "course"
   ]
  },
  {
   "cell_type": "code",
   "execution_count": 140,
   "id": "f8df39bb",
   "metadata": {},
   "outputs": [
    {
     "data": {
      "text/plain": [
       "'Engineering Mathematics'"
      ]
     },
     "execution_count": 140,
     "metadata": {},
     "output_type": "execute_result"
    }
   ],
   "source": [
    "course[\"Course Name\"]"
   ]
  },
  {
   "cell_type": "code",
   "execution_count": 141,
   "id": "6c6f4277",
   "metadata": {},
   "outputs": [
    {
     "name": "stdout",
     "output_type": "stream",
     "text": [
      "3:05 AM-4:15 AM\n"
     ]
    }
   ],
   "source": [
    "print(course[\"Time\"])"
   ]
  },
  {
   "cell_type": "code",
   "execution_count": 142,
   "id": "5c46655e",
   "metadata": {},
   "outputs": [
    {
     "data": {
      "text/plain": [
       "dict_keys(['Course Name', 'Course Code', 'Course Inst', 'Room No', 'Time', 'Phone'])"
      ]
     },
     "execution_count": 142,
     "metadata": {},
     "output_type": "execute_result"
    }
   ],
   "source": [
    "course.keys()"
   ]
  },
  {
   "cell_type": "code",
   "execution_count": 144,
   "id": "0cf6087c",
   "metadata": {},
   "outputs": [
    {
     "data": {
      "text/plain": [
       "dict_values(['Engineering Mathematics', 'Mat350', 'Dr.Mamun Mollah', 'Sac315', '3:05 AM-4:15 AM', 183838383])"
      ]
     },
     "execution_count": 144,
     "metadata": {},
     "output_type": "execute_result"
    }
   ],
   "source": [
    "course.values()"
   ]
  },
  {
   "cell_type": "code",
   "execution_count": null,
   "id": "225b62a4",
   "metadata": {},
   "outputs": [],
   "source": []
  }
 ],
 "metadata": {
  "kernelspec": {
   "display_name": "Python 3 (ipykernel)",
   "language": "python",
   "name": "python3"
  },
  "language_info": {
   "codemirror_mode": {
    "name": "ipython",
    "version": 3
   },
   "file_extension": ".py",
   "mimetype": "text/x-python",
   "name": "python",
   "nbconvert_exporter": "python",
   "pygments_lexer": "ipython3",
   "version": "3.11.4"
  }
 },
 "nbformat": 4,
 "nbformat_minor": 5
}
