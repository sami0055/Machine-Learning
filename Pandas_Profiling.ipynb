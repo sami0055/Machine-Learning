{
 "cells": [
  {
   "cell_type": "markdown",
   "id": "16b81d20",
   "metadata": {},
   "source": [
    "\n",
    "# Pandas Profiling\n",
    "🦊 `Notebook by` [Md.Samiul Alim](https://github.com/sami0055)\n",
    "\n",
    "😋  `Machine Learning Source Codes` [GitHub](https://github.com/sami0055/Machine-Learning)\n"
   ]
  },
  {
   "cell_type": "code",
   "execution_count": 1,
   "id": "81814305",
   "metadata": {},
   "outputs": [],
   "source": [
    "import pandas as pd"
   ]
  },
  {
   "cell_type": "code",
   "execution_count": 2,
   "id": "428f05dc",
   "metadata": {},
   "outputs": [],
   "source": [
    "df=pd.read_csv('happydata.csv')"
   ]
  },
  {
   "cell_type": "code",
   "execution_count": 3,
   "id": "a1a094d0",
   "metadata": {},
   "outputs": [
    {
     "name": "stdout",
     "output_type": "stream",
     "text": [
      "<class 'pandas.core.frame.DataFrame'>\n",
      "RangeIndex: 143 entries, 0 to 142\n",
      "Data columns (total 7 columns):\n",
      " #   Column         Non-Null Count  Dtype\n",
      "---  ------         --------------  -----\n",
      " 0   infoavail      143 non-null    int64\n",
      " 1   housecost      143 non-null    int64\n",
      " 2   schoolquality  143 non-null    int64\n",
      " 3   policetrust    143 non-null    int64\n",
      " 4   streetquality  143 non-null    int64\n",
      " 5   ëvents         143 non-null    int64\n",
      " 6   happy          143 non-null    int64\n",
      "dtypes: int64(7)\n",
      "memory usage: 7.9 KB\n"
     ]
    }
   ],
   "source": [
    "df.info()"
   ]
  },
  {
   "cell_type": "code",
   "execution_count": 7,
   "id": "cb33e713",
   "metadata": {},
   "outputs": [
    {
     "name": "stdout",
     "output_type": "stream",
     "text": [
      "Collecting ydata-profiling\n",
      "  Downloading ydata_profiling-4.6.4-py2.py3-none-any.whl (357 kB)\n",
      "     ---------------------------------------- 0.0/357.8 kB ? eta -:--:--\n",
      "     --- --------------------------------- 30.7/357.8 kB 660.6 kB/s eta 0:00:01\n",
      "     --- --------------------------------- 30.7/357.8 kB 660.6 kB/s eta 0:00:01\n",
      "     -------- ---------------------------- 81.9/357.8 kB 573.4 kB/s eta 0:00:01\n",
      "     ----------- ------------------------ 112.6/357.8 kB 731.4 kB/s eta 0:00:01\n",
      "     ---------------------- ------------- 225.3/357.8 kB 919.0 kB/s eta 0:00:01\n",
      "     ------------------------- ---------- 256.0/357.8 kB 874.6 kB/s eta 0:00:01\n",
      "     --------------------------------- -- 337.9/357.8 kB 999.0 kB/s eta 0:00:01\n",
      "     -------------------------------------- 357.8/357.8 kB 1.0 MB/s eta 0:00:00\n",
      "Requirement already satisfied: scipy<1.12,>=1.4.1 in e:\\anacondapython\\lib\\site-packages (from ydata-profiling) (1.10.1)\n",
      "Requirement already satisfied: pandas!=1.4.0,<3,>1.1 in e:\\anacondapython\\lib\\site-packages (from ydata-profiling) (1.5.3)\n",
      "Requirement already satisfied: matplotlib<3.9,>=3.2 in e:\\anacondapython\\lib\\site-packages (from ydata-profiling) (3.7.1)\n",
      "Requirement already satisfied: pydantic>=2 in e:\\anacondapython\\lib\\site-packages (from ydata-profiling) (2.5.3)\n",
      "Requirement already satisfied: PyYAML<6.1,>=5.0.0 in c:\\users\\sami\\appdata\\roaming\\python\\python311\\site-packages (from ydata-profiling) (6.0)\n",
      "Requirement already satisfied: jinja2<3.2,>=2.11.1 in c:\\users\\sami\\appdata\\roaming\\python\\python311\\site-packages (from ydata-profiling) (3.1.2)\n",
      "Collecting visions[type_image_path]==0.7.5\n",
      "  Downloading visions-0.7.5-py3-none-any.whl (102 kB)\n",
      "     ---------------------------------------- 0.0/102.7 kB ? eta -:--:--\n",
      "     -------------------------------------- 102.7/102.7 kB 5.8 MB/s eta 0:00:00\n",
      "Requirement already satisfied: numpy<1.26,>=1.16.0 in c:\\users\\sami\\appdata\\roaming\\python\\python311\\site-packages (from ydata-profiling) (1.24.3)\n",
      "Requirement already satisfied: htmlmin==0.1.12 in e:\\anacondapython\\lib\\site-packages (from ydata-profiling) (0.1.12)\n",
      "Requirement already satisfied: phik<0.13,>=0.11.1 in e:\\anacondapython\\lib\\site-packages (from ydata-profiling) (0.12.3)\n",
      "Requirement already satisfied: requests<3,>=2.24.0 in c:\\users\\sami\\appdata\\roaming\\python\\python311\\site-packages (from ydata-profiling) (2.28.2)\n",
      "Requirement already satisfied: tqdm<5,>=4.48.2 in e:\\anacondapython\\lib\\site-packages (from ydata-profiling) (4.65.0)\n",
      "Requirement already satisfied: seaborn<0.13,>=0.10.1 in e:\\anacondapython\\lib\\site-packages (from ydata-profiling) (0.12.2)\n",
      "Requirement already satisfied: multimethod<2,>=1.4 in e:\\anacondapython\\lib\\site-packages (from ydata-profiling) (1.10)\n",
      "Requirement already satisfied: statsmodels<1,>=0.13.2 in e:\\anacondapython\\lib\\site-packages (from ydata-profiling) (0.14.0)\n",
      "Collecting typeguard<5,>=4.1.2\n",
      "  Downloading typeguard-4.1.5-py3-none-any.whl (34 kB)\n",
      "Requirement already satisfied: imagehash==4.3.1 in e:\\anacondapython\\lib\\site-packages (from ydata-profiling) (4.3.1)\n",
      "Collecting wordcloud>=1.9.1\n",
      "  Downloading wordcloud-1.9.3-cp311-cp311-win_amd64.whl (300 kB)\n",
      "     ---------------------------------------- 0.0/300.2 kB ? eta -:--:--\n",
      "     -------------------------------- ----- 256.0/300.2 kB 5.2 MB/s eta 0:00:01\n",
      "     -------------------------------- ----- 256.0/300.2 kB 5.2 MB/s eta 0:00:01\n",
      "     -------------------------------------- 300.2/300.2 kB 2.1 MB/s eta 0:00:00\n",
      "Collecting dacite>=1.8\n",
      "  Downloading dacite-1.8.1-py3-none-any.whl (14 kB)\n",
      "Requirement already satisfied: numba<0.59.0,>=0.56.0 in e:\\anacondapython\\lib\\site-packages (from ydata-profiling) (0.57.0)\n",
      "Requirement already satisfied: PyWavelets in e:\\anacondapython\\lib\\site-packages (from imagehash==4.3.1->ydata-profiling) (1.4.1)\n",
      "Requirement already satisfied: pillow in e:\\anacondapython\\lib\\site-packages (from imagehash==4.3.1->ydata-profiling) (9.4.0)\n",
      "Requirement already satisfied: attrs>=19.3.0 in c:\\users\\sami\\appdata\\roaming\\python\\python311\\site-packages (from visions[type_image_path]==0.7.5->ydata-profiling) (22.2.0)\n",
      "Requirement already satisfied: networkx>=2.4 in e:\\anacondapython\\lib\\site-packages (from visions[type_image_path]==0.7.5->ydata-profiling) (3.1)\n",
      "Requirement already satisfied: tangled-up-in-unicode>=0.0.4 in e:\\anacondapython\\lib\\site-packages (from visions[type_image_path]==0.7.5->ydata-profiling) (0.2.0)\n",
      "Requirement already satisfied: MarkupSafe>=2.0 in c:\\users\\sami\\appdata\\roaming\\python\\python311\\site-packages (from jinja2<3.2,>=2.11.1->ydata-profiling) (2.1.2)\n",
      "Requirement already satisfied: contourpy>=1.0.1 in e:\\anacondapython\\lib\\site-packages (from matplotlib<3.9,>=3.2->ydata-profiling) (1.0.5)\n",
      "Requirement already satisfied: cycler>=0.10 in e:\\anacondapython\\lib\\site-packages (from matplotlib<3.9,>=3.2->ydata-profiling) (0.11.0)\n",
      "Requirement already satisfied: fonttools>=4.22.0 in e:\\anacondapython\\lib\\site-packages (from matplotlib<3.9,>=3.2->ydata-profiling) (4.25.0)\n",
      "Requirement already satisfied: kiwisolver>=1.0.1 in e:\\anacondapython\\lib\\site-packages (from matplotlib<3.9,>=3.2->ydata-profiling) (1.4.4)\n",
      "Requirement already satisfied: packaging>=20.0 in c:\\users\\sami\\appdata\\roaming\\python\\python311\\site-packages (from matplotlib<3.9,>=3.2->ydata-profiling) (23.0)\n",
      "Requirement already satisfied: pyparsing>=2.3.1 in e:\\anacondapython\\lib\\site-packages (from matplotlib<3.9,>=3.2->ydata-profiling) (3.0.9)\n",
      "Requirement already satisfied: python-dateutil>=2.7 in c:\\users\\sami\\appdata\\roaming\\python\\python311\\site-packages (from matplotlib<3.9,>=3.2->ydata-profiling) (2.8.2)\n",
      "Requirement already satisfied: llvmlite<0.41,>=0.40.0dev0 in e:\\anacondapython\\lib\\site-packages (from numba<0.59.0,>=0.56.0->ydata-profiling) (0.40.0)\n",
      "Requirement already satisfied: pytz>=2020.1 in c:\\users\\sami\\appdata\\roaming\\python\\python311\\site-packages (from pandas!=1.4.0,<3,>1.1->ydata-profiling) (2022.7.1)\n",
      "Requirement already satisfied: joblib>=0.14.1 in e:\\anacondapython\\lib\\site-packages (from phik<0.13,>=0.11.1->ydata-profiling) (1.1.1)\n",
      "Requirement already satisfied: annotated-types>=0.4.0 in e:\\anacondapython\\lib\\site-packages (from pydantic>=2->ydata-profiling) (0.6.0)\n",
      "Requirement already satisfied: pydantic-core==2.14.6 in e:\\anacondapython\\lib\\site-packages (from pydantic>=2->ydata-profiling) (2.14.6)\n",
      "Requirement already satisfied: typing-extensions>=4.6.1 in e:\\anacondapython\\lib\\site-packages (from pydantic>=2->ydata-profiling) (4.7.1)\n",
      "Requirement already satisfied: charset-normalizer<4,>=2 in c:\\users\\sami\\appdata\\roaming\\python\\python311\\site-packages (from requests<3,>=2.24.0->ydata-profiling) (3.0.1)\n",
      "Requirement already satisfied: idna<4,>=2.5 in c:\\users\\sami\\appdata\\roaming\\python\\python311\\site-packages (from requests<3,>=2.24.0->ydata-profiling) (3.4)\n",
      "Requirement already satisfied: urllib3<1.27,>=1.21.1 in c:\\users\\sami\\appdata\\roaming\\python\\python311\\site-packages (from requests<3,>=2.24.0->ydata-profiling) (1.26.14)\n",
      "Requirement already satisfied: certifi>=2017.4.17 in c:\\users\\sami\\appdata\\roaming\\python\\python311\\site-packages (from requests<3,>=2.24.0->ydata-profiling) (2022.12.7)\n",
      "Requirement already satisfied: patsy>=0.5.2 in e:\\anacondapython\\lib\\site-packages (from statsmodels<1,>=0.13.2->ydata-profiling) (0.5.3)\n",
      "Requirement already satisfied: colorama in c:\\users\\sami\\appdata\\roaming\\python\\python311\\site-packages (from tqdm<5,>=4.48.2->ydata-profiling) (0.4.6)\n",
      "Requirement already satisfied: six in c:\\users\\sami\\appdata\\roaming\\python\\python311\\site-packages (from patsy>=0.5.2->statsmodels<1,>=0.13.2->ydata-profiling) (1.16.0)\n",
      "Installing collected packages: typeguard, dacite, wordcloud, visions, ydata-profiling\n",
      "  Attempting uninstall: visions\n",
      "    Found existing installation: visions 0.7.4\n",
      "    Uninstalling visions-0.7.4:\n",
      "      Successfully uninstalled visions-0.7.4\n",
      "Successfully installed dacite-1.8.1 typeguard-4.1.5 visions-0.7.5 wordcloud-1.9.3 ydata-profiling-4.6.4\n"
     ]
    },
    {
     "name": "stderr",
     "output_type": "stream",
     "text": [
      "ERROR: pip's dependency resolver does not currently take into account all the packages that are installed. This behaviour is the source of the following dependency conflicts.\n",
      "pandas-profiling 3.2.0 requires visions[type_image_path]==0.7.4, but you have visions 0.7.5 which is incompatible.\n",
      "\n",
      "[notice] A new release of pip is available: 23.0 -> 23.3.2\n",
      "[notice] To update, run: python.exe -m pip install --upgrade pip\n"
     ]
    }
   ],
   "source": [
    "!pip install ydata-profiling"
   ]
  },
  {
   "cell_type": "code",
   "execution_count": 9,
   "id": "10b856bb",
   "metadata": {},
   "outputs": [
    {
     "name": "stderr",
     "output_type": "stream",
     "text": [
      "C:\\Users\\SAMI\\AppData\\Local\\Temp\\ipykernel_944\\2720139596.py:1: DeprecationWarning: `import pandas_profiling` is going to be deprecated by April 1st. Please use `import ydata_profiling` instead.\n",
      "  from pandas_profiling import ProfileReport\n",
      "E:\\AnacondaPython\\Lib\\site-packages\\ydata_profiling\\profile_report.py:354: UserWarning: Try running command: 'pip install --upgrade Pillow' to avoid ValueError\n",
      "  warnings.warn(\n"
     ]
    },
    {
     "data": {
      "application/vnd.jupyter.widget-view+json": {
       "model_id": "147b29f76dd443118868f223d736c55f",
       "version_major": 2,
       "version_minor": 0
      },
      "text/plain": [
       "Summarize dataset:   0%|          | 0/5 [00:00<?, ?it/s]"
      ]
     },
     "metadata": {},
     "output_type": "display_data"
    },
    {
     "data": {
      "application/vnd.jupyter.widget-view+json": {
       "model_id": "13e564957bf1416eb74cea0c2a42a05a",
       "version_major": 2,
       "version_minor": 0
      },
      "text/plain": [
       "Generate report structure:   0%|          | 0/1 [00:00<?, ?it/s]"
      ]
     },
     "metadata": {},
     "output_type": "display_data"
    },
    {
     "data": {
      "application/vnd.jupyter.widget-view+json": {
       "model_id": "0c3cb1e3b97249feaebadfcc18ace276",
       "version_major": 2,
       "version_minor": 0
      },
      "text/plain": [
       "Render HTML:   0%|          | 0/1 [00:00<?, ?it/s]"
      ]
     },
     "metadata": {},
     "output_type": "display_data"
    },
    {
     "data": {
      "application/vnd.jupyter.widget-view+json": {
       "model_id": "b3c207a6e6f748369a9f3cf4fd0add2a",
       "version_major": 2,
       "version_minor": 0
      },
      "text/plain": [
       "Export report to file:   0%|          | 0/1 [00:00<?, ?it/s]"
      ]
     },
     "metadata": {},
     "output_type": "display_data"
    }
   ],
   "source": [
    "from pandas_profiling import ProfileReport\n",
    "\n",
    "profile = ProfileReport(df,title='happy')\n",
    "profile.to_file(output_file='happy_dataset_report.html')"
   ]
  },
  {
   "cell_type": "code",
   "execution_count": 10,
   "id": "74f9df32",
   "metadata": {},
   "outputs": [],
   "source": [
    "df2=pd.read_csv(\"diabetes.csv\")"
   ]
  },
  {
   "cell_type": "code",
   "execution_count": 11,
   "id": "85a26bcd",
   "metadata": {},
   "outputs": [
    {
     "name": "stdout",
     "output_type": "stream",
     "text": [
      "<class 'pandas.core.frame.DataFrame'>\n",
      "RangeIndex: 143 entries, 0 to 142\n",
      "Data columns (total 7 columns):\n",
      " #   Column         Non-Null Count  Dtype\n",
      "---  ------         --------------  -----\n",
      " 0   infoavail      143 non-null    int64\n",
      " 1   housecost      143 non-null    int64\n",
      " 2   schoolquality  143 non-null    int64\n",
      " 3   policetrust    143 non-null    int64\n",
      " 4   streetquality  143 non-null    int64\n",
      " 5   ëvents         143 non-null    int64\n",
      " 6   happy          143 non-null    int64\n",
      "dtypes: int64(7)\n",
      "memory usage: 7.9 KB\n"
     ]
    }
   ],
   "source": [
    "df.info()"
   ]
  },
  {
   "cell_type": "code",
   "execution_count": 12,
   "id": "483d92f4",
   "metadata": {},
   "outputs": [],
   "source": [
    "from pandas_profiling import ProfileReport"
   ]
  },
  {
   "cell_type": "code",
   "execution_count": 13,
   "id": "f06b3d6c",
   "metadata": {},
   "outputs": [
    {
     "name": "stderr",
     "output_type": "stream",
     "text": [
      "E:\\AnacondaPython\\Lib\\site-packages\\ydata_profiling\\profile_report.py:354: UserWarning: Try running command: 'pip install --upgrade Pillow' to avoid ValueError\n",
      "  warnings.warn(\n"
     ]
    },
    {
     "data": {
      "application/vnd.jupyter.widget-view+json": {
       "model_id": "52107be673dd4474b07d9ec62bcdd432",
       "version_major": 2,
       "version_minor": 0
      },
      "text/plain": [
       "Summarize dataset:   0%|          | 0/5 [00:00<?, ?it/s]"
      ]
     },
     "metadata": {},
     "output_type": "display_data"
    },
    {
     "data": {
      "application/vnd.jupyter.widget-view+json": {
       "model_id": "d3ab126479bc4a15a7279120856ba858",
       "version_major": 2,
       "version_minor": 0
      },
      "text/plain": [
       "Generate report structure:   0%|          | 0/1 [00:00<?, ?it/s]"
      ]
     },
     "metadata": {},
     "output_type": "display_data"
    },
    {
     "data": {
      "application/vnd.jupyter.widget-view+json": {
       "model_id": "cfe5ff147f7041f3b359ab5a9a895a6a",
       "version_major": 2,
       "version_minor": 0
      },
      "text/plain": [
       "Render HTML:   0%|          | 0/1 [00:00<?, ?it/s]"
      ]
     },
     "metadata": {},
     "output_type": "display_data"
    },
    {
     "data": {
      "application/vnd.jupyter.widget-view+json": {
       "model_id": "e138bd9525e24d24870befb863de5a8a",
       "version_major": 2,
       "version_minor": 0
      },
      "text/plain": [
       "Export report to file:   0%|          | 0/1 [00:00<?, ?it/s]"
      ]
     },
     "metadata": {},
     "output_type": "display_data"
    }
   ],
   "source": [
    "profile=ProfileReport(df2)\n",
    "profile.to_file(\"diabetes.html\")"
   ]
  },
  {
   "cell_type": "code",
   "execution_count": null,
   "id": "58dca8af",
   "metadata": {},
   "outputs": [],
   "source": []
  }
 ],
 "metadata": {
  "kernelspec": {
   "display_name": "Python 3 (ipykernel)",
   "language": "python",
   "name": "python3"
  },
  "language_info": {
   "codemirror_mode": {
    "name": "ipython",
    "version": 3
   },
   "file_extension": ".py",
   "mimetype": "text/x-python",
   "name": "python",
   "nbconvert_exporter": "python",
   "pygments_lexer": "ipython3",
   "version": "3.11.4"
  }
 },
 "nbformat": 4,
 "nbformat_minor": 5
}
