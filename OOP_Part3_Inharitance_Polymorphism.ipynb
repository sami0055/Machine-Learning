{
 "cells": [
  {
   "cell_type": "code",
   "execution_count": null,
   "id": "90fe46e4",
   "metadata": {},
   "outputs": [],
   "source": []
  },
  {
   "cell_type": "markdown",
   "id": "c36ccdfa",
   "metadata": {},
   "source": [
    "# Aggregation(Has-A relationship)"
   ]
  },
  {
   "cell_type": "code",
   "execution_count": 5,
   "id": "9d6addbf",
   "metadata": {},
   "outputs": [],
   "source": [
    "class Customer:\n",
    "    def __init__(self,name,gender,address):\n",
    "        self.name=name\n",
    "        self.gender=gender\n",
    "        self.address=address\n",
    "    def print_address(self):\n",
    "        print(self.address.get_city(),self.address.pin,self.address.state)\n",
    "    def edit_profile(self,new_name,city,pin,state):\n",
    "        self.name=new_name\n",
    "        self.address.edit_address(city,pin,state)\n",
    "class Address:\n",
    "    def __init__(self,city,pin,state):\n",
    "        self.__city=city\n",
    "        self.pin=pin\n",
    "        self.state=state\n",
    "    def get_city(self):\n",
    "        return self.__city\n",
    "    def edit_address(self,new_city,new_pin,new_state):\n",
    "        self.__city=new_city\n",
    "        self.pin=new_pin\n",
    "        self.state=new_state\n",
    "\n",
    "add1=Address('Dhaka',244,'Bangladesh')\n",
    "cust=Customer('Sami','Male',add1)"
   ]
  },
  {
   "cell_type": "code",
   "execution_count": 6,
   "id": "9c31d8b3",
   "metadata": {},
   "outputs": [
    {
     "name": "stdout",
     "output_type": "stream",
     "text": [
      "Dhaka 244 Bangladesh\n"
     ]
    }
   ],
   "source": [
    "cust.print_address()"
   ]
  },
  {
   "cell_type": "code",
   "execution_count": 7,
   "id": "0503252a",
   "metadata": {},
   "outputs": [],
   "source": [
    "cust.edit_profile('samiul alim','Cumilla',1234,'BD')"
   ]
  },
  {
   "cell_type": "code",
   "execution_count": 8,
   "id": "2e3a8d68",
   "metadata": {},
   "outputs": [
    {
     "name": "stdout",
     "output_type": "stream",
     "text": [
      "Cumilla 1234 BD\n"
     ]
    }
   ],
   "source": [
    "cust.print_address()"
   ]
  },
  {
   "cell_type": "markdown",
   "id": "3a8b6da3",
   "metadata": {},
   "source": [
    "### Inheritance\n",
    "\n",
    "- What is inheritance\n",
    "- Example\n",
    "- What gets inherited?"
   ]
  },
  {
   "cell_type": "code",
   "execution_count": 9,
   "id": "1e14d6af",
   "metadata": {},
   "outputs": [],
   "source": [
    "# Inheritance and its benefits"
   ]
  },
  {
   "cell_type": "code",
   "execution_count": 10,
   "id": "eecb44d6",
   "metadata": {},
   "outputs": [],
   "source": [
    "#Example\n",
    "#Parent\n",
    "class User:\n",
    "    def __init__(self):\n",
    "        self.name=\"Sami\"\n",
    "        self.gender=\"male\"\n",
    "    def login(self):\n",
    "        print(\"Logged in\")\n",
    "\n",
    "class Student(User):\n",
    "    def __init__(self):\n",
    "        self.rollno=100\n",
    "    def enroll(self):\n",
    "        print(\"Enroll into the course\")\n",
    "\n",
    "u=User()\n",
    "s=Student()"
   ]
  },
  {
   "cell_type": "code",
   "execution_count": 15,
   "id": "ae727306",
   "metadata": {},
   "outputs": [
    {
     "name": "stdout",
     "output_type": "stream",
     "text": [
      "Sami\n",
      "Logged in\n",
      "Enroll into the course\n"
     ]
    }
   ],
   "source": [
    "print(u.name)\n",
    "s.login()\n",
    "s.enroll()"
   ]
  },
  {
   "cell_type": "code",
   "execution_count": 20,
   "id": "a53b48ea",
   "metadata": {},
   "outputs": [],
   "source": [
    "#Example\n",
    "#Parent\n",
    "class User:\n",
    "    def __init__(self):\n",
    "        self.name=\"Sami\"\n",
    "        self.gender=\"male\"\n",
    "    def login(self):\n",
    "        print(\"Logged in\")\n",
    "\n",
    "class Student(User):\n",
    "    def __init__(self):\n",
    "        super()\n",
    "        self.rollno=100\n",
    "    def enroll(self):\n",
    "        print(\"Enroll into the course\")\n",
    "\n",
    "u=User()\n",
    "s=Student()"
   ]
  },
  {
   "cell_type": "code",
   "execution_count": 21,
   "id": "f69bd263",
   "metadata": {},
   "outputs": [
    {
     "ename": "AttributeError",
     "evalue": "'Student' object has no attribute 'name'",
     "output_type": "error",
     "traceback": [
      "\u001b[1;31m---------------------------------------------------------------------------\u001b[0m",
      "\u001b[1;31mAttributeError\u001b[0m                            Traceback (most recent call last)",
      "Cell \u001b[1;32mIn[21], line 1\u001b[0m\n\u001b[1;32m----> 1\u001b[0m \u001b[38;5;28mprint\u001b[39m(\u001b[43ms\u001b[49m\u001b[38;5;241;43m.\u001b[39;49m\u001b[43mname\u001b[49m)\n",
      "\u001b[1;31mAttributeError\u001b[0m: 'Student' object has no attribute 'name'"
     ]
    }
   ],
   "source": [
    "print(s.name)"
   ]
  },
  {
   "cell_type": "markdown",
   "id": "05bb1c56",
   "metadata": {},
   "source": [
    "##### What gets inherited?\n",
    "\n",
    "- Constructor\n",
    "- Non Private Attributes\n",
    "- Non Private Methods"
   ]
  },
  {
   "cell_type": "code",
   "execution_count": 23,
   "id": "7421ca25",
   "metadata": {},
   "outputs": [
    {
     "name": "stdout",
     "output_type": "stream",
     "text": [
      "Inside phone constructor\n",
      "Buying a phone\n"
     ]
    }
   ],
   "source": [
    "# constructor example\n",
    "\n",
    "class Phone:\n",
    "    def __init__(self, price, brand, camera):\n",
    "        print (\"Inside phone constructor\")\n",
    "        self.price = price\n",
    "        self.brand = brand\n",
    "        self.camera = camera\n",
    "\n",
    "    def buy(self):\n",
    "        print (\"Buying a phone\")\n",
    "\n",
    "class SmartPhone(Phone):\n",
    "    pass\n",
    "\n",
    "s=SmartPhone(20000, \"Apple\", 13)\n",
    "s.buy()"
   ]
  },
  {
   "cell_type": "code",
   "execution_count": 24,
   "id": "7b0d1d43",
   "metadata": {},
   "outputs": [],
   "source": [
    "class Phone:\n",
    "    def __inti__(self,price,brand,camera):\n",
    "        print(\"Inside phone constructor\")\n",
    "        self.__price=price\n",
    "        self.brand=brand\n",
    "        self.camera=camere\n",
    "class SmartPhone(Phone):\n",
    "    def __init__(self,os,ram):\n",
    "        self.os=os\n",
    "        self.ram=ram\n",
    "        print(\"Inside smartphone constructor\")\n",
    "        "
   ]
  },
  {
   "cell_type": "code",
   "execution_count": 26,
   "id": "f25896a0",
   "metadata": {},
   "outputs": [
    {
     "name": "stdout",
     "output_type": "stream",
     "text": [
      "Inside smartphone constructor\n"
     ]
    },
    {
     "ename": "AttributeError",
     "evalue": "'SmartPhone' object has no attribute 'brand'",
     "output_type": "error",
     "traceback": [
      "\u001b[1;31m---------------------------------------------------------------------------\u001b[0m",
      "\u001b[1;31mAttributeError\u001b[0m                            Traceback (most recent call last)",
      "Cell \u001b[1;32mIn[26], line 2\u001b[0m\n\u001b[0;32m      1\u001b[0m s\u001b[38;5;241m=\u001b[39mSmartPhone(\u001b[38;5;124m\"\u001b[39m\u001b[38;5;124mAndroid\u001b[39m\u001b[38;5;124m\"\u001b[39m,\u001b[38;5;241m2\u001b[39m)\n\u001b[1;32m----> 2\u001b[0m \u001b[43ms\u001b[49m\u001b[38;5;241;43m.\u001b[39;49m\u001b[43mbrand\u001b[49m \u001b[38;5;66;03m# Will give error as its only initialize child constructor\u001b[39;00m\n",
      "\u001b[1;31mAttributeError\u001b[0m: 'SmartPhone' object has no attribute 'brand'"
     ]
    }
   ],
   "source": [
    "s=SmartPhone(\"Android\",2)\n",
    "s.brand # Will give error as its only initialize child constructor"
   ]
  },
  {
   "cell_type": "markdown",
   "id": "13304547",
   "metadata": {},
   "source": [
    "### Super keyword"
   ]
  },
  {
   "cell_type": "code",
   "execution_count": 7,
   "id": "579cc26b",
   "metadata": {},
   "outputs": [
    {
     "name": "stdout",
     "output_type": "stream",
     "text": [
      "Inside phone constructor\n",
      "Buying a smartphone\n",
      "Buying a phone\n"
     ]
    }
   ],
   "source": [
    "# can super access parent ka data?\n",
    "# using super outside the class\n",
    "class Phone:\n",
    "    def __init__(self, price, brand, camera):\n",
    "        print (\"Inside phone constructor\")\n",
    "        self.__price = price\n",
    "        self.brand = brand\n",
    "        self.camera = camera\n",
    "\n",
    "    def buy(self):\n",
    "        print (\"Buying a phone\")\n",
    "\n",
    "class SmartPhone(Phone):\n",
    "    def buy(self):\n",
    "        print (\"Buying a smartphone\")\n",
    "        # syntax to call parent ka buy method\n",
    "        super().buy()\n",
    "\n",
    "s=SmartPhone(20000, \"Apple\", 13)\n",
    "\n",
    "s.buy()"
   ]
  },
  {
   "cell_type": "code",
   "execution_count": 12,
   "id": "1e0e0390",
   "metadata": {},
   "outputs": [
    {
     "name": "stdout",
     "output_type": "stream",
     "text": [
      "Inside smartphone constructor\n",
      "Inside phone constructor\n",
      "Inside smartphone constructor\n",
      "Android\n",
      "Samsung\n"
     ]
    }
   ],
   "source": [
    "# super -> constuctor\n",
    "class Phone:\n",
    "    def __init__(self, price, brand, camera):\n",
    "        print (\"Inside phone constructor\")\n",
    "        self.__price = price\n",
    "        self.brand = brand\n",
    "        self.camera = camera\n",
    "\n",
    "class SmartPhone(Phone):\n",
    "    def __init__(self, price, brand, camera, os, ram):\n",
    "        print('Inside smartphone constructor')\n",
    "        super().__init__(price, brand, camera)\n",
    "        self.os = os\n",
    "        self.ram = ram\n",
    "        print (\"Inside smartphone constructor\")\n",
    "\n",
    "s=SmartPhone(20000, \"Samsung\", 12, \"Android\", 2)\n",
    "\n",
    "print(s.os)\n",
    "print(s.brand)"
   ]
  },
  {
   "cell_type": "code",
   "execution_count": 13,
   "id": "adc75181",
   "metadata": {},
   "outputs": [
    {
     "name": "stdout",
     "output_type": "stream",
     "text": [
      "Inside phone constructor\n",
      "Buying a phone\n",
      "Product customer review\n"
     ]
    }
   ],
   "source": [
    "# multilevel\n",
    "class Product:\n",
    "    def review(self):\n",
    "        print (\"Product customer review\")\n",
    "\n",
    "class Phone(Product):\n",
    "    def __init__(self, price, brand, camera):\n",
    "        print (\"Inside phone constructor\")\n",
    "        self.__price = price\n",
    "        self.brand = brand\n",
    "        self.camera = camera\n",
    "\n",
    "    def buy(self):\n",
    "        print (\"Buying a phone\")\n",
    "\n",
    "class SmartPhone(Phone):\n",
    "    pass\n",
    "\n",
    "s=SmartPhone(20000, \"Apple\", 12)\n",
    "\n",
    "s.buy()\n",
    "s.review()"
   ]
  },
  {
   "cell_type": "code",
   "execution_count": 14,
   "id": "415297ba",
   "metadata": {},
   "outputs": [
    {
     "name": "stdout",
     "output_type": "stream",
     "text": [
      "Inside phone constructor\n",
      "Buying a phone\n",
      "Inside phone constructor\n",
      "Buying a phone\n"
     ]
    }
   ],
   "source": [
    "# Hierarchical\n",
    "class Phone:\n",
    "    def __init__(self, price, brand, camera):\n",
    "        print (\"Inside phone constructor\")\n",
    "        self.__price = price\n",
    "        self.brand = brand\n",
    "        self.camera = camera\n",
    "\n",
    "    def buy(self):\n",
    "        print (\"Buying a phone\")\n",
    "\n",
    "class SmartPhone(Phone):\n",
    "    pass\n",
    "\n",
    "class FeaturePhone(Phone):\n",
    "    pass\n",
    "\n",
    "SmartPhone(1000,\"Apple\",\"13px\").buy()\n",
    "FeaturePhone(10,\"Lava\",\"1px\").buy()"
   ]
  },
  {
   "cell_type": "code",
   "execution_count": 15,
   "id": "5d713a80",
   "metadata": {},
   "outputs": [
    {
     "name": "stdout",
     "output_type": "stream",
     "text": [
      "Inside phone constructor\n",
      "Buying a phone\n",
      "Customer review\n"
     ]
    }
   ],
   "source": [
    "# Multiple\n",
    "class Phone:\n",
    "    def __init__(self, price, brand, camera):\n",
    "        print (\"Inside phone constructor\")\n",
    "        self.__price = price\n",
    "        self.brand = brand\n",
    "        self.camera = camera\n",
    "\n",
    "    def buy(self):\n",
    "        print (\"Buying a phone\")\n",
    "\n",
    "class Product:\n",
    "    def review(self):\n",
    "        print (\"Customer review\")\n",
    "\n",
    "class SmartPhone(Phone, Product):\n",
    "    pass\n",
    "\n",
    "s=SmartPhone(20000, \"Apple\", 12)\n",
    "\n",
    "s.buy()\n",
    "s.review()\n"
   ]
  },
  {
   "cell_type": "markdown",
   "id": "7e1a9193",
   "metadata": {},
   "source": [
    "### Polymorphism\n",
    "\n",
    "- Method Overriding\n",
    "- Method Overloading\n",
    "- Operator Overloading"
   ]
  },
  {
   "cell_type": "code",
   "execution_count": 19,
   "id": "fb0c92ba",
   "metadata": {},
   "outputs": [
    {
     "name": "stdout",
     "output_type": "stream",
     "text": [
      "12.5664\n",
      "6\n"
     ]
    }
   ],
   "source": [
    "# In python method overloading is not allowed directly we can achive it via ths method\n",
    "\n",
    "class Shape:\n",
    "    def area(self,a,b=0):\n",
    "        if b==0:\n",
    "            return 3.1416*(a**2)\n",
    "        else:\n",
    "            return a*b\n",
    "s=Shape()\n",
    "print(s.area(2))\n",
    "print(s.area(2,3))\n",
    "    "
   ]
  },
  {
   "cell_type": "markdown",
   "id": "27d2ab49",
   "metadata": {},
   "source": [
    "### Abstraction"
   ]
  },
  {
   "cell_type": "code",
   "execution_count": 25,
   "id": "516037e7",
   "metadata": {},
   "outputs": [],
   "source": [
    "from abc import ABC,abstractmethod\n",
    "class BankApp(ABC):\n",
    "    def databse(self):\n",
    "        print(\"connected to database\")\n",
    "    @abstractmethod\n",
    "    def security(self):\n",
    "        pass\n",
    "    @abstractmethod\n",
    "    def display(self):\n",
    "        pass"
   ]
  },
  {
   "cell_type": "code",
   "execution_count": 26,
   "id": "6cc24684",
   "metadata": {},
   "outputs": [],
   "source": [
    "class MobileApp(BankApp):\n",
    "    def mobile_login(self):\n",
    "        print(\"login into mobile\")\n",
    "    def security(self):\n",
    "        print(\"mobile security\")\n",
    "    def display(self):\n",
    "        print(\"display\")"
   ]
  },
  {
   "cell_type": "code",
   "execution_count": 27,
   "id": "e0ad2b65",
   "metadata": {},
   "outputs": [],
   "source": [
    "mob=MobileApp()"
   ]
  },
  {
   "cell_type": "code",
   "execution_count": 28,
   "id": "42322b49",
   "metadata": {},
   "outputs": [
    {
     "name": "stdout",
     "output_type": "stream",
     "text": [
      "mobile security\n"
     ]
    }
   ],
   "source": [
    "mob.security()"
   ]
  },
  {
   "cell_type": "code",
   "execution_count": 29,
   "id": "5a449ddd",
   "metadata": {},
   "outputs": [
    {
     "ename": "TypeError",
     "evalue": "Can't instantiate abstract class BankApp with abstract methods display, security",
     "output_type": "error",
     "traceback": [
      "\u001b[1;31m---------------------------------------------------------------------------\u001b[0m",
      "\u001b[1;31mTypeError\u001b[0m                                 Traceback (most recent call last)",
      "Cell \u001b[1;32mIn[29], line 1\u001b[0m\n\u001b[1;32m----> 1\u001b[0m obj\u001b[38;5;241m=\u001b[39m\u001b[43mBankApp\u001b[49m\u001b[43m(\u001b[49m\u001b[43m)\u001b[49m\n",
      "\u001b[1;31mTypeError\u001b[0m: Can't instantiate abstract class BankApp with abstract methods display, security"
     ]
    }
   ],
   "source": [
    "obj=BankApp()"
   ]
  },
  {
   "cell_type": "code",
   "execution_count": null,
   "id": "58f9b260",
   "metadata": {},
   "outputs": [],
   "source": []
  }
 ],
 "metadata": {
  "kernelspec": {
   "display_name": "Python 3 (ipykernel)",
   "language": "python",
   "name": "python3"
  },
  "language_info": {
   "codemirror_mode": {
    "name": "ipython",
    "version": 3
   },
   "file_extension": ".py",
   "mimetype": "text/x-python",
   "name": "python",
   "nbconvert_exporter": "python",
   "pygments_lexer": "ipython3",
   "version": "3.11.4"
  }
 },
 "nbformat": 4,
 "nbformat_minor": 5
}
